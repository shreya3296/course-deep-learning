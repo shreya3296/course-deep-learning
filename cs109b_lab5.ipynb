{
 "cells": [
  {
   "attachments": {},
   "cell_type": "markdown",
   "metadata": {},
   "source": [
    "# <img style=\"float: left; padding-right: 10px; width: 45px\" src=\"https://raw.githubusercontent.com/Harvard-IACS/2018-CS109A/master/content/styles/iacs.png\"> CS109B Introduction to Data Science\n",
    "\n",
    "## Lab 5:  Anatomy of a Neural Network, NNs /w Keras, & NN Interpretation\n",
    "\n",
    "**Harvard University**<br/>\n",
    "**Spring 2024**<br/>\n",
    "**Instructors**: Pavlos Protopapas & Alex Young<br/>\n",
    "<br/>"
   ]
  },
  {
   "attachments": {},
   "cell_type": "markdown",
   "metadata": {},
   "source": [
    "### Table of Contents\n",
    "- Part 1: Anatomy of a NN\n",
    "    - affine transformation /w weights and biases\n",
    "    - activation function\n",
    "    - hidden layers\n",
    "    - output activation\n",
    "    - Multilayer perceptron (MLP) from scratch\n",
    "    \n",
    "- Part 2: Building an NN /w Keras\n",
    "    - Defining a model with Keras `Sequential`\n",
    "    - Compiling\n",
    "    - Fitting\n",
    "    - Inspecting Training History\n",
    "    - Prediction & Evaluation\n",
    "    \n",
    "- Part 3: Further NN Adventures\n",
    "    - Multi-class Classification Example (Tabular Data)\n",
    "\n",
    "- Appendix: Interpreting Our Black Box NN\n",
    "  * Proxy Model\n",
    "  * Varying a Single Predictor\n",
    "  * Bagging Review"
   ]
  },
  {
   "cell_type": "code",
   "execution_count": 8,
   "metadata": {},
   "outputs": [],
   "source": [
    "import numpy as np\n",
    "import pandas as pd\n",
    "import matplotlib\n",
    "import matplotlib.pyplot as plt\n",
    "import seaborn as sns\n",
    "\n",
    "from sklearn.metrics import mean_squared_error\n",
    "\n",
    "# New!\n",
    "import tensorflow as tf\n",
    "from tensorflow.keras import layers\n",
    "from tensorflow.keras import models\n",
    "from tensorflow.keras import optimizers"
   ]
  },
  {
   "attachments": {},
   "cell_type": "markdown",
   "metadata": {},
   "source": [
    "## Part 1"
   ]
  },
  {
   "attachments": {},
   "cell_type": "markdown",
   "metadata": {},
   "source": [
    "<div class='exercise'> <b>Anatomy of a Neural Network</div>    "
   ]
  },
  {
   "attachments": {},
   "cell_type": "markdown",
   "metadata": {},
   "source": [
    "To learn about the components of a neural network, we'll attempt to model the following data as a binary classification problem."
   ]
  },
  {
   "cell_type": "code",
   "execution_count": 9,
   "metadata": {},
   "outputs": [
    {
     "data": {
      "text/html": [
       "<div>\n",
       "<style scoped>\n",
       "    .dataframe tbody tr th:only-of-type {\n",
       "        vertical-align: middle;\n",
       "    }\n",
       "\n",
       "    .dataframe tbody tr th {\n",
       "        vertical-align: top;\n",
       "    }\n",
       "\n",
       "    .dataframe thead th {\n",
       "        text-align: right;\n",
       "    }\n",
       "</style>\n",
       "<table border=\"1\" class=\"dataframe\">\n",
       "  <thead>\n",
       "    <tr style=\"text-align: right;\">\n",
       "      <th></th>\n",
       "      <th>x</th>\n",
       "      <th>y</th>\n",
       "    </tr>\n",
       "  </thead>\n",
       "  <tbody>\n",
       "    <tr>\n",
       "      <th>0</th>\n",
       "      <td>1.454849</td>\n",
       "      <td>0</td>\n",
       "    </tr>\n",
       "    <tr>\n",
       "      <th>1</th>\n",
       "      <td>-0.491639</td>\n",
       "      <td>1</td>\n",
       "    </tr>\n",
       "    <tr>\n",
       "      <th>2</th>\n",
       "      <td>0.230769</td>\n",
       "      <td>1</td>\n",
       "    </tr>\n",
       "    <tr>\n",
       "      <th>3</th>\n",
       "      <td>-1.575251</td>\n",
       "      <td>0</td>\n",
       "    </tr>\n",
       "    <tr>\n",
       "      <th>4</th>\n",
       "      <td>1.695652</td>\n",
       "      <td>0</td>\n",
       "    </tr>\n",
       "  </tbody>\n",
       "</table>\n",
       "</div>"
      ],
      "text/plain": [
       "          x  y\n",
       "0  1.454849  0\n",
       "1 -0.491639  1\n",
       "2  0.230769  1\n",
       "3 -1.575251  0\n",
       "4  1.695652  0"
      ]
     },
     "execution_count": 9,
     "metadata": {},
     "output_type": "execute_result"
    }
   ],
   "source": [
    "# show students loading x and y\n",
    "df = pd.read_csv('data/toydata.csv')\n",
    "x = df.x.values\n",
    "y = df.y.values\n",
    "df.head()"
   ]
  },
  {
   "cell_type": "code",
   "execution_count": 10,
   "metadata": {},
   "outputs": [
    {
     "data": {
      "image/png": "[encoded data removed]",
      "text/plain": [
       "<Figure size 640x480 with 1 Axes>"
      ]
     },
     "metadata": {},
     "output_type": "display_data"
    }
   ],
   "source": [
    "plt.scatter(x, y)\n",
    "plt.xlabel('x')\n",
    "plt.ylabel('y (1 or 0)')\n",
    "plt.title(\"Toy Binary Classification Data\");"
   ]
  },
  {
   "attachments": {},
   "cell_type": "markdown",
   "metadata": {},
   "source": [
    "Our modeling assumptions are:\n",
    "\n",
    "$Y \\sim Bern(p)$\n",
    "\n",
    "and\n",
    "\n",
    "$p = f(x)$\n",
    "\n",
    "That is, the probability that $Y=1$ is a function of $x$"
   ]
  },
  {
   "attachments": {},
   "cell_type": "markdown",
   "metadata": {},
   "source": [
    "<div class='exercise'> <b>Neural Networks as a Composition of Functions</div>    "
   ]
  },
  {
   "attachments": {},
   "cell_type": "markdown",
   "metadata": {},
   "source": [
    "A neural network is a composition of many simple functions. In this example our basic building block with be the **rectified linear unit**, or **ReLU**."
   ]
  },
  {
   "cell_type": "code",
   "execution_count": 11,
   "metadata": {},
   "outputs": [],
   "source": [
    "def relu(z: float) -> float :\n",
    "    return  np.maximum(0, z)\n",
    "# or \n",
    "# relu = lambda z: np.maximum(0, z)"
   ]
  },
  {
   "cell_type": "code",
   "execution_count": 12,
   "metadata": {},
   "outputs": [],
   "source": [
    "# create an input vector\n",
    "x_lin = np.linspace(-3,3,300)"
   ]
  },
  {
   "cell_type": "code",
   "execution_count": 13,
   "metadata": {},
   "outputs": [
    {
     "data": {
      "image/png": "[encoded data removed]",
      "text/plain": [
       "<Figure size 200x200 with 1 Axes>"
      ]
     },
     "metadata": {},
     "output_type": "display_data"
    }
   ],
   "source": [
    "plt.figure(figsize=(2,2))\n",
    "plt.plot(x_lin, relu(x_lin), c='r')\n",
    "plt.title('ReLU');"
   ]
  },
  {
   "cell_type": "code",
   "execution_count": 14,
   "metadata": {},
   "outputs": [
    {
     "data": {
      "image/png": "[encoded data removed]",
      "text/plain": [
       "<Figure size 640x480 with 1 Axes>"
      ]
     },
     "metadata": {},
     "output_type": "display_data"
    }
   ],
   "source": [
    "plt.plot(x_lin, relu(x_lin), c='r', label='ReLU')\n",
    "plt.scatter(x, y, label='data')\n",
    "plt.legend();"
   ]
  },
  {
   "attachments": {},
   "cell_type": "markdown",
   "metadata": {},
   "source": [
    "<div class='exercise'> <b>Affine Transformation: weights & biases</div>    "
   ]
  },
  {
   "attachments": {},
   "cell_type": "markdown",
   "metadata": {},
   "source": [
    "To better fit the data, we coud try scaling and shifting the inputs to relu.\n",
    "\n",
    "We call the scaling factor the **weight**, $w$, and the amount of the shift the **bias**, $b$."
   ]
  },
  {
   "attachments": {},
   "cell_type": "markdown",
   "metadata": {},
   "source": [
    "The scaling and shifting our input is called an **affine transformation**. We refer to the output of the affine transformation as $z$.\n",
    "\n",
    "**Q:** What is the difference between an *affine transformation* and a *linear transformation*?"
   ]
  },
  {
   "attachments": {},
   "cell_type": "markdown",
   "metadata": {},
   "source": [
    "<div class='exercise'> <b>Activation Function</div>    "
   ]
  },
  {
   "attachments": {},
   "cell_type": "markdown",
   "metadata": {},
   "source": [
    "Applying the non-linear function (relu) to the affine transformation is called **activation**."
   ]
  },
  {
   "attachments": {},
   "cell_type": "markdown",
   "metadata": {},
   "source": [
    "Relu is our **activation function**! We often refer to the output of the activation as $h$."
   ]
  },
  {
   "attachments": {},
   "cell_type": "markdown",
   "metadata": {},
   "source": [
    "<div class='exercise'> <b>One Loney Neuron</div>    "
   ]
  },
  {
   "attachments": {},
   "cell_type": "markdown",
   "metadata": {},
   "source": [
    "The affine transformation combined with the activation makes up a single **neuron** (sometimes called a 'unit')."
   ]
  },
  {
   "attachments": {},
   "cell_type": "markdown",
   "metadata": {},
   "source": [
    "<img src='img/nn1.png' width=400>\n",
    "\n",
    "\n",
    "*(Note: these diagrams show a sigmoid as the activation. We are using ReLU)*"
   ]
  },
  {
   "attachments": {},
   "cell_type": "markdown",
   "metadata": {},
   "source": [
    "- Try shifting to the left by 2\n",
    "- Try reversing the direction and shifting to the *right* by 2"
   ]
  },
  {
   "cell_type": "code",
   "execution_count": 15,
   "metadata": {},
   "outputs": [
    {
     "data": {
      "image/png": "[encoded data removed]",
      "text/plain": [
       "<Figure size 640x480 with 1 Axes>"
      ]
     },
     "metadata": {},
     "output_type": "display_data"
    }
   ],
   "source": [
    "w = -1\n",
    "b = 2\n",
    "z = w*x_lin + b\n",
    "h = relu(z)\n",
    "plt.plot(x_lin, h, c='r', label='neuron output')\n",
    "plt.scatter(x, y, label='toy data')\n",
    "plt.legend();"
   ]
  },
  {
   "attachments": {},
   "cell_type": "markdown",
   "metadata": {},
   "source": [
    "<div class='exercise'> <b>Multiple Layers: hidden & output</div>    "
   ]
  },
  {
   "attachments": {},
   "cell_type": "markdown",
   "metadata": {},
   "source": [
    "We saw that we could make two different neurons, each of which fits only *half* of the data well. Can we *combine* them in some way to get better predictions??\n",
    "\n",
    "Let's try adding them."
   ]
  },
  {
   "attachments": {},
   "cell_type": "markdown",
   "metadata": {},
   "source": [
    "<img src='img/nn2.png' width=500>"
   ]
  },
  {
   "cell_type": "code",
   "execution_count": 21,
   "metadata": {},
   "outputs": [
    {
     "data": {
      "image/png": "[encoded data removed]",
      "text/plain": [
       "<Figure size 640x480 with 1 Axes>"
      ]
     },
     "metadata": {},
     "output_type": "display_data"
    }
   ],
   "source": [
    "w1, b1 = -1, 2# ?\n",
    "w2, b2 = 1, 2# ?\n",
    "z1 = w1*x_lin + b1\n",
    "z2 = w2*x_lin + b2\n",
    "h1 = relu(z1)\n",
    "h2 = relu(z2)\n",
    "plt.plot(x_lin, h1+h2)\n",
    "plt.scatter(x, y)\n",
    "plt.title(\"Oops!\");"
   ]
  },
  {
   "attachments": {},
   "cell_type": "markdown",
   "metadata": {},
   "source": [
    "We're obviously not there yet! It looks like we might want to scale and shift $h_1$ & $h_2$ again."
   ]
  },
  {
   "attachments": {},
   "cell_type": "markdown",
   "metadata": {},
   "source": [
    "In fact, $h_1$ and $h_2$ will become inputs to a *new* **layer**, the **output layer**. Our output layer will gave a single neruon because our output is a scalar (the probability of $y=1$)."
   ]
  },
  {
   "attachments": {},
   "cell_type": "markdown",
   "metadata": {},
   "source": [
    "$h_1$ & $h_2$ are neurons in the **hidden layer**. \"Hidden\" in the sense that we don't actually observe their outputs; they are passed to the next layer as input. A NN can have *many* hidden layers.\n",
    "\n",
    "The output neuron is the **output layer** (you can also have multiple output layers, but that is a story for another time!)"
   ]
  },
  {
   "attachments": {},
   "cell_type": "markdown",
   "metadata": {},
   "source": [
    "The output neuron will need a weight & bias for *both* $h1$ and $h2$."
   ]
  },
  {
   "attachments": {},
   "cell_type": "markdown",
   "metadata": {},
   "source": [
    "It will also need its own **output activation function**!"
   ]
  },
  {
   "attachments": {},
   "cell_type": "markdown",
   "metadata": {},
   "source": [
    "<div class='exercise'> <b>Output Activation</div>    "
   ]
  },
  {
   "attachments": {},
   "cell_type": "markdown",
   "metadata": {},
   "source": [
    "<img src='img/nn3.png' width=600>"
   ]
  },
  {
   "attachments": {},
   "cell_type": "markdown",
   "metadata": {},
   "source": [
    "Because we are modeling a binary $y$, we want our output to represent the probability of $y=1$. This means that the output must be in [0,1]."
   ]
  },
  {
   "attachments": {},
   "cell_type": "markdown",
   "metadata": {},
   "source": [
    "But relu is $[0, \\infty]$! We need a different activation function for our output neuron.\n",
    "\n",
    "What function do you know that has output bounded in [0,1]?"
   ]
  },
  {
   "cell_type": "code",
   "execution_count": 22,
   "metadata": {},
   "outputs": [],
   "source": [
    "def sigmoid(z: float) -> float : \n",
    "    return 1/(1 + np.exp(-z)) "
   ]
  },
  {
   "cell_type": "code",
   "execution_count": 23,
   "metadata": {},
   "outputs": [
    {
     "data": {
      "image/png": "[encoded data removed]",
      "text/plain": [
       "<Figure size 200x200 with 1 Axes>"
      ]
     },
     "metadata": {},
     "output_type": "display_data"
    }
   ],
   "source": [
    "# plot sigmoid activation\n",
    "plt.figure(figsize=(2,2))\n",
    "plt.plot(x_lin, sigmoid(x_lin))\n",
    "plt.title('Sigmoid');"
   ]
  },
  {
   "attachments": {},
   "cell_type": "markdown",
   "metadata": {},
   "source": [
    "<div class='exercise'> <b>Constructing our First MLP (Multilayer Perceptron aka Neural Network)</div>    "
   ]
  },
  {
   "attachments": {},
   "cell_type": "markdown",
   "metadata": {},
   "source": [
    "Now all we need to do is define weights & bias for all three neurons.\n",
    "**Remember!** The output neuron needs a weight for *each* of its inputs ($h_1$ & $h_2$)"
   ]
  },
  {
   "cell_type": "code",
   "execution_count": 29,
   "metadata": {},
   "outputs": [
    {
     "data": {
      "image/png": "[encoded data removed]",
      "text/plain": [
       "<Figure size 640x480 with 1 Axes>"
      ]
     },
     "metadata": {},
     "output_type": "display_data"
    }
   ],
   "source": [
    "# hidden layer\n",
    "w1, b1 = 6, -5\n",
    "w2, b2 = -6, -5\n",
    "z1 = w1*x_lin + b1\n",
    "z2 = w2*x_lin + b2\n",
    "h1 = relu(z1)\n",
    "h2 = relu(z2)\n",
    "# output layer\n",
    "w31, w32, b3 = -2,-2,4\n",
    "z3 = w31*h1 + w32*h2 + b3\n",
    "output = sigmoid(z3)\n",
    "\n",
    "# plot predictions\n",
    "plt.plot(x_lin, output, c='r')\n",
    "plt.scatter(x, y)\n",
    "plt.xlabel('x')\n",
    "plt.ylabel('P(Y=1|x)');"
   ]
  },
  {
   "attachments": {},
   "cell_type": "markdown",
   "metadata": {},
   "source": [
    "Now let us calculate the accuracy of our predictions! \n",
    "\n",
    "Bear in mind, that what we got so far is not the prediction yet, but rather just probabilities. If a probability is above 0.5, then our prediction is 1, else our prediction is 0. \n",
    "\n",
    "🏋️ **Let us complete the code below.**\n"
   ]
  },
  {
   "cell_type": "code",
   "execution_count": 31,
   "metadata": {},
   "outputs": [
    {
     "data": {
      "text/plain": [
       "0.9400000000000006"
      ]
     },
     "execution_count": 31,
     "metadata": {},
     "output_type": "execute_result"
    }
   ],
   "source": [
    "# hidden layer\n",
    "z1 = w1*x + b1\n",
    "z2 = w2*x + b2\n",
    "h1 = relu(z1)\n",
    "h2 = relu(z2)\n",
    "# output layer\n",
    "z3 = w31*h1 + w32*h2 + b3\n",
    "p = sigmoid(z3)\n",
    "\n",
    "# output values > 0 are predicted to be 1, otherwise 0\n",
    "# your code here\n",
    "y_hat  = (p > 0.5).astype(int)\n",
    "# calculate the accurracies\n",
    "acc = sum((y_hat == y)/len(y))\n",
    "acc"
   ]
  },
  {
   "attachments": {},
   "cell_type": "markdown",
   "metadata": {},
   "source": [
    "## Part 2"
   ]
  },
  {
   "attachments": {},
   "cell_type": "markdown",
   "metadata": {},
   "source": [
    "<div class='exercise'> <b>Tensorflow & Keras</div>    "
   ]
  },
  {
   "attachments": {},
   "cell_type": "markdown",
   "metadata": {},
   "source": [
    "**Keras, Sequential:**\n",
    "\n",
    "https://keras.io/models/sequential/\n",
    "\n",
    "\n",
    "There are many powerful deep learning packages to work with neural networks like **TensorFlow** and **PyTorch**. These packages provide both the forward and back propagations, and many other other functionalities. The forward pass is used to make   predictions while the backward (back propagation)  is used to  train (optimize) a network. 'Training' refers to find the optimal parameters for a specific task. We'll talk more about optimization and back propogation next week!\n",
    "\n",
    "Keras is a high-level API that allows us to work with abstraction at the level of \"layers\" rather than the low-level representations of neural networks that you work with in TensorFlow (computational graphs).\n",
    "\n",
    "Here, we use Keras's `Sequential` Model to create a neural network for our toy binary classification problem.\\\n",
    "We'll use the same 'architecture' as above:\n",
    "- 1 hidden layer /w 2 neurons using relu activation\n",
    "- an ouput layer /w 1 neuron using sigmoid activation"
   ]
  },
  {
   "cell_type": "code",
   "execution_count": 62,
   "metadata": {},
   "outputs": [],
   "source": [
    "# import modules containing Keras classes we'll use today\n",
    "from tensorflow import keras\n",
    "from tensorflow.keras import layers\n",
    "from tensorflow.keras import models\n",
    "from tensorflow.keras import optimizers"
   ]
  },
  {
   "cell_type": "code",
   "execution_count": 69,
   "metadata": {},
   "outputs": [
    {
     "name": "stdout",
     "output_type": "stream",
     "text": [
      "Model: \"first_model\"\n",
      "_________________________________________________________________\n",
      " Layer (type)                Output Shape              Param #   \n",
      "=================================================================\n",
      " dense_12 (Dense)            (None, 2)                 4         \n",
      "                                                                 \n",
      " dense_13 (Dense)            (None, 1)                 3         \n",
      "                                                                 \n",
      "=================================================================\n",
      "Total params: 7 (28.00 Byte)\n",
      "Trainable params: 7 (28.00 Byte)\n",
      "Non-trainable params: 0 (0.00 Byte)\n",
      "_________________________________________________________________\n"
     ]
    }
   ],
   "source": [
    "keras.utils.set_random_seed(209)\n",
    "# define a sequential model called 'first_model'\n",
    "model = models.Sequential(name='first_model')\n",
    "# add a hidden layer with 2 neurons and relu activations\n",
    "# not we specify the input shape is 1D (scalar)\n",
    "model.add(layers.Dense(2,\n",
    "                       activation='relu',\n",
    "                       input_shape=(1,)))\n",
    "# add an output layer containing a single neuron with sigmoid activation\n",
    "model.add(layers.Dense(1,\n",
    "                       activation='sigmoid'))\n",
    "# display model summary\n",
    "model.summary()"
   ]
  },
  {
   "attachments": {},
   "cell_type": "markdown",
   "metadata": {},
   "source": [
    "<div class='exercise'> <b>Compiling the NN</div>\n",
    "\n",
    "    \n"
   ]
  },
  {
   "attachments": {},
   "cell_type": "markdown",
   "metadata": {},
   "source": [
    "`Model.compile(optimizer, loss, metrics, **kwargs)`\n",
    "\n",
    "https://www.tensorflow.org/api_docs/python/tf/keras/Model#compile\n",
    "\n",
    "`optimizer` - defines how the weights are updated (we'll use SGD; more on this next lecture!)\\\n",
    "`loss` - what the model is trying to minimize\\\n",
    "`metric` - list of metrics to report during training process\n",
    "\n",
    "`compile` is used to configure a NN model be for it can be fit. We aren't ready to fit *just* yet, but we are compiling here because doing so reinitilizes the model weights. We are going to manually set our weights before training so we need to to the compilation first."
   ]
  },
  {
   "attachments": {},
   "cell_type": "markdown",
   "metadata": {},
   "source": [
    "**Q:** Why do I want metrics if I already have a loss?"
   ]
  },
  {
   "cell_type": "code",
   "execution_count": 70,
   "metadata": {},
   "outputs": [],
   "source": [
    "model.compile(loss='binary_crossentropy',\n",
    "              metrics=['accuracy'],\n",
    "              optimizer=optimizers.SGD(learning_rate=1e-1)\n",
    ")"
   ]
  },
  {
   "attachments": {},
   "cell_type": "markdown",
   "metadata": {},
   "source": [
    "<div class='exercise'> <b>Fitting the NN</div>    "
   ]
  },
  {
   "attachments": {},
   "cell_type": "markdown",
   "metadata": {},
   "source": [
    "`Model.fit(x=None, y=None, batch_size=None, epochs=1, verbose=\"auto\", validation_split=0.0, validation_data=None, shuffle=True, **kwargs)`\n",
    "\n",
    "https://www.tensorflow.org/api_docs/python/tf/keras/Model#fit\n",
    "\n",
    "`batch_size` - number of observations overwhich the loss is calculated before each weight update (more on this next lecture)\\\n",
    "`epochs` - number of times the complete dataset is seen in the fitting process\\\n",
    "`verbose` - you can silence the training output by setting this to `0`\\\n",
    "`validation_split` - splits off a portion of the `x` and `y` training data to be used as validation (see warning below)\\\n",
    "`validation_data` - tuple designating a seperate `x_val` and `y_val` dataset\\\n",
    "`shuffle` - whether to shuffle the training data before each epoch"
   ]
  },
  {
   "cell_type": "code",
   "execution_count": 71,
   "metadata": {
    "scrolled": true
   },
   "outputs": [
    {
     "name": "stdout",
     "output_type": "stream",
     "text": [
      "Epoch 1/500\n",
      "3/3 [==============================] - 1s 72ms/step - loss: 0.6267 - accuracy: 0.5000 - val_loss: 0.6044 - val_accuracy: 0.6000\n",
      "Epoch 2/500\n",
      "3/3 [==============================] - 0s 10ms/step - loss: 0.6138 - accuracy: 0.5625 - val_loss: 0.5942 - val_accuracy: 0.6000\n",
      "Epoch 3/500\n",
      "3/3 [==============================] - 0s 11ms/step - loss: 0.6066 - accuracy: 0.5500 - val_loss: 0.5880 - val_accuracy: 0.5000\n",
      "Epoch 4/500\n",
      "3/3 [==============================] - 0s 11ms/step - loss: 0.6031 - accuracy: 0.5750 - val_loss: 0.5862 - val_accuracy: 0.5000\n",
      "Epoch 5/500\n",
      "3/3 [==============================] - 0s 12ms/step - loss: 0.5967 - accuracy: 0.5750 - val_loss: 0.5803 - val_accuracy: 0.5500\n",
      "Epoch 6/500\n",
      "3/3 [==============================] - 0s 11ms/step - loss: 0.5927 - accuracy: 0.6000 - val_loss: 0.5757 - val_accuracy: 0.6000\n",
      "Epoch 7/500\n",
      "3/3 [==============================] - 0s 12ms/step - loss: 0.5865 - accuracy: 0.6000 - val_loss: 0.5725 - val_accuracy: 0.6000\n",
      "Epoch 8/500\n",
      "3/3 [==============================] - 0s 12ms/step - loss: 0.5812 - accuracy: 0.6125 - val_loss: 0.5693 - val_accuracy: 0.6000\n",
      "Epoch 9/500\n",
      "3/3 [==============================] - 0s 11ms/step - loss: 0.5783 - accuracy: 0.6125 - val_loss: 0.5659 - val_accuracy: 0.6000\n",
      "Epoch 10/500\n",
      "3/3 [==============================] - 0s 12ms/step - loss: 0.5724 - accuracy: 0.6250 - val_loss: 0.5640 - val_accuracy: 0.6000\n",
      "Epoch 11/500\n",
      "3/3 [==============================] - 0s 12ms/step - loss: 0.5682 - accuracy: 0.6375 - val_loss: 0.5592 - val_accuracy: 0.6000\n",
      "Epoch 12/500\n",
      "3/3 [==============================] - 0s 11ms/step - loss: 0.5636 - accuracy: 0.6625 - val_loss: 0.5548 - val_accuracy: 0.6000\n",
      "Epoch 13/500\n",
      "3/3 [==============================] - 0s 11ms/step - loss: 0.5596 - accuracy: 0.6500 - val_loss: 0.5515 - val_accuracy: 0.6000\n",
      "Epoch 14/500\n",
      "3/3 [==============================] - 0s 10ms/step - loss: 0.5582 - accuracy: 0.6375 - val_loss: 0.5506 - val_accuracy: 0.6000\n",
      "Epoch 15/500\n",
      "3/3 [==============================] - 0s 10ms/step - loss: 0.5518 - accuracy: 0.6500 - val_loss: 0.5438 - val_accuracy: 0.6000\n",
      "Epoch 16/500\n",
      "3/3 [==============================] - 0s 11ms/step - loss: 0.5472 - accuracy: 0.6500 - val_loss: 0.5413 - val_accuracy: 0.6500\n",
      "Epoch 17/500\n",
      "3/3 [==============================] - 0s 11ms/step - loss: 0.5438 - accuracy: 0.6500 - val_loss: 0.5388 - val_accuracy: 0.6500\n",
      "Epoch 18/500\n",
      "3/3 [==============================] - 0s 12ms/step - loss: 0.5396 - accuracy: 0.6750 - val_loss: 0.5336 - val_accuracy: 0.6500\n",
      "Epoch 19/500\n",
      "3/3 [==============================] - 0s 11ms/step - loss: 0.5345 - accuracy: 0.6625 - val_loss: 0.5287 - val_accuracy: 0.6500\n",
      "Epoch 20/500\n",
      "3/3 [==============================] - 0s 10ms/step - loss: 0.5325 - accuracy: 0.6500 - val_loss: 0.5251 - val_accuracy: 0.6500\n",
      "Epoch 21/500\n",
      "3/3 [==============================] - 0s 10ms/step - loss: 0.5264 - accuracy: 0.6625 - val_loss: 0.5189 - val_accuracy: 0.6000\n",
      "Epoch 22/500\n",
      "3/3 [==============================] - 0s 10ms/step - loss: 0.5219 - accuracy: 0.6500 - val_loss: 0.5153 - val_accuracy: 0.6500\n",
      "Epoch 23/500\n",
      "3/3 [==============================] - 0s 10ms/step - loss: 0.5186 - accuracy: 0.6500 - val_loss: 0.5123 - val_accuracy: 0.6500\n",
      "Epoch 24/500\n",
      "3/3 [==============================] - 0s 10ms/step - loss: 0.5145 - accuracy: 0.6750 - val_loss: 0.5088 - val_accuracy: 0.6500\n",
      "Epoch 25/500\n",
      "3/3 [==============================] - 0s 12ms/step - loss: 0.5102 - accuracy: 0.6625 - val_loss: 0.5047 - val_accuracy: 0.6500\n",
      "Epoch 26/500\n",
      "3/3 [==============================] - 0s 11ms/step - loss: 0.5076 - accuracy: 0.6625 - val_loss: 0.5010 - val_accuracy: 0.6500\n",
      "Epoch 27/500\n",
      "3/3 [==============================] - 0s 10ms/step - loss: 0.5027 - accuracy: 0.6625 - val_loss: 0.4999 - val_accuracy: 0.7000\n",
      "Epoch 28/500\n",
      "3/3 [==============================] - 0s 10ms/step - loss: 0.4986 - accuracy: 0.6750 - val_loss: 0.4958 - val_accuracy: 0.7000\n",
      "Epoch 29/500\n",
      "3/3 [==============================] - 0s 11ms/step - loss: 0.4939 - accuracy: 0.6750 - val_loss: 0.4931 - val_accuracy: 0.7000\n",
      "Epoch 30/500\n",
      "3/3 [==============================] - 0s 10ms/step - loss: 0.4915 - accuracy: 0.6750 - val_loss: 0.4883 - val_accuracy: 0.7000\n",
      "Epoch 31/500\n",
      "3/3 [==============================] - 0s 11ms/step - loss: 0.4876 - accuracy: 0.6750 - val_loss: 0.4852 - val_accuracy: 0.7000\n",
      "Epoch 32/500\n",
      "3/3 [==============================] - 0s 10ms/step - loss: 0.4825 - accuracy: 0.6750 - val_loss: 0.4825 - val_accuracy: 0.7000\n",
      "Epoch 33/500\n",
      "3/3 [==============================] - 0s 11ms/step - loss: 0.4799 - accuracy: 0.6750 - val_loss: 0.4785 - val_accuracy: 0.7000\n",
      "Epoch 34/500\n",
      "3/3 [==============================] - 0s 10ms/step - loss: 0.4772 - accuracy: 0.7000 - val_loss: 0.4772 - val_accuracy: 0.9000\n",
      "Epoch 35/500\n",
      "3/3 [==============================] - 0s 11ms/step - loss: 0.4730 - accuracy: 0.8125 - val_loss: 0.4727 - val_accuracy: 0.9000\n",
      "Epoch 36/500\n",
      "3/3 [==============================] - 0s 10ms/step - loss: 0.4677 - accuracy: 0.7875 - val_loss: 0.4698 - val_accuracy: 0.9000\n",
      "Epoch 37/500\n",
      "3/3 [==============================] - 0s 11ms/step - loss: 0.4651 - accuracy: 0.8125 - val_loss: 0.4686 - val_accuracy: 0.9000\n",
      "Epoch 38/500\n",
      "3/3 [==============================] - 0s 10ms/step - loss: 0.4614 - accuracy: 0.8250 - val_loss: 0.4671 - val_accuracy: 0.9000\n",
      "Epoch 39/500\n",
      "3/3 [==============================] - 0s 12ms/step - loss: 0.4571 - accuracy: 0.8250 - val_loss: 0.4642 - val_accuracy: 0.9000\n",
      "Epoch 40/500\n",
      "3/3 [==============================] - 0s 10ms/step - loss: 0.4553 - accuracy: 0.8625 - val_loss: 0.4580 - val_accuracy: 0.9000\n",
      "Epoch 41/500\n",
      "3/3 [==============================] - 0s 10ms/step - loss: 0.4505 - accuracy: 0.8250 - val_loss: 0.4570 - val_accuracy: 0.9000\n",
      "Epoch 42/500\n",
      "3/3 [==============================] - 0s 11ms/step - loss: 0.4473 - accuracy: 0.8750 - val_loss: 0.4515 - val_accuracy: 0.9000\n",
      "Epoch 43/500\n",
      "3/3 [==============================] - 0s 12ms/step - loss: 0.4442 - accuracy: 0.8500 - val_loss: 0.4518 - val_accuracy: 0.9000\n",
      "Epoch 44/500\n",
      "3/3 [==============================] - 0s 10ms/step - loss: 0.4395 - accuracy: 0.8750 - val_loss: 0.4487 - val_accuracy: 0.9000\n",
      "Epoch 45/500\n",
      "3/3 [==============================] - 0s 10ms/step - loss: 0.4356 - accuracy: 0.8750 - val_loss: 0.4434 - val_accuracy: 0.9000\n",
      "Epoch 46/500\n",
      "3/3 [==============================] - 0s 11ms/step - loss: 0.4341 - accuracy: 0.8625 - val_loss: 0.4441 - val_accuracy: 0.9000\n",
      "Epoch 47/500\n",
      "3/3 [==============================] - 0s 10ms/step - loss: 0.4306 - accuracy: 0.8750 - val_loss: 0.4421 - val_accuracy: 0.9000\n",
      "Epoch 48/500\n",
      "3/3 [==============================] - 0s 10ms/step - loss: 0.4255 - accuracy: 0.8750 - val_loss: 0.4375 - val_accuracy: 0.9000\n",
      "Epoch 49/500\n",
      "3/3 [==============================] - 0s 10ms/step - loss: 0.4231 - accuracy: 0.8625 - val_loss: 0.4364 - val_accuracy: 0.9000\n",
      "Epoch 50/500\n",
      "3/3 [==============================] - 0s 11ms/step - loss: 0.4191 - accuracy: 0.8750 - val_loss: 0.4344 - val_accuracy: 0.9000\n",
      "Epoch 51/500\n",
      "3/3 [==============================] - 0s 10ms/step - loss: 0.4155 - accuracy: 0.8875 - val_loss: 0.4304 - val_accuracy: 0.9000\n",
      "Epoch 52/500\n",
      "3/3 [==============================] - 0s 12ms/step - loss: 0.4110 - accuracy: 0.8875 - val_loss: 0.4270 - val_accuracy: 0.9000\n",
      "Epoch 53/500\n",
      "3/3 [==============================] - 0s 12ms/step - loss: 0.4102 - accuracy: 0.8875 - val_loss: 0.4226 - val_accuracy: 0.9000\n",
      "Epoch 54/500\n",
      "3/3 [==============================] - 0s 11ms/step - loss: 0.4069 - accuracy: 0.8875 - val_loss: 0.4204 - val_accuracy: 0.9000\n",
      "Epoch 55/500\n",
      "3/3 [==============================] - 0s 10ms/step - loss: 0.4026 - accuracy: 0.8875 - val_loss: 0.4200 - val_accuracy: 0.9000\n",
      "Epoch 56/500\n",
      "3/3 [==============================] - 0s 14ms/step - loss: 0.3991 - accuracy: 0.8875 - val_loss: 0.4169 - val_accuracy: 0.9000\n",
      "Epoch 57/500\n",
      "3/3 [==============================] - 0s 14ms/step - loss: 0.3963 - accuracy: 0.8875 - val_loss: 0.4151 - val_accuracy: 0.9000\n",
      "Epoch 58/500\n",
      "3/3 [==============================] - 0s 14ms/step - loss: 0.3920 - accuracy: 0.8875 - val_loss: 0.4132 - val_accuracy: 0.9000\n",
      "Epoch 59/500\n",
      "3/3 [==============================] - 0s 11ms/step - loss: 0.3897 - accuracy: 0.8875 - val_loss: 0.4137 - val_accuracy: 0.9000\n",
      "Epoch 60/500\n",
      "3/3 [==============================] - 0s 10ms/step - loss: 0.3868 - accuracy: 0.9125 - val_loss: 0.4089 - val_accuracy: 0.9000\n",
      "Epoch 61/500\n",
      "3/3 [==============================] - 0s 10ms/step - loss: 0.3835 - accuracy: 0.9000 - val_loss: 0.4086 - val_accuracy: 0.9000\n",
      "Epoch 62/500\n",
      "3/3 [==============================] - 0s 12ms/step - loss: 0.3805 - accuracy: 0.9125 - val_loss: 0.4047 - val_accuracy: 0.9000\n",
      "Epoch 63/500\n",
      "3/3 [==============================] - 0s 13ms/step - loss: 0.3769 - accuracy: 0.9000 - val_loss: 0.4042 - val_accuracy: 0.9000\n",
      "Epoch 64/500\n",
      "3/3 [==============================] - 0s 13ms/step - loss: 0.3737 - accuracy: 0.9125 - val_loss: 0.4001 - val_accuracy: 0.9000\n",
      "Epoch 65/500\n",
      "3/3 [==============================] - 0s 13ms/step - loss: 0.3714 - accuracy: 0.9000 - val_loss: 0.3979 - val_accuracy: 0.9000\n",
      "Epoch 66/500\n",
      "3/3 [==============================] - 0s 10ms/step - loss: 0.3682 - accuracy: 0.9000 - val_loss: 0.3968 - val_accuracy: 0.9000\n",
      "Epoch 67/500\n",
      "3/3 [==============================] - 0s 15ms/step - loss: 0.3661 - accuracy: 0.9125 - val_loss: 0.3930 - val_accuracy: 0.9000\n",
      "Epoch 68/500\n",
      "3/3 [==============================] - 0s 14ms/step - loss: 0.3647 - accuracy: 0.8875 - val_loss: 0.3942 - val_accuracy: 0.9000\n",
      "Epoch 69/500\n",
      "3/3 [==============================] - 0s 14ms/step - loss: 0.3610 - accuracy: 0.9125 - val_loss: 0.3914 - val_accuracy: 0.9000\n",
      "Epoch 70/500\n",
      "3/3 [==============================] - 0s 11ms/step - loss: 0.3584 - accuracy: 0.9125 - val_loss: 0.3889 - val_accuracy: 0.9000\n",
      "Epoch 71/500\n",
      "3/3 [==============================] - 0s 13ms/step - loss: 0.3545 - accuracy: 0.9125 - val_loss: 0.3874 - val_accuracy: 0.9000\n",
      "Epoch 72/500\n",
      "3/3 [==============================] - 0s 11ms/step - loss: 0.3517 - accuracy: 0.9125 - val_loss: 0.3847 - val_accuracy: 0.9000\n",
      "Epoch 73/500\n",
      "3/3 [==============================] - 0s 11ms/step - loss: 0.3490 - accuracy: 0.9125 - val_loss: 0.3818 - val_accuracy: 0.9000\n",
      "Epoch 74/500\n",
      "3/3 [==============================] - 0s 15ms/step - loss: 0.3460 - accuracy: 0.9000 - val_loss: 0.3809 - val_accuracy: 0.9000\n",
      "Epoch 75/500\n",
      "3/3 [==============================] - 0s 15ms/step - loss: 0.3432 - accuracy: 0.9125 - val_loss: 0.3794 - val_accuracy: 0.9000\n",
      "Epoch 76/500\n",
      "3/3 [==============================] - 0s 16ms/step - loss: 0.3428 - accuracy: 0.9125 - val_loss: 0.3782 - val_accuracy: 0.9000\n",
      "Epoch 77/500\n",
      "3/3 [==============================] - 0s 14ms/step - loss: 0.3384 - accuracy: 0.9125 - val_loss: 0.3777 - val_accuracy: 0.9000\n",
      "Epoch 78/500\n",
      "3/3 [==============================] - 0s 14ms/step - loss: 0.3380 - accuracy: 0.9125 - val_loss: 0.3754 - val_accuracy: 0.9000\n",
      "Epoch 79/500\n",
      "3/3 [==============================] - 0s 14ms/step - loss: 0.3334 - accuracy: 0.9125 - val_loss: 0.3746 - val_accuracy: 0.9000\n",
      "Epoch 80/500\n",
      "3/3 [==============================] - 0s 14ms/step - loss: 0.3315 - accuracy: 0.9125 - val_loss: 0.3743 - val_accuracy: 0.9000\n",
      "Epoch 81/500\n",
      "3/3 [==============================] - 0s 13ms/step - loss: 0.3289 - accuracy: 0.9125 - val_loss: 0.3719 - val_accuracy: 0.9000\n",
      "Epoch 82/500\n",
      "3/3 [==============================] - 0s 11ms/step - loss: 0.3289 - accuracy: 0.9250 - val_loss: 0.3693 - val_accuracy: 0.9000\n",
      "Epoch 83/500\n",
      "3/3 [==============================] - 0s 11ms/step - loss: 0.3236 - accuracy: 0.9250 - val_loss: 0.3687 - val_accuracy: 0.9000\n",
      "Epoch 84/500\n",
      "3/3 [==============================] - 0s 10ms/step - loss: 0.3214 - accuracy: 0.9250 - val_loss: 0.3657 - val_accuracy: 0.9000\n",
      "Epoch 85/500\n",
      "3/3 [==============================] - 0s 10ms/step - loss: 0.3198 - accuracy: 0.9250 - val_loss: 0.3652 - val_accuracy: 0.9000\n",
      "Epoch 86/500\n",
      "3/3 [==============================] - 0s 12ms/step - loss: 0.3179 - accuracy: 0.9250 - val_loss: 0.3645 - val_accuracy: 0.9000\n",
      "Epoch 87/500\n",
      "3/3 [==============================] - 0s 11ms/step - loss: 0.3166 - accuracy: 0.9250 - val_loss: 0.3625 - val_accuracy: 0.9000\n",
      "Epoch 88/500\n",
      "3/3 [==============================] - 0s 10ms/step - loss: 0.3120 - accuracy: 0.9250 - val_loss: 0.3618 - val_accuracy: 0.9000\n",
      "Epoch 89/500\n",
      "3/3 [==============================] - 0s 11ms/step - loss: 0.3102 - accuracy: 0.9250 - val_loss: 0.3605 - val_accuracy: 0.9000\n",
      "Epoch 90/500\n",
      "3/3 [==============================] - 0s 10ms/step - loss: 0.3107 - accuracy: 0.9125 - val_loss: 0.3623 - val_accuracy: 0.9000\n",
      "Epoch 91/500\n",
      "3/3 [==============================] - 0s 11ms/step - loss: 0.3090 - accuracy: 0.9250 - val_loss: 0.3648 - val_accuracy: 0.9000\n",
      "Epoch 92/500\n",
      "3/3 [==============================] - 0s 13ms/step - loss: 0.3066 - accuracy: 0.9250 - val_loss: 0.3602 - val_accuracy: 0.9000\n",
      "Epoch 93/500\n",
      "3/3 [==============================] - 0s 20ms/step - loss: 0.3031 - accuracy: 0.9250 - val_loss: 0.3566 - val_accuracy: 0.9000\n",
      "Epoch 94/500\n",
      "3/3 [==============================] - 0s 16ms/step - loss: 0.3002 - accuracy: 0.9250 - val_loss: 0.3558 - val_accuracy: 0.9000\n",
      "Epoch 95/500\n",
      "3/3 [==============================] - 0s 14ms/step - loss: 0.2980 - accuracy: 0.9375 - val_loss: 0.3539 - val_accuracy: 0.9000\n",
      "Epoch 96/500\n",
      "3/3 [==============================] - 0s 14ms/step - loss: 0.2973 - accuracy: 0.9250 - val_loss: 0.3557 - val_accuracy: 0.9000\n",
      "Epoch 97/500\n",
      "3/3 [==============================] - 0s 10ms/step - loss: 0.2961 - accuracy: 0.9250 - val_loss: 0.3555 - val_accuracy: 0.9000\n",
      "Epoch 98/500\n",
      "3/3 [==============================] - 0s 10ms/step - loss: 0.2930 - accuracy: 0.9250 - val_loss: 0.3534 - val_accuracy: 0.9000\n",
      "Epoch 99/500\n",
      "3/3 [==============================] - 0s 10ms/step - loss: 0.2910 - accuracy: 0.9375 - val_loss: 0.3520 - val_accuracy: 0.9000\n",
      "Epoch 100/500\n",
      "3/3 [==============================] - 0s 10ms/step - loss: 0.2888 - accuracy: 0.9250 - val_loss: 0.3496 - val_accuracy: 0.9000\n",
      "Epoch 101/500\n",
      "3/3 [==============================] - 0s 12ms/step - loss: 0.2888 - accuracy: 0.9375 - val_loss: 0.3480 - val_accuracy: 0.9000\n",
      "Epoch 102/500\n",
      "3/3 [==============================] - 0s 10ms/step - loss: 0.2855 - accuracy: 0.9375 - val_loss: 0.3489 - val_accuracy: 0.9000\n",
      "Epoch 103/500\n",
      "3/3 [==============================] - 0s 10ms/step - loss: 0.2854 - accuracy: 0.9375 - val_loss: 0.3512 - val_accuracy: 0.9000\n",
      "Epoch 104/500\n",
      "3/3 [==============================] - 0s 10ms/step - loss: 0.2825 - accuracy: 0.9375 - val_loss: 0.3482 - val_accuracy: 0.9000\n",
      "Epoch 105/500\n",
      "3/3 [==============================] - 0s 11ms/step - loss: 0.2808 - accuracy: 0.9375 - val_loss: 0.3484 - val_accuracy: 0.9000\n",
      "Epoch 106/500\n",
      "3/3 [==============================] - 0s 11ms/step - loss: 0.2817 - accuracy: 0.9250 - val_loss: 0.3465 - val_accuracy: 0.9000\n",
      "Epoch 107/500\n",
      "3/3 [==============================] - 0s 11ms/step - loss: 0.2770 - accuracy: 0.9375 - val_loss: 0.3458 - val_accuracy: 0.9000\n",
      "Epoch 108/500\n",
      "3/3 [==============================] - 0s 11ms/step - loss: 0.2755 - accuracy: 0.9375 - val_loss: 0.3436 - val_accuracy: 0.9000\n",
      "Epoch 109/500\n",
      "3/3 [==============================] - 0s 10ms/step - loss: 0.2744 - accuracy: 0.9375 - val_loss: 0.3436 - val_accuracy: 0.9000\n",
      "Epoch 110/500\n",
      "3/3 [==============================] - 0s 11ms/step - loss: 0.2737 - accuracy: 0.9375 - val_loss: 0.3438 - val_accuracy: 0.9000\n",
      "Epoch 111/500\n",
      "3/3 [==============================] - 0s 11ms/step - loss: 0.2716 - accuracy: 0.9375 - val_loss: 0.3401 - val_accuracy: 0.9000\n",
      "Epoch 112/500\n",
      "3/3 [==============================] - 0s 12ms/step - loss: 0.2709 - accuracy: 0.9500 - val_loss: 0.3392 - val_accuracy: 0.9000\n",
      "Epoch 113/500\n",
      "3/3 [==============================] - 0s 10ms/step - loss: 0.2696 - accuracy: 0.9500 - val_loss: 0.3427 - val_accuracy: 0.9000\n",
      "Epoch 114/500\n",
      "3/3 [==============================] - 0s 10ms/step - loss: 0.2666 - accuracy: 0.9500 - val_loss: 0.3421 - val_accuracy: 0.9000\n",
      "Epoch 115/500\n",
      "3/3 [==============================] - 0s 10ms/step - loss: 0.2657 - accuracy: 0.9500 - val_loss: 0.3399 - val_accuracy: 0.9000\n",
      "Epoch 116/500\n",
      "3/3 [==============================] - 0s 12ms/step - loss: 0.2650 - accuracy: 0.9500 - val_loss: 0.3360 - val_accuracy: 0.9000\n",
      "Epoch 117/500\n",
      "3/3 [==============================] - 0s 10ms/step - loss: 0.2646 - accuracy: 0.9500 - val_loss: 0.3376 - val_accuracy: 0.9000\n",
      "Epoch 118/500\n",
      "3/3 [==============================] - 0s 10ms/step - loss: 0.2608 - accuracy: 0.9500 - val_loss: 0.3382 - val_accuracy: 0.9000\n",
      "Epoch 119/500\n",
      "3/3 [==============================] - 0s 10ms/step - loss: 0.2593 - accuracy: 0.9500 - val_loss: 0.3385 - val_accuracy: 0.9000\n",
      "Epoch 120/500\n",
      "3/3 [==============================] - 0s 11ms/step - loss: 0.2593 - accuracy: 0.9500 - val_loss: 0.3358 - val_accuracy: 0.9000\n",
      "Epoch 121/500\n",
      "3/3 [==============================] - 0s 10ms/step - loss: 0.2572 - accuracy: 0.9500 - val_loss: 0.3379 - val_accuracy: 0.9000\n",
      "Epoch 122/500\n",
      "3/3 [==============================] - 0s 10ms/step - loss: 0.2575 - accuracy: 0.9500 - val_loss: 0.3394 - val_accuracy: 0.9000\n",
      "Epoch 123/500\n",
      "3/3 [==============================] - 0s 11ms/step - loss: 0.2552 - accuracy: 0.9500 - val_loss: 0.3383 - val_accuracy: 0.9000\n",
      "Epoch 124/500\n",
      "3/3 [==============================] - 0s 10ms/step - loss: 0.2536 - accuracy: 0.9375 - val_loss: 0.3371 - val_accuracy: 0.9000\n",
      "Epoch 125/500\n",
      "3/3 [==============================] - 0s 13ms/step - loss: 0.2523 - accuracy: 0.9500 - val_loss: 0.3346 - val_accuracy: 0.9000\n",
      "Epoch 126/500\n",
      "3/3 [==============================] - 0s 13ms/step - loss: 0.2516 - accuracy: 0.9500 - val_loss: 0.3380 - val_accuracy: 0.9000\n",
      "Epoch 127/500\n",
      "3/3 [==============================] - 0s 15ms/step - loss: 0.2523 - accuracy: 0.9375 - val_loss: 0.3373 - val_accuracy: 0.9000\n",
      "Epoch 128/500\n",
      "3/3 [==============================] - 0s 15ms/step - loss: 0.2488 - accuracy: 0.9375 - val_loss: 0.3323 - val_accuracy: 0.9000\n",
      "Epoch 129/500\n",
      "3/3 [==============================] - 0s 12ms/step - loss: 0.2471 - accuracy: 0.9375 - val_loss: 0.3346 - val_accuracy: 0.9000\n",
      "Epoch 130/500\n",
      "3/3 [==============================] - 0s 11ms/step - loss: 0.2467 - accuracy: 0.9500 - val_loss: 0.3343 - val_accuracy: 0.9000\n",
      "Epoch 131/500\n",
      "3/3 [==============================] - 0s 12ms/step - loss: 0.2447 - accuracy: 0.9500 - val_loss: 0.3339 - val_accuracy: 0.9000\n",
      "Epoch 132/500\n",
      "3/3 [==============================] - 0s 12ms/step - loss: 0.2431 - accuracy: 0.9375 - val_loss: 0.3321 - val_accuracy: 0.9000\n",
      "Epoch 133/500\n",
      "3/3 [==============================] - 0s 10ms/step - loss: 0.2433 - accuracy: 0.9375 - val_loss: 0.3298 - val_accuracy: 0.9000\n",
      "Epoch 134/500\n",
      "3/3 [==============================] - 0s 10ms/step - loss: 0.2409 - accuracy: 0.9375 - val_loss: 0.3293 - val_accuracy: 0.9000\n",
      "Epoch 135/500\n",
      "3/3 [==============================] - 0s 11ms/step - loss: 0.2408 - accuracy: 0.9500 - val_loss: 0.3287 - val_accuracy: 0.9000\n",
      "Epoch 136/500\n",
      "3/3 [==============================] - 0s 10ms/step - loss: 0.2384 - accuracy: 0.9500 - val_loss: 0.3303 - val_accuracy: 0.9000\n",
      "Epoch 137/500\n",
      "3/3 [==============================] - 0s 12ms/step - loss: 0.2381 - accuracy: 0.9375 - val_loss: 0.3293 - val_accuracy: 0.9000\n",
      "Epoch 138/500\n",
      "3/3 [==============================] - 0s 13ms/step - loss: 0.2370 - accuracy: 0.9500 - val_loss: 0.3286 - val_accuracy: 0.9000\n",
      "Epoch 139/500\n",
      "3/3 [==============================] - 0s 11ms/step - loss: 0.2355 - accuracy: 0.9375 - val_loss: 0.3289 - val_accuracy: 0.9000\n",
      "Epoch 140/500\n",
      "3/3 [==============================] - 0s 15ms/step - loss: 0.2359 - accuracy: 0.9375 - val_loss: 0.3270 - val_accuracy: 0.9000\n",
      "Epoch 141/500\n",
      "3/3 [==============================] - 0s 12ms/step - loss: 0.2364 - accuracy: 0.9375 - val_loss: 0.3260 - val_accuracy: 0.9000\n",
      "Epoch 142/500\n",
      "3/3 [==============================] - 0s 14ms/step - loss: 0.2329 - accuracy: 0.9500 - val_loss: 0.3273 - val_accuracy: 0.9000\n",
      "Epoch 143/500\n",
      "3/3 [==============================] - 0s 11ms/step - loss: 0.2347 - accuracy: 0.9500 - val_loss: 0.3289 - val_accuracy: 0.9000\n",
      "Epoch 144/500\n",
      "3/3 [==============================] - 0s 11ms/step - loss: 0.2317 - accuracy: 0.9500 - val_loss: 0.3281 - val_accuracy: 0.9000\n",
      "Epoch 145/500\n",
      "3/3 [==============================] - 0s 12ms/step - loss: 0.2304 - accuracy: 0.9500 - val_loss: 0.3273 - val_accuracy: 0.9000\n",
      "Epoch 146/500\n",
      "3/3 [==============================] - 0s 14ms/step - loss: 0.2294 - accuracy: 0.9500 - val_loss: 0.3302 - val_accuracy: 0.9000\n",
      "Epoch 147/500\n",
      "3/3 [==============================] - 0s 12ms/step - loss: 0.2280 - accuracy: 0.9500 - val_loss: 0.3319 - val_accuracy: 0.9000\n",
      "Epoch 148/500\n",
      "3/3 [==============================] - 0s 15ms/step - loss: 0.2279 - accuracy: 0.9500 - val_loss: 0.3314 - val_accuracy: 0.9000\n",
      "Epoch 149/500\n",
      "3/3 [==============================] - 0s 13ms/step - loss: 0.2258 - accuracy: 0.9500 - val_loss: 0.3296 - val_accuracy: 0.9000\n",
      "Epoch 150/500\n",
      "3/3 [==============================] - 0s 13ms/step - loss: 0.2247 - accuracy: 0.9375 - val_loss: 0.3293 - val_accuracy: 0.9000\n",
      "Epoch 151/500\n",
      "3/3 [==============================] - 0s 12ms/step - loss: 0.2248 - accuracy: 0.9375 - val_loss: 0.3290 - val_accuracy: 0.9000\n",
      "Epoch 152/500\n",
      "3/3 [==============================] - 0s 12ms/step - loss: 0.2248 - accuracy: 0.9500 - val_loss: 0.3328 - val_accuracy: 0.9000\n",
      "Epoch 153/500\n",
      "3/3 [==============================] - 0s 12ms/step - loss: 0.2264 - accuracy: 0.9500 - val_loss: 0.3359 - val_accuracy: 0.9000\n",
      "Epoch 154/500\n",
      "3/3 [==============================] - 0s 11ms/step - loss: 0.2231 - accuracy: 0.9375 - val_loss: 0.3317 - val_accuracy: 0.9000\n",
      "Epoch 155/500\n",
      "3/3 [==============================] - 0s 14ms/step - loss: 0.2217 - accuracy: 0.9500 - val_loss: 0.3265 - val_accuracy: 0.9000\n",
      "Epoch 156/500\n",
      "3/3 [==============================] - 0s 14ms/step - loss: 0.2208 - accuracy: 0.9500 - val_loss: 0.3289 - val_accuracy: 0.9000\n",
      "Epoch 157/500\n",
      "3/3 [==============================] - 0s 12ms/step - loss: 0.2196 - accuracy: 0.9500 - val_loss: 0.3283 - val_accuracy: 0.9000\n",
      "Epoch 158/500\n",
      "3/3 [==============================] - 0s 15ms/step - loss: 0.2197 - accuracy: 0.9375 - val_loss: 0.3260 - val_accuracy: 0.9000\n",
      "Epoch 159/500\n",
      "3/3 [==============================] - 0s 15ms/step - loss: 0.2176 - accuracy: 0.9500 - val_loss: 0.3285 - val_accuracy: 0.9000\n",
      "Epoch 160/500\n",
      "3/3 [==============================] - 0s 12ms/step - loss: 0.2169 - accuracy: 0.9500 - val_loss: 0.3266 - val_accuracy: 0.9000\n",
      "Epoch 161/500\n",
      "3/3 [==============================] - 0s 12ms/step - loss: 0.2183 - accuracy: 0.9500 - val_loss: 0.3284 - val_accuracy: 0.9000\n",
      "Epoch 162/500\n",
      "3/3 [==============================] - 0s 12ms/step - loss: 0.2151 - accuracy: 0.9500 - val_loss: 0.3264 - val_accuracy: 0.9000\n",
      "Epoch 163/500\n",
      "3/3 [==============================] - 0s 13ms/step - loss: 0.2148 - accuracy: 0.9500 - val_loss: 0.3269 - val_accuracy: 0.9000\n",
      "Epoch 164/500\n",
      "3/3 [==============================] - 0s 11ms/step - loss: 0.2137 - accuracy: 0.9500 - val_loss: 0.3261 - val_accuracy: 0.9000\n",
      "Epoch 165/500\n",
      "3/3 [==============================] - 0s 12ms/step - loss: 0.2136 - accuracy: 0.9500 - val_loss: 0.3251 - val_accuracy: 0.9000\n",
      "Epoch 166/500\n",
      "3/3 [==============================] - 0s 13ms/step - loss: 0.2125 - accuracy: 0.9500 - val_loss: 0.3252 - val_accuracy: 0.9000\n",
      "Epoch 167/500\n",
      "3/3 [==============================] - 0s 12ms/step - loss: 0.2116 - accuracy: 0.9500 - val_loss: 0.3248 - val_accuracy: 0.9000\n",
      "Epoch 168/500\n",
      "3/3 [==============================] - 0s 11ms/step - loss: 0.2130 - accuracy: 0.9500 - val_loss: 0.3253 - val_accuracy: 0.9000\n",
      "Epoch 169/500\n",
      "3/3 [==============================] - 0s 12ms/step - loss: 0.2119 - accuracy: 0.9500 - val_loss: 0.3270 - val_accuracy: 0.9000\n",
      "Epoch 170/500\n",
      "3/3 [==============================] - 0s 11ms/step - loss: 0.2108 - accuracy: 0.9500 - val_loss: 0.3242 - val_accuracy: 0.9000\n",
      "Epoch 171/500\n",
      "3/3 [==============================] - 0s 12ms/step - loss: 0.2096 - accuracy: 0.9500 - val_loss: 0.3272 - val_accuracy: 0.9000\n",
      "Epoch 172/500\n",
      "3/3 [==============================] - 0s 12ms/step - loss: 0.2086 - accuracy: 0.9500 - val_loss: 0.3242 - val_accuracy: 0.9000\n",
      "Epoch 173/500\n",
      "3/3 [==============================] - 0s 12ms/step - loss: 0.2139 - accuracy: 0.9500 - val_loss: 0.3255 - val_accuracy: 0.9000\n",
      "Epoch 174/500\n",
      "3/3 [==============================] - 0s 13ms/step - loss: 0.2070 - accuracy: 0.9500 - val_loss: 0.3261 - val_accuracy: 0.9000\n",
      "Epoch 175/500\n",
      "3/3 [==============================] - 0s 13ms/step - loss: 0.2083 - accuracy: 0.9500 - val_loss: 0.3285 - val_accuracy: 0.9000\n",
      "Epoch 176/500\n",
      "3/3 [==============================] - 0s 15ms/step - loss: 0.2064 - accuracy: 0.9500 - val_loss: 0.3310 - val_accuracy: 0.9000\n",
      "Epoch 177/500\n",
      "3/3 [==============================] - 0s 12ms/step - loss: 0.2050 - accuracy: 0.9500 - val_loss: 0.3291 - val_accuracy: 0.9000\n",
      "Epoch 178/500\n",
      "3/3 [==============================] - 0s 12ms/step - loss: 0.2059 - accuracy: 0.9500 - val_loss: 0.3271 - val_accuracy: 0.9000\n",
      "Epoch 179/500\n",
      "3/3 [==============================] - 0s 12ms/step - loss: 0.2059 - accuracy: 0.9500 - val_loss: 0.3281 - val_accuracy: 0.9000\n",
      "Epoch 180/500\n",
      "3/3 [==============================] - 0s 11ms/step - loss: 0.2056 - accuracy: 0.9500 - val_loss: 0.3249 - val_accuracy: 0.9000\n",
      "Epoch 181/500\n",
      "3/3 [==============================] - 0s 12ms/step - loss: 0.2036 - accuracy: 0.9500 - val_loss: 0.3271 - val_accuracy: 0.9000\n",
      "Epoch 182/500\n",
      "3/3 [==============================] - 0s 11ms/step - loss: 0.2016 - accuracy: 0.9500 - val_loss: 0.3274 - val_accuracy: 0.9000\n",
      "Epoch 183/500\n",
      "3/3 [==============================] - 0s 12ms/step - loss: 0.2028 - accuracy: 0.9500 - val_loss: 0.3259 - val_accuracy: 0.9000\n",
      "Epoch 184/500\n",
      "3/3 [==============================] - 0s 17ms/step - loss: 0.2014 - accuracy: 0.9500 - val_loss: 0.3258 - val_accuracy: 0.9000\n",
      "Epoch 185/500\n",
      "3/3 [==============================] - 0s 14ms/step - loss: 0.2010 - accuracy: 0.9500 - val_loss: 0.3298 - val_accuracy: 0.9000\n",
      "Epoch 186/500\n",
      "3/3 [==============================] - 0s 15ms/step - loss: 0.1998 - accuracy: 0.9500 - val_loss: 0.3289 - val_accuracy: 0.9000\n",
      "Epoch 187/500\n",
      "3/3 [==============================] - 0s 13ms/step - loss: 0.2017 - accuracy: 0.9500 - val_loss: 0.3291 - val_accuracy: 0.9000\n",
      "Epoch 188/500\n",
      "3/3 [==============================] - 0s 13ms/step - loss: 0.1992 - accuracy: 0.9500 - val_loss: 0.3299 - val_accuracy: 0.9000\n",
      "Epoch 189/500\n",
      "3/3 [==============================] - 0s 13ms/step - loss: 0.1979 - accuracy: 0.9500 - val_loss: 0.3295 - val_accuracy: 0.9000\n",
      "Epoch 190/500\n",
      "3/3 [==============================] - 0s 11ms/step - loss: 0.2004 - accuracy: 0.9500 - val_loss: 0.3291 - val_accuracy: 0.9000\n",
      "Epoch 191/500\n",
      "3/3 [==============================] - 0s 11ms/step - loss: 0.1984 - accuracy: 0.9500 - val_loss: 0.3283 - val_accuracy: 0.9000\n",
      "Epoch 192/500\n",
      "3/3 [==============================] - 0s 11ms/step - loss: 0.1977 - accuracy: 0.9500 - val_loss: 0.3274 - val_accuracy: 0.9000\n",
      "Epoch 193/500\n",
      "3/3 [==============================] - 0s 13ms/step - loss: 0.1962 - accuracy: 0.9500 - val_loss: 0.3286 - val_accuracy: 0.9000\n",
      "Epoch 194/500\n",
      "3/3 [==============================] - 0s 12ms/step - loss: 0.1992 - accuracy: 0.9500 - val_loss: 0.3298 - val_accuracy: 0.9000\n",
      "Epoch 195/500\n",
      "3/3 [==============================] - 0s 11ms/step - loss: 0.1954 - accuracy: 0.9500 - val_loss: 0.3290 - val_accuracy: 0.9000\n",
      "Epoch 196/500\n",
      "3/3 [==============================] - 0s 13ms/step - loss: 0.1967 - accuracy: 0.9500 - val_loss: 0.3306 - val_accuracy: 0.9000\n",
      "Epoch 197/500\n",
      "3/3 [==============================] - 0s 13ms/step - loss: 0.1948 - accuracy: 0.9500 - val_loss: 0.3279 - val_accuracy: 0.9000\n",
      "Epoch 198/500\n",
      "3/3 [==============================] - 0s 13ms/step - loss: 0.1949 - accuracy: 0.9500 - val_loss: 0.3267 - val_accuracy: 0.9000\n",
      "Epoch 199/500\n",
      "3/3 [==============================] - 0s 12ms/step - loss: 0.1975 - accuracy: 0.9500 - val_loss: 0.3242 - val_accuracy: 0.9000\n",
      "Epoch 200/500\n",
      "3/3 [==============================] - 0s 12ms/step - loss: 0.1969 - accuracy: 0.9500 - val_loss: 0.3246 - val_accuracy: 0.9000\n",
      "Epoch 201/500\n",
      "3/3 [==============================] - 0s 15ms/step - loss: 0.1948 - accuracy: 0.9500 - val_loss: 0.3284 - val_accuracy: 0.9000\n",
      "Epoch 202/500\n",
      "3/3 [==============================] - 0s 15ms/step - loss: 0.1918 - accuracy: 0.9500 - val_loss: 0.3279 - val_accuracy: 0.9000\n",
      "Epoch 203/500\n",
      "3/3 [==============================] - 0s 14ms/step - loss: 0.1929 - accuracy: 0.9625 - val_loss: 0.3277 - val_accuracy: 0.9000\n",
      "Epoch 204/500\n",
      "3/3 [==============================] - 0s 15ms/step - loss: 0.1948 - accuracy: 0.9625 - val_loss: 0.3306 - val_accuracy: 0.9000\n",
      "Epoch 205/500\n",
      "3/3 [==============================] - 0s 11ms/step - loss: 0.1924 - accuracy: 0.9625 - val_loss: 0.3346 - val_accuracy: 0.9000\n",
      "Epoch 206/500\n",
      "3/3 [==============================] - 0s 12ms/step - loss: 0.1939 - accuracy: 0.9625 - val_loss: 0.3357 - val_accuracy: 0.9000\n",
      "Epoch 207/500\n",
      "3/3 [==============================] - 0s 11ms/step - loss: 0.1911 - accuracy: 0.9500 - val_loss: 0.3354 - val_accuracy: 0.9000\n",
      "Epoch 208/500\n",
      "3/3 [==============================] - 0s 11ms/step - loss: 0.1915 - accuracy: 0.9500 - val_loss: 0.3321 - val_accuracy: 0.9000\n",
      "Epoch 209/500\n",
      "3/3 [==============================] - 0s 10ms/step - loss: 0.1891 - accuracy: 0.9500 - val_loss: 0.3307 - val_accuracy: 0.9000\n",
      "Epoch 210/500\n",
      "3/3 [==============================] - 0s 12ms/step - loss: 0.1913 - accuracy: 0.9500 - val_loss: 0.3317 - val_accuracy: 0.9000\n",
      "Epoch 211/500\n",
      "3/3 [==============================] - 0s 11ms/step - loss: 0.1886 - accuracy: 0.9500 - val_loss: 0.3335 - val_accuracy: 0.9000\n",
      "Epoch 212/500\n",
      "3/3 [==============================] - 0s 11ms/step - loss: 0.1878 - accuracy: 0.9500 - val_loss: 0.3335 - val_accuracy: 0.9000\n",
      "Epoch 213/500\n",
      "3/3 [==============================] - 0s 11ms/step - loss: 0.1906 - accuracy: 0.9500 - val_loss: 0.3344 - val_accuracy: 0.9000\n",
      "Epoch 214/500\n",
      "3/3 [==============================] - 0s 11ms/step - loss: 0.1882 - accuracy: 0.9500 - val_loss: 0.3312 - val_accuracy: 0.9000\n",
      "Epoch 215/500\n",
      "3/3 [==============================] - 0s 11ms/step - loss: 0.1877 - accuracy: 0.9500 - val_loss: 0.3333 - val_accuracy: 0.9000\n",
      "Epoch 216/500\n",
      "3/3 [==============================] - 0s 11ms/step - loss: 0.1883 - accuracy: 0.9500 - val_loss: 0.3301 - val_accuracy: 0.9000\n",
      "Epoch 217/500\n",
      "3/3 [==============================] - 0s 15ms/step - loss: 0.1884 - accuracy: 0.9500 - val_loss: 0.3344 - val_accuracy: 0.9000\n",
      "Epoch 218/500\n",
      "3/3 [==============================] - 0s 11ms/step - loss: 0.1868 - accuracy: 0.9500 - val_loss: 0.3343 - val_accuracy: 0.9000\n",
      "Epoch 219/500\n",
      "3/3 [==============================] - 0s 12ms/step - loss: 0.1859 - accuracy: 0.9500 - val_loss: 0.3329 - val_accuracy: 0.9000\n",
      "Epoch 220/500\n",
      "3/3 [==============================] - 0s 11ms/step - loss: 0.1870 - accuracy: 0.9625 - val_loss: 0.3323 - val_accuracy: 0.9000\n",
      "Epoch 221/500\n",
      "3/3 [==============================] - 0s 11ms/step - loss: 0.1854 - accuracy: 0.9500 - val_loss: 0.3333 - val_accuracy: 0.9000\n",
      "Epoch 222/500\n",
      "3/3 [==============================] - 0s 11ms/step - loss: 0.1842 - accuracy: 0.9625 - val_loss: 0.3377 - val_accuracy: 0.9000\n",
      "Epoch 223/500\n",
      "3/3 [==============================] - 0s 13ms/step - loss: 0.1854 - accuracy: 0.9500 - val_loss: 0.3359 - val_accuracy: 0.9000\n",
      "Epoch 224/500\n",
      "3/3 [==============================] - 0s 11ms/step - loss: 0.1842 - accuracy: 0.9625 - val_loss: 0.3361 - val_accuracy: 0.9000\n",
      "Epoch 225/500\n",
      "3/3 [==============================] - 0s 12ms/step - loss: 0.1848 - accuracy: 0.9625 - val_loss: 0.3401 - val_accuracy: 0.9000\n",
      "Epoch 226/500\n",
      "3/3 [==============================] - 0s 12ms/step - loss: 0.1848 - accuracy: 0.9375 - val_loss: 0.3330 - val_accuracy: 0.9000\n",
      "Epoch 227/500\n",
      "3/3 [==============================] - 0s 12ms/step - loss: 0.1832 - accuracy: 0.9625 - val_loss: 0.3349 - val_accuracy: 0.9000\n",
      "Epoch 228/500\n",
      "3/3 [==============================] - 0s 13ms/step - loss: 0.1820 - accuracy: 0.9625 - val_loss: 0.3374 - val_accuracy: 0.9000\n",
      "Epoch 229/500\n",
      "3/3 [==============================] - 0s 13ms/step - loss: 0.1817 - accuracy: 0.9625 - val_loss: 0.3369 - val_accuracy: 0.9000\n",
      "Epoch 230/500\n",
      "3/3 [==============================] - 0s 11ms/step - loss: 0.1817 - accuracy: 0.9625 - val_loss: 0.3327 - val_accuracy: 0.9000\n",
      "Epoch 231/500\n",
      "3/3 [==============================] - 0s 15ms/step - loss: 0.1840 - accuracy: 0.9625 - val_loss: 0.3340 - val_accuracy: 0.9000\n",
      "Epoch 232/500\n",
      "3/3 [==============================] - 0s 11ms/step - loss: 0.1822 - accuracy: 0.9625 - val_loss: 0.3321 - val_accuracy: 0.9000\n",
      "Epoch 233/500\n",
      "3/3 [==============================] - 0s 12ms/step - loss: 0.1807 - accuracy: 0.9625 - val_loss: 0.3333 - val_accuracy: 0.9000\n",
      "Epoch 234/500\n",
      "3/3 [==============================] - 0s 11ms/step - loss: 0.1839 - accuracy: 0.9625 - val_loss: 0.3299 - val_accuracy: 0.9000\n",
      "Epoch 235/500\n",
      "3/3 [==============================] - 0s 12ms/step - loss: 0.1815 - accuracy: 0.9625 - val_loss: 0.3309 - val_accuracy: 0.9000\n",
      "Epoch 236/500\n",
      "3/3 [==============================] - 0s 12ms/step - loss: 0.1823 - accuracy: 0.9625 - val_loss: 0.3343 - val_accuracy: 0.9000\n",
      "Epoch 237/500\n",
      "3/3 [==============================] - 0s 14ms/step - loss: 0.1791 - accuracy: 0.9625 - val_loss: 0.3350 - val_accuracy: 0.9000\n",
      "Epoch 238/500\n",
      "3/3 [==============================] - 0s 11ms/step - loss: 0.1788 - accuracy: 0.9625 - val_loss: 0.3383 - val_accuracy: 0.9000\n",
      "Epoch 239/500\n",
      "3/3 [==============================] - 0s 11ms/step - loss: 0.1784 - accuracy: 0.9500 - val_loss: 0.3378 - val_accuracy: 0.9000\n",
      "Epoch 240/500\n",
      "3/3 [==============================] - 0s 11ms/step - loss: 0.1803 - accuracy: 0.9625 - val_loss: 0.3416 - val_accuracy: 0.9000\n",
      "Epoch 241/500\n",
      "3/3 [==============================] - 0s 12ms/step - loss: 0.1793 - accuracy: 0.9500 - val_loss: 0.3371 - val_accuracy: 0.9000\n",
      "Epoch 242/500\n",
      "3/3 [==============================] - 0s 11ms/step - loss: 0.1768 - accuracy: 0.9625 - val_loss: 0.3370 - val_accuracy: 0.9000\n",
      "Epoch 243/500\n",
      "3/3 [==============================] - 0s 11ms/step - loss: 0.1771 - accuracy: 0.9625 - val_loss: 0.3416 - val_accuracy: 0.9000\n",
      "Epoch 244/500\n",
      "3/3 [==============================] - 0s 12ms/step - loss: 0.1791 - accuracy: 0.9625 - val_loss: 0.3396 - val_accuracy: 0.9000\n",
      "Epoch 245/500\n",
      "3/3 [==============================] - 0s 11ms/step - loss: 0.1760 - accuracy: 0.9625 - val_loss: 0.3417 - val_accuracy: 0.9000\n",
      "Epoch 246/500\n",
      "3/3 [==============================] - 0s 12ms/step - loss: 0.1759 - accuracy: 0.9625 - val_loss: 0.3409 - val_accuracy: 0.9000\n",
      "Epoch 247/500\n",
      "3/3 [==============================] - 0s 11ms/step - loss: 0.1766 - accuracy: 0.9625 - val_loss: 0.3413 - val_accuracy: 0.9000\n",
      "Epoch 248/500\n",
      "3/3 [==============================] - 0s 11ms/step - loss: 0.1753 - accuracy: 0.9625 - val_loss: 0.3399 - val_accuracy: 0.9000\n",
      "Epoch 249/500\n",
      "3/3 [==============================] - 0s 11ms/step - loss: 0.1802 - accuracy: 0.9625 - val_loss: 0.3490 - val_accuracy: 0.9000\n",
      "Epoch 250/500\n",
      "3/3 [==============================] - 0s 12ms/step - loss: 0.1762 - accuracy: 0.9500 - val_loss: 0.3419 - val_accuracy: 0.9000\n",
      "Epoch 251/500\n",
      "3/3 [==============================] - 0s 14ms/step - loss: 0.1754 - accuracy: 0.9625 - val_loss: 0.3447 - val_accuracy: 0.9000\n",
      "Epoch 252/500\n",
      "3/3 [==============================] - 0s 11ms/step - loss: 0.1763 - accuracy: 0.9500 - val_loss: 0.3420 - val_accuracy: 0.9000\n",
      "Epoch 253/500\n",
      "3/3 [==============================] - 0s 12ms/step - loss: 0.1737 - accuracy: 0.9625 - val_loss: 0.3428 - val_accuracy: 0.9000\n",
      "Epoch 254/500\n",
      "3/3 [==============================] - 0s 11ms/step - loss: 0.1747 - accuracy: 0.9625 - val_loss: 0.3427 - val_accuracy: 0.9000\n",
      "Epoch 255/500\n",
      "3/3 [==============================] - 0s 11ms/step - loss: 0.1747 - accuracy: 0.9625 - val_loss: 0.3397 - val_accuracy: 0.9000\n",
      "Epoch 256/500\n",
      "3/3 [==============================] - 0s 12ms/step - loss: 0.1747 - accuracy: 0.9625 - val_loss: 0.3372 - val_accuracy: 0.9000\n",
      "Epoch 257/500\n",
      "3/3 [==============================] - 0s 10ms/step - loss: 0.1737 - accuracy: 0.9625 - val_loss: 0.3401 - val_accuracy: 0.9000\n",
      "Epoch 258/500\n",
      "3/3 [==============================] - 0s 12ms/step - loss: 0.1732 - accuracy: 0.9625 - val_loss: 0.3421 - val_accuracy: 0.9000\n",
      "Epoch 259/500\n",
      "3/3 [==============================] - 0s 12ms/step - loss: 0.1744 - accuracy: 0.9625 - val_loss: 0.3449 - val_accuracy: 0.9000\n",
      "Epoch 260/500\n",
      "3/3 [==============================] - 0s 11ms/step - loss: 0.1722 - accuracy: 0.9625 - val_loss: 0.3452 - val_accuracy: 0.9000\n",
      "Epoch 261/500\n",
      "3/3 [==============================] - 0s 11ms/step - loss: 0.1752 - accuracy: 0.9625 - val_loss: 0.3481 - val_accuracy: 0.9000\n",
      "Epoch 262/500\n",
      "3/3 [==============================] - 0s 11ms/step - loss: 0.1719 - accuracy: 0.9500 - val_loss: 0.3457 - val_accuracy: 0.9000\n",
      "Epoch 263/500\n",
      "3/3 [==============================] - 0s 13ms/step - loss: 0.1728 - accuracy: 0.9625 - val_loss: 0.3447 - val_accuracy: 0.9000\n",
      "Epoch 264/500\n",
      "3/3 [==============================] - 0s 11ms/step - loss: 0.1736 - accuracy: 0.9625 - val_loss: 0.3432 - val_accuracy: 0.9000\n",
      "Epoch 265/500\n",
      "3/3 [==============================] - 0s 12ms/step - loss: 0.1718 - accuracy: 0.9625 - val_loss: 0.3465 - val_accuracy: 0.9000\n",
      "Epoch 266/500\n",
      "3/3 [==============================] - 0s 11ms/step - loss: 0.1711 - accuracy: 0.9625 - val_loss: 0.3450 - val_accuracy: 0.9000\n",
      "Epoch 267/500\n",
      "3/3 [==============================] - 0s 11ms/step - loss: 0.1699 - accuracy: 0.9625 - val_loss: 0.3448 - val_accuracy: 0.9000\n",
      "Epoch 268/500\n",
      "3/3 [==============================] - 0s 11ms/step - loss: 0.1713 - accuracy: 0.9625 - val_loss: 0.3503 - val_accuracy: 0.9000\n",
      "Epoch 269/500\n",
      "3/3 [==============================] - 0s 13ms/step - loss: 0.1698 - accuracy: 0.9625 - val_loss: 0.3492 - val_accuracy: 0.9000\n",
      "Epoch 270/500\n",
      "3/3 [==============================] - 0s 12ms/step - loss: 0.1698 - accuracy: 0.9625 - val_loss: 0.3498 - val_accuracy: 0.9000\n",
      "Epoch 271/500\n",
      "3/3 [==============================] - 0s 10ms/step - loss: 0.1698 - accuracy: 0.9625 - val_loss: 0.3483 - val_accuracy: 0.9000\n",
      "Epoch 272/500\n",
      "3/3 [==============================] - 0s 11ms/step - loss: 0.1689 - accuracy: 0.9625 - val_loss: 0.3471 - val_accuracy: 0.9000\n",
      "Epoch 273/500\n",
      "3/3 [==============================] - 0s 11ms/step - loss: 0.1713 - accuracy: 0.9500 - val_loss: 0.3450 - val_accuracy: 0.9000\n",
      "Epoch 274/500\n",
      "3/3 [==============================] - 0s 12ms/step - loss: 0.1698 - accuracy: 0.9625 - val_loss: 0.3461 - val_accuracy: 0.9000\n",
      "Epoch 275/500\n",
      "3/3 [==============================] - 0s 17ms/step - loss: 0.1698 - accuracy: 0.9625 - val_loss: 0.3507 - val_accuracy: 0.9000\n",
      "Epoch 276/500\n",
      "3/3 [==============================] - 0s 11ms/step - loss: 0.1696 - accuracy: 0.9625 - val_loss: 0.3474 - val_accuracy: 0.9000\n",
      "Epoch 277/500\n",
      "3/3 [==============================] - 0s 10ms/step - loss: 0.1679 - accuracy: 0.9625 - val_loss: 0.3494 - val_accuracy: 0.9000\n",
      "Epoch 278/500\n",
      "3/3 [==============================] - 0s 11ms/step - loss: 0.1679 - accuracy: 0.9625 - val_loss: 0.3476 - val_accuracy: 0.9000\n",
      "Epoch 279/500\n",
      "3/3 [==============================] - 0s 11ms/step - loss: 0.1692 - accuracy: 0.9625 - val_loss: 0.3477 - val_accuracy: 0.9000\n",
      "Epoch 280/500\n",
      "3/3 [==============================] - 0s 11ms/step - loss: 0.1687 - accuracy: 0.9625 - val_loss: 0.3508 - val_accuracy: 0.9000\n",
      "Epoch 281/500\n",
      "3/3 [==============================] - 0s 11ms/step - loss: 0.1672 - accuracy: 0.9625 - val_loss: 0.3516 - val_accuracy: 0.9000\n",
      "Epoch 282/500\n",
      "3/3 [==============================] - 0s 12ms/step - loss: 0.1667 - accuracy: 0.9625 - val_loss: 0.3500 - val_accuracy: 0.9000\n",
      "Epoch 283/500\n",
      "3/3 [==============================] - 0s 10ms/step - loss: 0.1691 - accuracy: 0.9625 - val_loss: 0.3460 - val_accuracy: 0.9000\n",
      "Epoch 284/500\n",
      "3/3 [==============================] - 0s 11ms/step - loss: 0.1683 - accuracy: 0.9625 - val_loss: 0.3508 - val_accuracy: 0.9000\n",
      "Epoch 285/500\n",
      "3/3 [==============================] - 0s 12ms/step - loss: 0.1713 - accuracy: 0.9625 - val_loss: 0.3511 - val_accuracy: 0.9000\n",
      "Epoch 286/500\n",
      "3/3 [==============================] - 0s 11ms/step - loss: 0.1681 - accuracy: 0.9625 - val_loss: 0.3511 - val_accuracy: 0.9000\n",
      "Epoch 287/500\n",
      "3/3 [==============================] - 0s 11ms/step - loss: 0.1661 - accuracy: 0.9625 - val_loss: 0.3537 - val_accuracy: 0.9000\n",
      "Epoch 288/500\n",
      "3/3 [==============================] - 0s 11ms/step - loss: 0.1679 - accuracy: 0.9625 - val_loss: 0.3552 - val_accuracy: 0.9000\n",
      "Epoch 289/500\n",
      "3/3 [==============================] - 0s 14ms/step - loss: 0.1661 - accuracy: 0.9625 - val_loss: 0.3553 - val_accuracy: 0.9000\n",
      "Epoch 290/500\n",
      "3/3 [==============================] - 0s 10ms/step - loss: 0.1661 - accuracy: 0.9625 - val_loss: 0.3538 - val_accuracy: 0.9000\n",
      "Epoch 291/500\n",
      "3/3 [==============================] - 0s 11ms/step - loss: 0.1669 - accuracy: 0.9625 - val_loss: 0.3587 - val_accuracy: 0.9000\n",
      "Epoch 292/500\n",
      "3/3 [==============================] - 0s 11ms/step - loss: 0.1682 - accuracy: 0.9500 - val_loss: 0.3510 - val_accuracy: 0.9000\n",
      "Epoch 293/500\n",
      "3/3 [==============================] - 0s 11ms/step - loss: 0.1681 - accuracy: 0.9625 - val_loss: 0.3596 - val_accuracy: 0.9000\n",
      "Epoch 294/500\n",
      "3/3 [==============================] - 0s 16ms/step - loss: 0.1659 - accuracy: 0.9625 - val_loss: 0.3586 - val_accuracy: 0.9000\n",
      "Epoch 295/500\n",
      "3/3 [==============================] - 0s 11ms/step - loss: 0.1650 - accuracy: 0.9625 - val_loss: 0.3553 - val_accuracy: 0.9000\n",
      "Epoch 296/500\n",
      "3/3 [==============================] - 0s 11ms/step - loss: 0.1649 - accuracy: 0.9625 - val_loss: 0.3558 - val_accuracy: 0.9000\n",
      "Epoch 297/500\n",
      "3/3 [==============================] - 0s 11ms/step - loss: 0.1650 - accuracy: 0.9625 - val_loss: 0.3562 - val_accuracy: 0.9000\n",
      "Epoch 298/500\n",
      "3/3 [==============================] - 0s 11ms/step - loss: 0.1644 - accuracy: 0.9625 - val_loss: 0.3530 - val_accuracy: 0.9000\n",
      "Epoch 299/500\n",
      "3/3 [==============================] - 0s 11ms/step - loss: 0.1654 - accuracy: 0.9625 - val_loss: 0.3504 - val_accuracy: 0.9000\n",
      "Epoch 300/500\n",
      "3/3 [==============================] - 0s 10ms/step - loss: 0.1664 - accuracy: 0.9625 - val_loss: 0.3511 - val_accuracy: 0.9000\n",
      "Epoch 301/500\n",
      "3/3 [==============================] - 0s 10ms/step - loss: 0.1694 - accuracy: 0.9625 - val_loss: 0.3528 - val_accuracy: 0.9000\n",
      "Epoch 302/500\n",
      "3/3 [==============================] - 0s 10ms/step - loss: 0.1673 - accuracy: 0.9625 - val_loss: 0.3521 - val_accuracy: 0.9000\n",
      "Epoch 303/500\n",
      "3/3 [==============================] - 0s 10ms/step - loss: 0.1659 - accuracy: 0.9625 - val_loss: 0.3542 - val_accuracy: 0.9000\n",
      "Epoch 304/500\n",
      "3/3 [==============================] - 0s 10ms/step - loss: 0.1650 - accuracy: 0.9625 - val_loss: 0.3576 - val_accuracy: 0.9000\n",
      "Epoch 305/500\n",
      "3/3 [==============================] - 0s 10ms/step - loss: 0.1654 - accuracy: 0.9625 - val_loss: 0.3576 - val_accuracy: 0.9000\n",
      "Epoch 306/500\n",
      "3/3 [==============================] - 0s 10ms/step - loss: 0.1669 - accuracy: 0.9500 - val_loss: 0.3509 - val_accuracy: 0.9000\n",
      "Epoch 307/500\n",
      "3/3 [==============================] - 0s 10ms/step - loss: 0.1655 - accuracy: 0.9625 - val_loss: 0.3526 - val_accuracy: 0.9000\n",
      "Epoch 308/500\n",
      "3/3 [==============================] - 0s 10ms/step - loss: 0.1631 - accuracy: 0.9625 - val_loss: 0.3521 - val_accuracy: 0.9000\n",
      "Epoch 309/500\n",
      "3/3 [==============================] - 0s 11ms/step - loss: 0.1642 - accuracy: 0.9625 - val_loss: 0.3570 - val_accuracy: 0.9000\n",
      "Epoch 310/500\n",
      "3/3 [==============================] - 0s 10ms/step - loss: 0.1634 - accuracy: 0.9625 - val_loss: 0.3589 - val_accuracy: 0.9000\n",
      "Epoch 311/500\n",
      "3/3 [==============================] - 0s 10ms/step - loss: 0.1625 - accuracy: 0.9625 - val_loss: 0.3547 - val_accuracy: 0.9000\n",
      "Epoch 312/500\n",
      "3/3 [==============================] - 0s 10ms/step - loss: 0.1630 - accuracy: 0.9625 - val_loss: 0.3532 - val_accuracy: 0.9000\n",
      "Epoch 313/500\n",
      "3/3 [==============================] - 0s 11ms/step - loss: 0.1625 - accuracy: 0.9625 - val_loss: 0.3571 - val_accuracy: 0.9000\n",
      "Epoch 314/500\n",
      "3/3 [==============================] - 0s 14ms/step - loss: 0.1640 - accuracy: 0.9625 - val_loss: 0.3552 - val_accuracy: 0.9000\n",
      "Epoch 315/500\n",
      "3/3 [==============================] - 0s 10ms/step - loss: 0.1657 - accuracy: 0.9625 - val_loss: 0.3622 - val_accuracy: 0.9000\n",
      "Epoch 316/500\n",
      "3/3 [==============================] - 0s 10ms/step - loss: 0.1623 - accuracy: 0.9500 - val_loss: 0.3592 - val_accuracy: 0.9000\n",
      "Epoch 317/500\n",
      "3/3 [==============================] - 0s 10ms/step - loss: 0.1638 - accuracy: 0.9625 - val_loss: 0.3552 - val_accuracy: 0.9000\n",
      "Epoch 318/500\n",
      "3/3 [==============================] - 0s 10ms/step - loss: 0.1624 - accuracy: 0.9625 - val_loss: 0.3567 - val_accuracy: 0.9000\n",
      "Epoch 319/500\n",
      "3/3 [==============================] - 0s 10ms/step - loss: 0.1614 - accuracy: 0.9625 - val_loss: 0.3616 - val_accuracy: 0.9000\n",
      "Epoch 320/500\n",
      "3/3 [==============================] - 0s 10ms/step - loss: 0.1649 - accuracy: 0.9625 - val_loss: 0.3632 - val_accuracy: 0.9000\n",
      "Epoch 321/500\n",
      "3/3 [==============================] - 0s 10ms/step - loss: 0.1671 - accuracy: 0.9375 - val_loss: 0.3605 - val_accuracy: 0.9000\n",
      "Epoch 322/500\n",
      "3/3 [==============================] - 0s 12ms/step - loss: 0.1604 - accuracy: 0.9625 - val_loss: 0.3605 - val_accuracy: 0.9000\n",
      "Epoch 323/500\n",
      "3/3 [==============================] - 0s 13ms/step - loss: 0.1628 - accuracy: 0.9625 - val_loss: 0.3600 - val_accuracy: 0.9000\n",
      "Epoch 324/500\n",
      "3/3 [==============================] - 0s 13ms/step - loss: 0.1603 - accuracy: 0.9625 - val_loss: 0.3637 - val_accuracy: 0.9000\n",
      "Epoch 325/500\n",
      "3/3 [==============================] - 0s 11ms/step - loss: 0.1613 - accuracy: 0.9625 - val_loss: 0.3636 - val_accuracy: 0.9000\n",
      "Epoch 326/500\n",
      "3/3 [==============================] - 0s 12ms/step - loss: 0.1593 - accuracy: 0.9625 - val_loss: 0.3650 - val_accuracy: 0.9000\n",
      "Epoch 327/500\n",
      "3/3 [==============================] - 0s 14ms/step - loss: 0.1656 - accuracy: 0.9625 - val_loss: 0.3593 - val_accuracy: 0.9000\n",
      "Epoch 328/500\n",
      "3/3 [==============================] - 0s 15ms/step - loss: 0.1613 - accuracy: 0.9625 - val_loss: 0.3651 - val_accuracy: 0.9000\n",
      "Epoch 329/500\n",
      "3/3 [==============================] - 0s 11ms/step - loss: 0.1592 - accuracy: 0.9625 - val_loss: 0.3663 - val_accuracy: 0.9000\n",
      "Epoch 330/500\n",
      "3/3 [==============================] - 0s 11ms/step - loss: 0.1599 - accuracy: 0.9625 - val_loss: 0.3666 - val_accuracy: 0.9000\n",
      "Epoch 331/500\n",
      "3/3 [==============================] - 0s 14ms/step - loss: 0.1655 - accuracy: 0.9500 - val_loss: 0.3608 - val_accuracy: 0.9000\n",
      "Epoch 332/500\n",
      "3/3 [==============================] - 0s 11ms/step - loss: 0.1660 - accuracy: 0.9625 - val_loss: 0.3677 - val_accuracy: 0.9000\n",
      "Epoch 333/500\n",
      "3/3 [==============================] - 0s 12ms/step - loss: 0.1609 - accuracy: 0.9625 - val_loss: 0.3634 - val_accuracy: 0.9000\n",
      "Epoch 334/500\n",
      "3/3 [==============================] - 0s 12ms/step - loss: 0.1613 - accuracy: 0.9625 - val_loss: 0.3624 - val_accuracy: 0.9000\n",
      "Epoch 335/500\n",
      "3/3 [==============================] - 0s 10ms/step - loss: 0.1581 - accuracy: 0.9625 - val_loss: 0.3644 - val_accuracy: 0.9000\n",
      "Epoch 336/500\n",
      "3/3 [==============================] - 0s 10ms/step - loss: 0.1586 - accuracy: 0.9625 - val_loss: 0.3642 - val_accuracy: 0.9000\n",
      "Epoch 337/500\n",
      "3/3 [==============================] - 0s 11ms/step - loss: 0.1584 - accuracy: 0.9625 - val_loss: 0.3670 - val_accuracy: 0.9000\n",
      "Epoch 338/500\n",
      "3/3 [==============================] - 0s 9ms/step - loss: 0.1578 - accuracy: 0.9625 - val_loss: 0.3663 - val_accuracy: 0.9000\n",
      "Epoch 339/500\n",
      "3/3 [==============================] - 0s 10ms/step - loss: 0.1589 - accuracy: 0.9625 - val_loss: 0.3623 - val_accuracy: 0.9000\n",
      "Epoch 340/500\n",
      "3/3 [==============================] - 0s 11ms/step - loss: 0.1637 - accuracy: 0.9625 - val_loss: 0.3680 - val_accuracy: 0.9000\n",
      "Epoch 341/500\n",
      "3/3 [==============================] - 0s 10ms/step - loss: 0.1574 - accuracy: 0.9625 - val_loss: 0.3657 - val_accuracy: 0.9000\n",
      "Epoch 342/500\n",
      "3/3 [==============================] - 0s 12ms/step - loss: 0.1578 - accuracy: 0.9625 - val_loss: 0.3643 - val_accuracy: 0.9000\n",
      "Epoch 343/500\n",
      "3/3 [==============================] - 0s 13ms/step - loss: 0.1595 - accuracy: 0.9625 - val_loss: 0.3682 - val_accuracy: 0.9000\n",
      "Epoch 344/500\n",
      "3/3 [==============================] - 0s 12ms/step - loss: 0.1595 - accuracy: 0.9625 - val_loss: 0.3744 - val_accuracy: 0.9000\n",
      "Epoch 345/500\n",
      "3/3 [==============================] - 0s 12ms/step - loss: 0.1597 - accuracy: 0.9500 - val_loss: 0.3758 - val_accuracy: 0.9000\n",
      "Epoch 346/500\n",
      "3/3 [==============================] - 0s 12ms/step - loss: 0.1587 - accuracy: 0.9625 - val_loss: 0.3735 - val_accuracy: 0.9000\n",
      "Epoch 347/500\n",
      "3/3 [==============================] - 0s 11ms/step - loss: 0.1578 - accuracy: 0.9625 - val_loss: 0.3694 - val_accuracy: 0.9000\n",
      "Epoch 348/500\n",
      "3/3 [==============================] - 0s 11ms/step - loss: 0.1579 - accuracy: 0.9625 - val_loss: 0.3718 - val_accuracy: 0.9000\n",
      "Epoch 349/500\n",
      "3/3 [==============================] - 0s 14ms/step - loss: 0.1568 - accuracy: 0.9625 - val_loss: 0.3703 - val_accuracy: 0.9000\n",
      "Epoch 350/500\n",
      "3/3 [==============================] - 0s 11ms/step - loss: 0.1570 - accuracy: 0.9625 - val_loss: 0.3731 - val_accuracy: 0.9000\n",
      "Epoch 351/500\n",
      "3/3 [==============================] - 0s 17ms/step - loss: 0.1577 - accuracy: 0.9625 - val_loss: 0.3722 - val_accuracy: 0.9000\n",
      "Epoch 352/500\n",
      "3/3 [==============================] - 0s 16ms/step - loss: 0.1561 - accuracy: 0.9625 - val_loss: 0.3720 - val_accuracy: 0.9000\n",
      "Epoch 353/500\n",
      "3/3 [==============================] - 0s 11ms/step - loss: 0.1578 - accuracy: 0.9625 - val_loss: 0.3677 - val_accuracy: 0.9000\n",
      "Epoch 354/500\n",
      "3/3 [==============================] - 0s 12ms/step - loss: 0.1612 - accuracy: 0.9625 - val_loss: 0.3647 - val_accuracy: 0.9000\n",
      "Epoch 355/500\n",
      "3/3 [==============================] - 0s 12ms/step - loss: 0.1641 - accuracy: 0.9625 - val_loss: 0.3636 - val_accuracy: 0.9000\n",
      "Epoch 356/500\n",
      "3/3 [==============================] - 0s 12ms/step - loss: 0.1592 - accuracy: 0.9625 - val_loss: 0.3654 - val_accuracy: 0.9000\n",
      "Epoch 357/500\n",
      "3/3 [==============================] - 0s 14ms/step - loss: 0.1595 - accuracy: 0.9625 - val_loss: 0.3746 - val_accuracy: 0.9000\n",
      "Epoch 358/500\n",
      "3/3 [==============================] - 0s 11ms/step - loss: 0.1576 - accuracy: 0.9625 - val_loss: 0.3778 - val_accuracy: 0.9000\n",
      "Epoch 359/500\n",
      "3/3 [==============================] - 0s 11ms/step - loss: 0.1572 - accuracy: 0.9500 - val_loss: 0.3730 - val_accuracy: 0.9000\n",
      "Epoch 360/500\n",
      "3/3 [==============================] - 0s 11ms/step - loss: 0.1571 - accuracy: 0.9625 - val_loss: 0.3768 - val_accuracy: 0.9000\n",
      "Epoch 361/500\n",
      "3/3 [==============================] - 0s 11ms/step - loss: 0.1563 - accuracy: 0.9500 - val_loss: 0.3751 - val_accuracy: 0.9000\n",
      "Epoch 362/500\n",
      "3/3 [==============================] - 0s 11ms/step - loss: 0.1556 - accuracy: 0.9625 - val_loss: 0.3768 - val_accuracy: 0.9000\n",
      "Epoch 363/500\n",
      "3/3 [==============================] - 0s 11ms/step - loss: 0.1598 - accuracy: 0.9625 - val_loss: 0.3794 - val_accuracy: 0.9000\n",
      "Epoch 364/500\n",
      "3/3 [==============================] - 0s 11ms/step - loss: 0.1570 - accuracy: 0.9500 - val_loss: 0.3706 - val_accuracy: 0.9000\n",
      "Epoch 365/500\n",
      "3/3 [==============================] - 0s 12ms/step - loss: 0.1614 - accuracy: 0.9500 - val_loss: 0.3656 - val_accuracy: 0.9000\n",
      "Epoch 366/500\n",
      "3/3 [==============================] - 0s 11ms/step - loss: 0.1592 - accuracy: 0.9625 - val_loss: 0.3662 - val_accuracy: 0.9000\n",
      "Epoch 367/500\n",
      "3/3 [==============================] - 0s 11ms/step - loss: 0.1573 - accuracy: 0.9625 - val_loss: 0.3702 - val_accuracy: 0.9000\n",
      "Epoch 368/500\n",
      "3/3 [==============================] - 0s 13ms/step - loss: 0.1544 - accuracy: 0.9625 - val_loss: 0.3709 - val_accuracy: 0.9000\n",
      "Epoch 369/500\n",
      "3/3 [==============================] - 0s 12ms/step - loss: 0.1563 - accuracy: 0.9625 - val_loss: 0.3729 - val_accuracy: 0.9000\n",
      "Epoch 370/500\n",
      "3/3 [==============================] - 0s 14ms/step - loss: 0.1565 - accuracy: 0.9625 - val_loss: 0.3710 - val_accuracy: 0.9000\n",
      "Epoch 371/500\n",
      "3/3 [==============================] - 0s 11ms/step - loss: 0.1560 - accuracy: 0.9625 - val_loss: 0.3778 - val_accuracy: 0.9000\n",
      "Epoch 372/500\n",
      "3/3 [==============================] - 0s 11ms/step - loss: 0.1550 - accuracy: 0.9625 - val_loss: 0.3809 - val_accuracy: 0.9000\n",
      "Epoch 373/500\n",
      "3/3 [==============================] - 0s 11ms/step - loss: 0.1592 - accuracy: 0.9500 - val_loss: 0.3825 - val_accuracy: 0.9000\n",
      "Epoch 374/500\n",
      "3/3 [==============================] - 0s 11ms/step - loss: 0.1544 - accuracy: 0.9625 - val_loss: 0.3765 - val_accuracy: 0.9000\n",
      "Epoch 375/500\n",
      "3/3 [==============================] - 0s 11ms/step - loss: 0.1544 - accuracy: 0.9625 - val_loss: 0.3732 - val_accuracy: 0.9000\n",
      "Epoch 376/500\n",
      "3/3 [==============================] - 0s 12ms/step - loss: 0.1548 - accuracy: 0.9625 - val_loss: 0.3776 - val_accuracy: 0.9000\n",
      "Epoch 377/500\n",
      "3/3 [==============================] - 0s 11ms/step - loss: 0.1556 - accuracy: 0.9625 - val_loss: 0.3782 - val_accuracy: 0.9000\n",
      "Epoch 378/500\n",
      "3/3 [==============================] - 0s 12ms/step - loss: 0.1542 - accuracy: 0.9625 - val_loss: 0.3773 - val_accuracy: 0.9000\n",
      "Epoch 379/500\n",
      "3/3 [==============================] - 0s 12ms/step - loss: 0.1564 - accuracy: 0.9625 - val_loss: 0.3774 - val_accuracy: 0.9000\n",
      "Epoch 380/500\n",
      "3/3 [==============================] - 0s 12ms/step - loss: 0.1535 - accuracy: 0.9625 - val_loss: 0.3783 - val_accuracy: 0.9000\n",
      "Epoch 381/500\n",
      "3/3 [==============================] - 0s 12ms/step - loss: 0.1550 - accuracy: 0.9625 - val_loss: 0.3765 - val_accuracy: 0.9000\n",
      "Epoch 382/500\n",
      "3/3 [==============================] - 0s 11ms/step - loss: 0.1560 - accuracy: 0.9625 - val_loss: 0.3765 - val_accuracy: 0.9000\n",
      "Epoch 383/500\n",
      "3/3 [==============================] - 0s 11ms/step - loss: 0.1535 - accuracy: 0.9625 - val_loss: 0.3790 - val_accuracy: 0.9000\n",
      "Epoch 384/500\n",
      "3/3 [==============================] - 0s 15ms/step - loss: 0.1535 - accuracy: 0.9625 - val_loss: 0.3806 - val_accuracy: 0.9000\n",
      "Epoch 385/500\n",
      "3/3 [==============================] - 0s 14ms/step - loss: 0.1551 - accuracy: 0.9625 - val_loss: 0.3799 - val_accuracy: 0.9000\n",
      "Epoch 386/500\n",
      "3/3 [==============================] - 0s 12ms/step - loss: 0.1525 - accuracy: 0.9625 - val_loss: 0.3775 - val_accuracy: 0.9000\n",
      "Epoch 387/500\n",
      "3/3 [==============================] - 0s 12ms/step - loss: 0.1554 - accuracy: 0.9625 - val_loss: 0.3791 - val_accuracy: 0.9000\n",
      "Epoch 388/500\n",
      "3/3 [==============================] - 0s 13ms/step - loss: 0.1527 - accuracy: 0.9625 - val_loss: 0.3755 - val_accuracy: 0.9000\n",
      "Epoch 389/500\n",
      "3/3 [==============================] - 0s 12ms/step - loss: 0.1538 - accuracy: 0.9625 - val_loss: 0.3779 - val_accuracy: 0.9000\n",
      "Epoch 390/500\n",
      "3/3 [==============================] - 0s 11ms/step - loss: 0.1530 - accuracy: 0.9625 - val_loss: 0.3773 - val_accuracy: 0.9000\n",
      "Epoch 391/500\n",
      "3/3 [==============================] - 0s 12ms/step - loss: 0.1545 - accuracy: 0.9625 - val_loss: 0.3757 - val_accuracy: 0.9000\n",
      "Epoch 392/500\n",
      "3/3 [==============================] - 0s 12ms/step - loss: 0.1562 - accuracy: 0.9625 - val_loss: 0.3748 - val_accuracy: 0.9000\n",
      "Epoch 393/500\n",
      "3/3 [==============================] - 0s 11ms/step - loss: 0.1532 - accuracy: 0.9625 - val_loss: 0.3790 - val_accuracy: 0.9000\n",
      "Epoch 394/500\n",
      "3/3 [==============================] - 0s 12ms/step - loss: 0.1525 - accuracy: 0.9625 - val_loss: 0.3790 - val_accuracy: 0.9000\n",
      "Epoch 395/500\n",
      "3/3 [==============================] - 0s 11ms/step - loss: 0.1542 - accuracy: 0.9625 - val_loss: 0.3783 - val_accuracy: 0.9000\n",
      "Epoch 396/500\n",
      "3/3 [==============================] - 0s 11ms/step - loss: 0.1527 - accuracy: 0.9625 - val_loss: 0.3838 - val_accuracy: 0.9000\n",
      "Epoch 397/500\n",
      "3/3 [==============================] - 0s 11ms/step - loss: 0.1613 - accuracy: 0.9625 - val_loss: 0.3838 - val_accuracy: 0.9000\n",
      "Epoch 398/500\n",
      "3/3 [==============================] - 0s 12ms/step - loss: 0.1542 - accuracy: 0.9625 - val_loss: 0.3878 - val_accuracy: 0.9000\n",
      "Epoch 399/500\n",
      "3/3 [==============================] - 0s 12ms/step - loss: 0.1535 - accuracy: 0.9500 - val_loss: 0.3838 - val_accuracy: 0.9000\n",
      "Epoch 400/500\n",
      "3/3 [==============================] - 0s 10ms/step - loss: 0.1581 - accuracy: 0.9500 - val_loss: 0.3798 - val_accuracy: 0.9000\n",
      "Epoch 401/500\n",
      "3/3 [==============================] - 0s 11ms/step - loss: 0.1518 - accuracy: 0.9625 - val_loss: 0.3791 - val_accuracy: 0.9000\n",
      "Epoch 402/500\n",
      "3/3 [==============================] - 0s 11ms/step - loss: 0.1551 - accuracy: 0.9500 - val_loss: 0.3732 - val_accuracy: 0.9000\n",
      "Epoch 403/500\n",
      "3/3 [==============================] - 0s 12ms/step - loss: 0.1541 - accuracy: 0.9625 - val_loss: 0.3789 - val_accuracy: 0.9000\n",
      "Epoch 404/500\n",
      "3/3 [==============================] - 0s 11ms/step - loss: 0.1541 - accuracy: 0.9625 - val_loss: 0.3771 - val_accuracy: 0.9000\n",
      "Epoch 405/500\n",
      "3/3 [==============================] - 0s 12ms/step - loss: 0.1537 - accuracy: 0.9625 - val_loss: 0.3868 - val_accuracy: 0.9000\n",
      "Epoch 406/500\n",
      "3/3 [==============================] - 0s 12ms/step - loss: 0.1529 - accuracy: 0.9500 - val_loss: 0.3836 - val_accuracy: 0.9000\n",
      "Epoch 407/500\n",
      "3/3 [==============================] - 0s 13ms/step - loss: 0.1508 - accuracy: 0.9625 - val_loss: 0.3845 - val_accuracy: 0.9000\n",
      "Epoch 408/500\n",
      "3/3 [==============================] - 0s 11ms/step - loss: 0.1525 - accuracy: 0.9625 - val_loss: 0.3804 - val_accuracy: 0.9000\n",
      "Epoch 409/500\n",
      "3/3 [==============================] - 0s 11ms/step - loss: 0.1573 - accuracy: 0.9625 - val_loss: 0.3830 - val_accuracy: 0.9000\n",
      "Epoch 410/500\n",
      "3/3 [==============================] - 0s 11ms/step - loss: 0.1531 - accuracy: 0.9625 - val_loss: 0.3899 - val_accuracy: 0.9000\n",
      "Epoch 411/500\n",
      "3/3 [==============================] - 0s 11ms/step - loss: 0.1517 - accuracy: 0.9500 - val_loss: 0.3841 - val_accuracy: 0.9000\n",
      "Epoch 412/500\n",
      "3/3 [==============================] - 0s 11ms/step - loss: 0.1510 - accuracy: 0.9625 - val_loss: 0.3839 - val_accuracy: 0.9000\n",
      "Epoch 413/500\n",
      "3/3 [==============================] - 0s 12ms/step - loss: 0.1508 - accuracy: 0.9625 - val_loss: 0.3811 - val_accuracy: 0.9000\n",
      "Epoch 414/500\n",
      "3/3 [==============================] - 0s 12ms/step - loss: 0.1537 - accuracy: 0.9625 - val_loss: 0.3863 - val_accuracy: 0.9000\n",
      "Epoch 415/500\n",
      "3/3 [==============================] - 0s 16ms/step - loss: 0.1500 - accuracy: 0.9625 - val_loss: 0.3849 - val_accuracy: 0.9000\n",
      "Epoch 416/500\n",
      "3/3 [==============================] - 0s 11ms/step - loss: 0.1531 - accuracy: 0.9625 - val_loss: 0.3792 - val_accuracy: 0.9000\n",
      "Epoch 417/500\n",
      "3/3 [==============================] - 0s 15ms/step - loss: 0.1511 - accuracy: 0.9625 - val_loss: 0.3827 - val_accuracy: 0.9000\n",
      "Epoch 418/500\n",
      "3/3 [==============================] - 0s 12ms/step - loss: 0.1525 - accuracy: 0.9625 - val_loss: 0.3852 - val_accuracy: 0.9000\n",
      "Epoch 419/500\n",
      "3/3 [==============================] - 0s 14ms/step - loss: 0.1513 - accuracy: 0.9625 - val_loss: 0.3823 - val_accuracy: 0.9000\n",
      "Epoch 420/500\n",
      "3/3 [==============================] - 0s 13ms/step - loss: 0.1521 - accuracy: 0.9625 - val_loss: 0.3810 - val_accuracy: 0.9000\n",
      "Epoch 421/500\n",
      "3/3 [==============================] - 0s 14ms/step - loss: 0.1540 - accuracy: 0.9625 - val_loss: 0.3893 - val_accuracy: 0.9000\n",
      "Epoch 422/500\n",
      "3/3 [==============================] - 0s 14ms/step - loss: 0.1519 - accuracy: 0.9500 - val_loss: 0.3876 - val_accuracy: 0.9000\n",
      "Epoch 423/500\n",
      "3/3 [==============================] - 0s 12ms/step - loss: 0.1524 - accuracy: 0.9625 - val_loss: 0.3906 - val_accuracy: 0.9000\n",
      "Epoch 424/500\n",
      "3/3 [==============================] - 0s 12ms/step - loss: 0.1561 - accuracy: 0.9625 - val_loss: 0.4014 - val_accuracy: 0.9000\n",
      "Epoch 425/500\n",
      "3/3 [==============================] - 0s 10ms/step - loss: 0.1527 - accuracy: 0.9500 - val_loss: 0.3953 - val_accuracy: 0.9000\n",
      "Epoch 426/500\n",
      "3/3 [==============================] - 0s 12ms/step - loss: 0.1515 - accuracy: 0.9500 - val_loss: 0.3885 - val_accuracy: 0.9000\n",
      "Epoch 427/500\n",
      "3/3 [==============================] - 0s 11ms/step - loss: 0.1514 - accuracy: 0.9625 - val_loss: 0.3837 - val_accuracy: 0.9000\n",
      "Epoch 428/500\n",
      "3/3 [==============================] - 0s 11ms/step - loss: 0.1503 - accuracy: 0.9625 - val_loss: 0.3844 - val_accuracy: 0.9000\n",
      "Epoch 429/500\n",
      "3/3 [==============================] - 0s 12ms/step - loss: 0.1495 - accuracy: 0.9625 - val_loss: 0.3850 - val_accuracy: 0.9000\n",
      "Epoch 430/500\n",
      "3/3 [==============================] - 0s 13ms/step - loss: 0.1529 - accuracy: 0.9625 - val_loss: 0.3852 - val_accuracy: 0.9000\n",
      "Epoch 431/500\n",
      "3/3 [==============================] - 0s 17ms/step - loss: 0.1535 - accuracy: 0.9625 - val_loss: 0.3897 - val_accuracy: 0.9000\n",
      "Epoch 432/500\n",
      "3/3 [==============================] - 0s 14ms/step - loss: 0.1516 - accuracy: 0.9625 - val_loss: 0.3884 - val_accuracy: 0.9000\n",
      "Epoch 433/500\n",
      "3/3 [==============================] - 0s 14ms/step - loss: 0.1529 - accuracy: 0.9625 - val_loss: 0.3974 - val_accuracy: 0.9000\n",
      "Epoch 434/500\n",
      "3/3 [==============================] - 0s 13ms/step - loss: 0.1512 - accuracy: 0.9500 - val_loss: 0.3898 - val_accuracy: 0.9000\n",
      "Epoch 435/500\n",
      "3/3 [==============================] - 0s 14ms/step - loss: 0.1495 - accuracy: 0.9625 - val_loss: 0.3867 - val_accuracy: 0.9000\n",
      "Epoch 436/500\n",
      "3/3 [==============================] - 0s 11ms/step - loss: 0.1513 - accuracy: 0.9625 - val_loss: 0.3891 - val_accuracy: 0.9000\n",
      "Epoch 437/500\n",
      "3/3 [==============================] - 0s 13ms/step - loss: 0.1501 - accuracy: 0.9625 - val_loss: 0.3861 - val_accuracy: 0.9000\n",
      "Epoch 438/500\n",
      "3/3 [==============================] - 0s 12ms/step - loss: 0.1499 - accuracy: 0.9625 - val_loss: 0.3885 - val_accuracy: 0.9000\n",
      "Epoch 439/500\n",
      "3/3 [==============================] - 0s 10ms/step - loss: 0.1529 - accuracy: 0.9625 - val_loss: 0.3999 - val_accuracy: 0.9000\n",
      "Epoch 440/500\n",
      "3/3 [==============================] - 0s 11ms/step - loss: 0.1506 - accuracy: 0.9500 - val_loss: 0.3946 - val_accuracy: 0.9000\n",
      "Epoch 441/500\n",
      "3/3 [==============================] - 0s 12ms/step - loss: 0.1487 - accuracy: 0.9625 - val_loss: 0.3943 - val_accuracy: 0.9000\n",
      "Epoch 442/500\n",
      "3/3 [==============================] - 0s 11ms/step - loss: 0.1491 - accuracy: 0.9625 - val_loss: 0.3981 - val_accuracy: 0.9000\n",
      "Epoch 443/500\n",
      "3/3 [==============================] - 0s 11ms/step - loss: 0.1483 - accuracy: 0.9625 - val_loss: 0.3968 - val_accuracy: 0.9000\n",
      "Epoch 444/500\n",
      "3/3 [==============================] - 0s 11ms/step - loss: 0.1490 - accuracy: 0.9625 - val_loss: 0.3916 - val_accuracy: 0.9000\n",
      "Epoch 445/500\n",
      "3/3 [==============================] - 0s 10ms/step - loss: 0.1510 - accuracy: 0.9625 - val_loss: 0.4021 - val_accuracy: 0.9000\n",
      "Epoch 446/500\n",
      "3/3 [==============================] - 0s 14ms/step - loss: 0.1530 - accuracy: 0.9625 - val_loss: 0.4072 - val_accuracy: 0.9000\n",
      "Epoch 447/500\n",
      "3/3 [==============================] - 0s 15ms/step - loss: 0.1518 - accuracy: 0.9500 - val_loss: 0.3931 - val_accuracy: 0.9000\n",
      "Epoch 448/500\n",
      "3/3 [==============================] - 0s 15ms/step - loss: 0.1499 - accuracy: 0.9625 - val_loss: 0.3929 - val_accuracy: 0.9000\n",
      "Epoch 449/500\n",
      "3/3 [==============================] - 0s 15ms/step - loss: 0.1482 - accuracy: 0.9625 - val_loss: 0.3949 - val_accuracy: 0.9000\n",
      "Epoch 450/500\n",
      "3/3 [==============================] - 0s 14ms/step - loss: 0.1483 - accuracy: 0.9625 - val_loss: 0.3917 - val_accuracy: 0.9000\n",
      "Epoch 451/500\n",
      "3/3 [==============================] - 0s 13ms/step - loss: 0.1474 - accuracy: 0.9625 - val_loss: 0.3933 - val_accuracy: 0.9000\n",
      "Epoch 452/500\n",
      "3/3 [==============================] - 0s 12ms/step - loss: 0.1472 - accuracy: 0.9625 - val_loss: 0.3949 - val_accuracy: 0.9000\n",
      "Epoch 453/500\n",
      "3/3 [==============================] - 0s 11ms/step - loss: 0.1482 - accuracy: 0.9625 - val_loss: 0.3962 - val_accuracy: 0.9000\n",
      "Epoch 454/500\n",
      "3/3 [==============================] - 0s 12ms/step - loss: 0.1542 - accuracy: 0.9625 - val_loss: 0.4030 - val_accuracy: 0.9000\n",
      "Epoch 455/500\n",
      "3/3 [==============================] - 0s 14ms/step - loss: 0.1515 - accuracy: 0.9625 - val_loss: 0.4065 - val_accuracy: 0.9000\n",
      "Epoch 456/500\n",
      "3/3 [==============================] - 0s 13ms/step - loss: 0.1546 - accuracy: 0.9625 - val_loss: 0.3958 - val_accuracy: 0.9000\n",
      "Epoch 457/500\n",
      "3/3 [==============================] - 0s 11ms/step - loss: 0.1546 - accuracy: 0.9500 - val_loss: 0.3907 - val_accuracy: 0.9000\n",
      "Epoch 458/500\n",
      "3/3 [==============================] - 0s 12ms/step - loss: 0.1471 - accuracy: 0.9625 - val_loss: 0.3910 - val_accuracy: 0.9000\n",
      "Epoch 459/500\n",
      "3/3 [==============================] - 0s 11ms/step - loss: 0.1488 - accuracy: 0.9625 - val_loss: 0.3973 - val_accuracy: 0.9000\n",
      "Epoch 460/500\n",
      "3/3 [==============================] - 0s 11ms/step - loss: 0.1477 - accuracy: 0.9625 - val_loss: 0.3936 - val_accuracy: 0.9000\n",
      "Epoch 461/500\n",
      "3/3 [==============================] - 0s 13ms/step - loss: 0.1479 - accuracy: 0.9625 - val_loss: 0.3976 - val_accuracy: 0.9000\n",
      "Epoch 462/500\n",
      "3/3 [==============================] - 0s 14ms/step - loss: 0.1466 - accuracy: 0.9625 - val_loss: 0.4000 - val_accuracy: 0.9000\n",
      "Epoch 463/500\n",
      "3/3 [==============================] - 0s 11ms/step - loss: 0.1481 - accuracy: 0.9625 - val_loss: 0.3939 - val_accuracy: 0.9000\n",
      "Epoch 464/500\n",
      "3/3 [==============================] - 0s 12ms/step - loss: 0.1475 - accuracy: 0.9625 - val_loss: 0.3975 - val_accuracy: 0.9000\n",
      "Epoch 465/500\n",
      "3/3 [==============================] - 0s 11ms/step - loss: 0.1496 - accuracy: 0.9625 - val_loss: 0.3989 - val_accuracy: 0.9000\n",
      "Epoch 466/500\n",
      "3/3 [==============================] - 0s 11ms/step - loss: 0.1468 - accuracy: 0.9625 - val_loss: 0.4004 - val_accuracy: 0.9000\n",
      "Epoch 467/500\n",
      "3/3 [==============================] - 0s 10ms/step - loss: 0.1467 - accuracy: 0.9625 - val_loss: 0.4012 - val_accuracy: 0.9000\n",
      "Epoch 468/500\n",
      "3/3 [==============================] - 0s 11ms/step - loss: 0.1503 - accuracy: 0.9500 - val_loss: 0.3962 - val_accuracy: 0.9000\n",
      "Epoch 469/500\n",
      "3/3 [==============================] - 0s 10ms/step - loss: 0.1475 - accuracy: 0.9625 - val_loss: 0.3944 - val_accuracy: 0.9000\n",
      "Epoch 470/500\n",
      "3/3 [==============================] - 0s 10ms/step - loss: 0.1473 - accuracy: 0.9625 - val_loss: 0.3995 - val_accuracy: 0.9000\n",
      "Epoch 471/500\n",
      "3/3 [==============================] - 0s 11ms/step - loss: 0.1482 - accuracy: 0.9625 - val_loss: 0.3967 - val_accuracy: 0.9000\n",
      "Epoch 472/500\n",
      "3/3 [==============================] - 0s 10ms/step - loss: 0.1482 - accuracy: 0.9625 - val_loss: 0.4051 - val_accuracy: 0.9000\n",
      "Epoch 473/500\n",
      "3/3 [==============================] - 0s 12ms/step - loss: 0.1466 - accuracy: 0.9625 - val_loss: 0.4050 - val_accuracy: 0.9000\n",
      "Epoch 474/500\n",
      "3/3 [==============================] - 0s 10ms/step - loss: 0.1479 - accuracy: 0.9625 - val_loss: 0.3970 - val_accuracy: 0.9000\n",
      "Epoch 475/500\n",
      "3/3 [==============================] - 0s 11ms/step - loss: 0.1476 - accuracy: 0.9625 - val_loss: 0.4047 - val_accuracy: 0.9000\n",
      "Epoch 476/500\n",
      "3/3 [==============================] - 0s 10ms/step - loss: 0.1466 - accuracy: 0.9625 - val_loss: 0.4031 - val_accuracy: 0.9000\n",
      "Epoch 477/500\n",
      "3/3 [==============================] - 0s 11ms/step - loss: 0.1481 - accuracy: 0.9625 - val_loss: 0.4048 - val_accuracy: 0.9000\n",
      "Epoch 478/500\n",
      "3/3 [==============================] - 0s 12ms/step - loss: 0.1469 - accuracy: 0.9625 - val_loss: 0.4002 - val_accuracy: 0.9000\n",
      "Epoch 479/500\n",
      "3/3 [==============================] - 0s 14ms/step - loss: 0.1468 - accuracy: 0.9625 - val_loss: 0.3992 - val_accuracy: 0.9000\n",
      "Epoch 480/500\n",
      "3/3 [==============================] - 0s 11ms/step - loss: 0.1477 - accuracy: 0.9625 - val_loss: 0.3976 - val_accuracy: 0.9000\n",
      "Epoch 481/500\n",
      "3/3 [==============================] - 0s 12ms/step - loss: 0.1561 - accuracy: 0.9625 - val_loss: 0.4013 - val_accuracy: 0.9000\n",
      "Epoch 482/500\n",
      "3/3 [==============================] - 0s 11ms/step - loss: 0.1462 - accuracy: 0.9625 - val_loss: 0.4030 - val_accuracy: 0.9000\n",
      "Epoch 483/500\n",
      "3/3 [==============================] - 0s 12ms/step - loss: 0.1455 - accuracy: 0.9625 - val_loss: 0.4016 - val_accuracy: 0.9000\n",
      "Epoch 484/500\n",
      "3/3 [==============================] - 0s 11ms/step - loss: 0.1516 - accuracy: 0.9625 - val_loss: 0.4031 - val_accuracy: 0.9000\n",
      "Epoch 485/500\n",
      "3/3 [==============================] - 0s 11ms/step - loss: 0.1468 - accuracy: 0.9625 - val_loss: 0.4111 - val_accuracy: 0.9000\n",
      "Epoch 486/500\n",
      "3/3 [==============================] - 0s 11ms/step - loss: 0.1513 - accuracy: 0.9625 - val_loss: 0.4216 - val_accuracy: 0.9000\n",
      "Epoch 487/500\n",
      "3/3 [==============================] - 0s 11ms/step - loss: 0.1543 - accuracy: 0.9500 - val_loss: 0.4072 - val_accuracy: 0.9000\n",
      "Epoch 488/500\n",
      "3/3 [==============================] - 0s 12ms/step - loss: 0.1468 - accuracy: 0.9500 - val_loss: 0.4025 - val_accuracy: 0.9000\n",
      "Epoch 489/500\n",
      "3/3 [==============================] - 0s 11ms/step - loss: 0.1465 - accuracy: 0.9625 - val_loss: 0.4080 - val_accuracy: 0.9000\n",
      "Epoch 490/500\n",
      "3/3 [==============================] - 0s 14ms/step - loss: 0.1504 - accuracy: 0.9500 - val_loss: 0.4010 - val_accuracy: 0.9000\n",
      "Epoch 491/500\n",
      "3/3 [==============================] - 0s 11ms/step - loss: 0.1471 - accuracy: 0.9625 - val_loss: 0.4031 - val_accuracy: 0.9000\n",
      "Epoch 492/500\n",
      "3/3 [==============================] - 0s 11ms/step - loss: 0.1466 - accuracy: 0.9625 - val_loss: 0.4055 - val_accuracy: 0.9000\n",
      "Epoch 493/500\n",
      "3/3 [==============================] - 0s 11ms/step - loss: 0.1464 - accuracy: 0.9625 - val_loss: 0.4080 - val_accuracy: 0.9000\n",
      "Epoch 494/500\n",
      "3/3 [==============================] - 0s 11ms/step - loss: 0.1464 - accuracy: 0.9625 - val_loss: 0.4116 - val_accuracy: 0.9000\n",
      "Epoch 495/500\n",
      "3/3 [==============================] - 0s 10ms/step - loss: 0.1459 - accuracy: 0.9625 - val_loss: 0.4100 - val_accuracy: 0.9000\n",
      "Epoch 496/500\n",
      "3/3 [==============================] - 0s 11ms/step - loss: 0.1482 - accuracy: 0.9625 - val_loss: 0.4062 - val_accuracy: 0.9000\n",
      "Epoch 497/500\n",
      "3/3 [==============================] - 0s 13ms/step - loss: 0.1452 - accuracy: 0.9625 - val_loss: 0.4081 - val_accuracy: 0.9000\n",
      "Epoch 498/500\n",
      "3/3 [==============================] - 0s 11ms/step - loss: 0.1448 - accuracy: 0.9625 - val_loss: 0.4086 - val_accuracy: 0.9000\n",
      "Epoch 499/500\n",
      "3/3 [==============================] - 0s 11ms/step - loss: 0.1478 - accuracy: 0.9625 - val_loss: 0.4089 - val_accuracy: 0.9000\n",
      "Epoch 500/500\n",
      "3/3 [==============================] - 0s 11ms/step - loss: 0.1524 - accuracy: 0.9625 - val_loss: 0.4115 - val_accuracy: 0.9000\n"
     ]
    }
   ],
   "source": [
    "# We'll use 20% of the data as validation and train for 500 epochs\n",
    "model.fit(x=x,\n",
    "          y=y,\n",
    "          validation_split=.2,\n",
    "          epochs=500,\n",
    "          verbose=1);"
   ]
  },
  {
   "attachments": {},
   "cell_type": "markdown",
   "metadata": {},
   "source": [
    "<div class='exercise'> <b>Plot Training History</div>\n",
    "\n",
    "A fitted model's `history.history` attribute is a dictionary which contains information from each training epoch (no, I don't know the rationale behind the double name). Use it to plot the loss across epochs. Don't forget those axis labels! We need to distinguish train from validation."
   ]
  },
  {
   "cell_type": "code",
   "execution_count": 72,
   "metadata": {},
   "outputs": [
    {
     "data": {
      "image/png": "[encoded data removed]",
      "text/plain": [
       "<Figure size 640x480 with 1 Axes>"
      ]
     },
     "metadata": {},
     "output_type": "display_data"
    }
   ],
   "source": [
    "plt.plot(model.history.history['loss'], label='train')\n",
    "plt.plot(model.history.history['val_loss'], label='validation')\n",
    "plt.xlabel('epoch')\n",
    "plt.ylabel('binary cross-entropy loss')\n",
    "plt.legend();"
   ]
  },
  {
   "cell_type": "code",
   "execution_count": 73,
   "metadata": {},
   "outputs": [
    {
     "data": {
      "image/png": "[encoded data removed]",
      "text/plain": [
       "<Figure size 640x480 with 1 Axes>"
      ]
     },
     "metadata": {},
     "output_type": "display_data"
    }
   ],
   "source": [
    "plt.plot(model.history.history['accuracy'], label='train')\n",
    "plt.plot(model.history.history['val_accuracy'], label='validation')\n",
    "plt.xlabel('epoch')\n",
    "plt.ylabel('accuracy')\n",
    "plt.legend();"
   ]
  },
  {
   "attachments": {},
   "cell_type": "markdown",
   "metadata": {},
   "source": [
    "<div class='exercise'> <b>Predict & Plot</div>\n",
    "\n",
    "We use the model's `predict` method on a linspace, `x_lin`, which we previously constructed to span the range of the dataset's $x$ values. We save the resulting predictions in `y_hat`"
   ]
  },
  {
   "cell_type": "code",
   "execution_count": 75,
   "metadata": {},
   "outputs": [
    {
     "name": "stdout",
     "output_type": "stream",
     "text": [
      "10/10 [==============================] - 0s 1ms/step\n"
     ]
    },
    {
     "data": {
      "image/png": "[encoded data removed]",
      "text/plain": [
       "<Figure size 640x480 with 1 Axes>"
      ]
     },
     "metadata": {},
     "output_type": "display_data"
    }
   ],
   "source": [
    "y_hat = model.predict(x_lin)\n",
    "plt.plot(x_lin, y_hat, c='r', label='predictions')\n",
    "plt.scatter(x, y, label='data')\n",
    "plt.legend();"
   ]
  },
  {
   "cell_type": "code",
   "execution_count": 76,
   "metadata": {},
   "outputs": [
    {
     "name": "stdout",
     "output_type": "stream",
     "text": [
      "4/4 [==============================] - 0s 2ms/step - loss: 0.1980 - accuracy: 0.9500\n"
     ]
    },
    {
     "data": {
      "text/plain": [
       "[0.197972372174263, 0.949999988079071]"
      ]
     },
     "execution_count": 76,
     "metadata": {},
     "output_type": "execute_result"
    }
   ],
   "source": [
    "model.evaluate(x, y)"
   ]
  },
  {
   "attachments": {},
   "cell_type": "markdown",
   "metadata": {},
   "source": [
    "<div class='exercise'> <b>Save & Reload model</div>\n",
    "\n",
    "Fitting non-trivial neural networks can take a long time. It is important to know how to save and reload your Keras models."
   ]
  },
  {
   "cell_type": "code",
   "execution_count": 77,
   "metadata": {},
   "outputs": [
    {
     "name": "stdout",
     "output_type": "stream",
     "text": [
      "INFO:tensorflow:Assets written to: first_keras_model/assets\n"
     ]
    },
    {
     "name": "stderr",
     "output_type": "stream",
     "text": [
      "INFO:tensorflow:Assets written to: first_keras_model/assets\n"
     ]
    },
    {
     "name": "stdout",
     "output_type": "stream",
     "text": [
      "Model: \"first_model\"\n",
      "_________________________________________________________________\n",
      " Layer (type)                Output Shape              Param #   \n",
      "=================================================================\n",
      " dense_12 (Dense)            (None, 2)                 4         \n",
      "                                                                 \n",
      " dense_13 (Dense)            (None, 1)                 3         \n",
      "                                                                 \n",
      "=================================================================\n",
      "Total params: 7 (28.00 Byte)\n",
      "Trainable params: 7 (28.00 Byte)\n",
      "Non-trainable params: 0 (0.00 Byte)\n",
      "_________________________________________________________________\n"
     ]
    }
   ],
   "source": [
    "# save model\n",
    "model.save('first_keras_model')\n",
    "# reload saved model into new variable\n",
    "model_reload = models.load_model(\"first_keras_model\")\n",
    "# display summary\n",
    "model_reload.summary()"
   ]
  },
  {
   "cell_type": "code",
   "execution_count": 78,
   "metadata": {},
   "outputs": [
    {
     "data": {
      "image/png": "[encoded data removed]",
      "text/plain": [
       "<Figure size 640x480 with 1 Axes>"
      ]
     },
     "metadata": {},
     "output_type": "display_data"
    }
   ],
   "source": [
    "y_hat = model_reload.predict(x_lin, verbose=0)\n",
    "plt.plot(x_lin, y_hat, c='r', label='predictions')\n",
    "plt.scatter(x, y, label='data')\n",
    "plt.title(\"Loaded Model\")\n",
    "plt.legend();"
   ]
  },
  {
   "attachments": {},
   "cell_type": "markdown",
   "metadata": {},
   "source": [
    "<div class='exercise'> <b>An Ugly Function (Regression Example)</div>\n",
    "    "
   ]
  },
  {
   "attachments": {},
   "cell_type": "markdown",
   "metadata": {},
   "source": [
    "Now let's try a regression task where the response variable we are modeling can take on any real value."
   ]
  },
  {
   "cell_type": "code",
   "execution_count": 79,
   "metadata": {},
   "outputs": [],
   "source": [
    "def ugly_function(x):\n",
    "    if x < 0:\n",
    "        return np.exp(-(x**2))/2 + 1 + np.exp(-((10*x)**2))\n",
    "    else:\n",
    "        return np.exp(-(x**2)) + np.exp(-((10*x)**2))"
   ]
  },
  {
   "attachments": {},
   "cell_type": "markdown",
   "metadata": {},
   "source": [
    "How do you feel about the prospect of manually setting the weights to approximate this beauty?"
   ]
  },
  {
   "cell_type": "code",
   "execution_count": 80,
   "metadata": {},
   "outputs": [
    {
     "data": {
      "image/png": "[encoded data removed]",
      "text/plain": [
       "<Figure size 640x480 with 1 Axes>"
      ]
     },
     "metadata": {},
     "output_type": "display_data"
    }
   ],
   "source": [
    "# Generate data\n",
    "x_ugly = np.linspace(-3,3,1500) # create x-values for input\n",
    "y_ugly = np.array(list(map(ugly_function, x_ugly)))\n",
    "\n",
    "# Plot data\n",
    "plt.plot(x_ugly, y_ugly);\n",
    "plt.title('An Ugly Function')\n",
    "plt.xlabel('X')\n",
    "plt.ylabel('Y');"
   ]
  },
  {
   "attachments": {},
   "cell_type": "markdown",
   "metadata": {},
   "source": [
    "<div class=\"alert alert-success\">\n",
    "    <strong>🏋🏻‍♂️ TEAM ACTIVITY:</strong> We're Gonna Need a Bigger Model...</div>  "
   ]
  },
  {
   "attachments": {},
   "cell_type": "markdown",
   "metadata": {},
   "source": [
    "Construct an NN to approximate the ugly function with Kera's `Sequential` Model.\n",
    "\n",
    "**Build & Print Model Summary**\n",
    "\n",
    "You can play with the number of hidden (`Dense`) layers and the number of neurons in each.\n",
    "\n",
    "**Q:** what should the output activation function be for a regression task?"
   ]
  },
  {
   "cell_type": "code",
   "execution_count": 81,
   "metadata": {},
   "outputs": [
    {
     "name": "stdout",
     "output_type": "stream",
     "text": [
      "Model: \"ugly_model\"\n",
      "_________________________________________________________________\n",
      " Layer (type)                Output Shape              Param #   \n",
      "=================================================================\n",
      " dense_14 (Dense)            (None, 64)                128       \n",
      "                                                                 \n",
      " dense_15 (Dense)            (None, 32)                2080      \n",
      "                                                                 \n",
      " dense_16 (Dense)            (None, 16)                528       \n",
      "                                                                 \n",
      " dense_17 (Dense)            (None, 8)                 136       \n",
      "                                                                 \n",
      " dense_18 (Dense)            (None, 1)                 9         \n",
      "                                                                 \n",
      "=================================================================\n",
      "Total params: 2881 (11.25 KB)\n",
      "Trainable params: 2881 (11.25 KB)\n",
      "Non-trainable params: 0 (0.00 Byte)\n",
      "_________________________________________________________________\n"
     ]
    }
   ],
   "source": [
    "# your code here\n",
    "ugly_model = models.Sequential(layers=[layers.Dense(64, activation='relu', input_shape=(1,)),\n",
    "                                       layers.Dense(32, activation='relu'),\n",
    "                                       layers.Dense(16, activation='relu'),\n",
    "                                       layers.Dense(8, activation='relu'),\n",
    "                                       layers.Dense(1, activation='linear')],\n",
    "                              name='ugly_model')\n",
    "\n",
    "ugly_model.summary()"
   ]
  },
  {
   "attachments": {},
   "cell_type": "markdown",
   "metadata": {},
   "source": [
    "**Compile**\\\n",
    "Use the `SGD` optimizer and `'mse'` as your loss.\\\n",
    "You can expermiment with `SGD`'s `learning_rate`."
   ]
  },
  {
   "cell_type": "code",
   "execution_count": 82,
   "metadata": {},
   "outputs": [],
   "source": [
    "ugly_model.compile(loss='mse',\n",
    "               optimizer=optimizers.SGD(learning_rate=0.1))"
   ]
  },
  {
   "attachments": {},
   "cell_type": "markdown",
   "metadata": {},
   "source": [
    "**Fit**\\\n",
    "Fit `ugly_model` on `x_ugly` and `y_ugly`.\\\n",
    "You can experiment with the number of `epochs`."
   ]
  },
  {
   "cell_type": "code",
   "execution_count": 83,
   "metadata": {},
   "outputs": [
    {
     "data": {
      "text/plain": [
       "<keras.src.callbacks.History at 0x7f774cef4150>"
      ]
     },
     "execution_count": 83,
     "metadata": {},
     "output_type": "execute_result"
    }
   ],
   "source": [
    "ugly_model.fit(x_ugly, y_ugly, epochs=100, verbose=0)"
   ]
  },
  {
   "attachments": {},
   "cell_type": "markdown",
   "metadata": {},
   "source": [
    "**Plot Training History**"
   ]
  },
  {
   "attachments": {},
   "cell_type": "markdown",
   "metadata": {},
   "source": [
    "Plot the model's training history. Don't forget your axis labels!\\\n",
    "**Hint:** Remember, `fit` returns a `history` object which itself has a `history` dictionary attribute. Because this (2nd object) is a dictionary, you can always use its `keys`method if you don't know what's in it. You can also access the history from the model itself. Ex: `ugly_model.history.history`"
   ]
  },
  {
   "cell_type": "code",
   "execution_count": 84,
   "metadata": {},
   "outputs": [
    {
     "data": {
      "image/png": "[encoded data removed]",
      "text/plain": [
       "<Figure size 640x480 with 1 Axes>"
      ]
     },
     "metadata": {},
     "output_type": "display_data"
    }
   ],
   "source": [
    "# Plot History\n",
    "# your code here\n",
    "plt.plot(ugly_model.history.history['loss'])\n",
    "plt.xlabel('epoch')\n",
    "plt.ylabel('Train MSE');"
   ]
  },
  {
   "attachments": {},
   "cell_type": "markdown",
   "metadata": {},
   "source": [
    "**Get Predictions**\\\n",
    "Similar to `sklearn` models, `keras` models have a `predict` method. Use your model's `predict` method to predict on `x_ugly` and store the results in a variable called `y_hat_ugly`."
   ]
  },
  {
   "cell_type": "code",
   "execution_count": 85,
   "metadata": {},
   "outputs": [
    {
     "name": "stdout",
     "output_type": "stream",
     "text": [
      "47/47 [==============================] - 0s 1ms/step\n"
     ]
    }
   ],
   "source": [
    "# Predict\n",
    "# your code here\n",
    "y_hat_ugly = ugly_model.predict(x_ugly)"
   ]
  },
  {
   "attachments": {},
   "cell_type": "markdown",
   "metadata": {},
   "source": [
    "**Plot Predictions**\\\n",
    "Run the cell below to compare your model's predictions to the true (ugly) function. Still not quite right? Try tweaking some of the hyperparameters above and re-run the cells in this section to see if you can improve."
   ]
  },
  {
   "cell_type": "code",
   "execution_count": 86,
   "metadata": {},
   "outputs": [
    {
     "data": {
      "image/png": "[encoded data removed]",
      "text/plain": [
       "<Figure size 640x480 with 1 Axes>"
      ]
     },
     "metadata": {},
     "output_type": "display_data"
    }
   ],
   "source": [
    "# Plot predictions\n",
    "plt.plot(x_ugly, y_ugly, alpha=0.4, lw=4, label='true function')\n",
    "plt.plot(x_ugly, y_hat_ugly, label='NN', ls='--', c='r')\n",
    "\n",
    "plt.xlabel('x')\n",
    "plt.ylabel('y')\n",
    "plt.legend();"
   ]
  },
  {
   "attachments": {},
   "cell_type": "markdown",
   "metadata": {},
   "source": [
    "Not bad!"
   ]
  },
  {
   "attachments": {},
   "cell_type": "markdown",
   "metadata": {},
   "source": [
    "**End of team activity**"
   ]
  },
  {
   "attachments": {},
   "cell_type": "markdown",
   "metadata": {},
   "source": [
    "## Part 3"
   ]
  },
  {
   "attachments": {},
   "cell_type": "markdown",
   "metadata": {},
   "source": [
    "<div class='exercise'> <b>Multi-class Classification with Keras</div>\n"
   ]
  },
  {
   "attachments": {},
   "cell_type": "markdown",
   "metadata": {},
   "source": [
    "So far we've only used our new Keras powers for toy regression and binary classification problems. Now we'll try classification with 3 classes!\n",
    "\n",
    "This example will use `seaborn`'s penguins dataset (last time, I promise!)\n",
    "\n",
    "We'll build a model to identify a penguin's species from its other features. In the process we'll dust off our Python skills with a *very* quick run through of a basic model building workflow."
   ]
  },
  {
   "cell_type": "code",
   "execution_count": 87,
   "metadata": {},
   "outputs": [
    {
     "data": {
      "text/html": [
       "<div>\n",
       "<style scoped>\n",
       "    .dataframe tbody tr th:only-of-type {\n",
       "        vertical-align: middle;\n",
       "    }\n",
       "\n",
       "    .dataframe tbody tr th {\n",
       "        vertical-align: top;\n",
       "    }\n",
       "\n",
       "    .dataframe thead th {\n",
       "        text-align: right;\n",
       "    }\n",
       "</style>\n",
       "<table border=\"1\" class=\"dataframe\">\n",
       "  <thead>\n",
       "    <tr style=\"text-align: right;\">\n",
       "      <th></th>\n",
       "      <th>species</th>\n",
       "      <th>island</th>\n",
       "      <th>bill_length_mm</th>\n",
       "      <th>bill_depth_mm</th>\n",
       "      <th>flipper_length_mm</th>\n",
       "      <th>body_mass_g</th>\n",
       "      <th>sex</th>\n",
       "    </tr>\n",
       "  </thead>\n",
       "  <tbody>\n",
       "    <tr>\n",
       "      <th>0</th>\n",
       "      <td>Adelie</td>\n",
       "      <td>Torgersen</td>\n",
       "      <td>39.1</td>\n",
       "      <td>18.7</td>\n",
       "      <td>181.0</td>\n",
       "      <td>3750.0</td>\n",
       "      <td>Male</td>\n",
       "    </tr>\n",
       "    <tr>\n",
       "      <th>1</th>\n",
       "      <td>Adelie</td>\n",
       "      <td>Torgersen</td>\n",
       "      <td>39.5</td>\n",
       "      <td>17.4</td>\n",
       "      <td>186.0</td>\n",
       "      <td>3800.0</td>\n",
       "      <td>Female</td>\n",
       "    </tr>\n",
       "    <tr>\n",
       "      <th>2</th>\n",
       "      <td>Adelie</td>\n",
       "      <td>Torgersen</td>\n",
       "      <td>40.3</td>\n",
       "      <td>18.0</td>\n",
       "      <td>195.0</td>\n",
       "      <td>3250.0</td>\n",
       "      <td>Female</td>\n",
       "    </tr>\n",
       "    <tr>\n",
       "      <th>3</th>\n",
       "      <td>Adelie</td>\n",
       "      <td>Torgersen</td>\n",
       "      <td>NaN</td>\n",
       "      <td>NaN</td>\n",
       "      <td>NaN</td>\n",
       "      <td>NaN</td>\n",
       "      <td>NaN</td>\n",
       "    </tr>\n",
       "    <tr>\n",
       "      <th>4</th>\n",
       "      <td>Adelie</td>\n",
       "      <td>Torgersen</td>\n",
       "      <td>36.7</td>\n",
       "      <td>19.3</td>\n",
       "      <td>193.0</td>\n",
       "      <td>3450.0</td>\n",
       "      <td>Female</td>\n",
       "    </tr>\n",
       "  </tbody>\n",
       "</table>\n",
       "</div>"
      ],
      "text/plain": [
       "  species     island  bill_length_mm  bill_depth_mm  flipper_length_mm  \\\n",
       "0  Adelie  Torgersen            39.1           18.7              181.0   \n",
       "1  Adelie  Torgersen            39.5           17.4              186.0   \n",
       "2  Adelie  Torgersen            40.3           18.0              195.0   \n",
       "3  Adelie  Torgersen             NaN            NaN                NaN   \n",
       "4  Adelie  Torgersen            36.7           19.3              193.0   \n",
       "\n",
       "   body_mass_g     sex  \n",
       "0       3750.0    Male  \n",
       "1       3800.0  Female  \n",
       "2       3250.0  Female  \n",
       "3          NaN     NaN  \n",
       "4       3450.0  Female  "
      ]
     },
     "execution_count": 87,
     "metadata": {},
     "output_type": "execute_result"
    }
   ],
   "source": [
    "# Bring on the penguins!\n",
    "penguins = pd.read_csv('data/penguins.csv')\n",
    "penguins.head()"
   ]
  },
  {
   "attachments": {},
   "cell_type": "markdown",
   "metadata": {},
   "source": [
    "We have 3 species of penguins living across 3 different islands. There are measurements of bill length, bill depth, flipper length, and body mass. We also have categorcial variable for each penguin's sex giving us a total of 7 features.\n",
    "\n",
    "Here's a plot that tries to show too much at once. But you can ignore the marker shapes and sizes. The bill and flipper length alone ($x$ and $y$ axes) seem too already provide a fair amount of information about the species (color)."
   ]
  },
  {
   "cell_type": "code",
   "execution_count": 88,
   "metadata": {},
   "outputs": [
    {
     "data": {
      "image/png": "[encoded data removed]",
      "text/plain": [
       "<Figure size 743.75x600 with 1 Axes>"
      ]
     },
     "metadata": {},
     "output_type": "display_data"
    }
   ],
   "source": [
    "# Plot penguins with too much info\n",
    "sns.relplot(data=penguins, x='flipper_length_mm', y='bill_length_mm',\n",
    "            hue='species', style='sex', size='body_mass_g', height=6);\n",
    "plt.title('Penguins!', fontdict={'color': 'teal', 'size': 20, 'weight': 'bold', 'family': 'serif'});"
   ]
  },
  {
   "attachments": {},
   "cell_type": "markdown",
   "metadata": {},
   "source": [
    "You may have noticed some pesky `NaN`s when we displayed the beginning of the DataFrame.\\\n",
    "We should investigate further."
   ]
  },
  {
   "attachments": {},
   "cell_type": "markdown",
   "metadata": {},
   "source": [
    "<div class='exercise'> <b>Missingness</div>\n"
   ]
  },
  {
   "cell_type": "code",
   "execution_count": 89,
   "metadata": {},
   "outputs": [
    {
     "data": {
      "text/plain": [
       "species               0\n",
       "island                0\n",
       "bill_length_mm        2\n",
       "bill_depth_mm         2\n",
       "flipper_length_mm     2\n",
       "body_mass_g           2\n",
       "sex                  11\n",
       "dtype: int64"
      ]
     },
     "execution_count": 89,
     "metadata": {},
     "output_type": "execute_result"
    }
   ],
   "source": [
    "# How many missing values in each column?\n",
    "penguins.isna().sum()"
   ]
  },
  {
   "attachments": {},
   "cell_type": "markdown",
   "metadata": {},
   "source": [
    "Let's take a look at them first all the rows with missing data."
   ]
  },
  {
   "cell_type": "code",
   "execution_count": 90,
   "metadata": {},
   "outputs": [
    {
     "data": {
      "text/html": [
       "<div>\n",
       "<style scoped>\n",
       "    .dataframe tbody tr th:only-of-type {\n",
       "        vertical-align: middle;\n",
       "    }\n",
       "\n",
       "    .dataframe tbody tr th {\n",
       "        vertical-align: top;\n",
       "    }\n",
       "\n",
       "    .dataframe thead th {\n",
       "        text-align: right;\n",
       "    }\n",
       "</style>\n",
       "<table border=\"1\" class=\"dataframe\">\n",
       "  <thead>\n",
       "    <tr style=\"text-align: right;\">\n",
       "      <th></th>\n",
       "      <th>species</th>\n",
       "      <th>island</th>\n",
       "      <th>bill_length_mm</th>\n",
       "      <th>bill_depth_mm</th>\n",
       "      <th>flipper_length_mm</th>\n",
       "      <th>body_mass_g</th>\n",
       "      <th>sex</th>\n",
       "    </tr>\n",
       "  </thead>\n",
       "  <tbody>\n",
       "    <tr>\n",
       "      <th>3</th>\n",
       "      <td>Adelie</td>\n",
       "      <td>Torgersen</td>\n",
       "      <td>NaN</td>\n",
       "      <td>NaN</td>\n",
       "      <td>NaN</td>\n",
       "      <td>NaN</td>\n",
       "      <td>NaN</td>\n",
       "    </tr>\n",
       "    <tr>\n",
       "      <th>8</th>\n",
       "      <td>Adelie</td>\n",
       "      <td>Torgersen</td>\n",
       "      <td>34.1</td>\n",
       "      <td>18.1</td>\n",
       "      <td>193.0</td>\n",
       "      <td>3475.0</td>\n",
       "      <td>NaN</td>\n",
       "    </tr>\n",
       "    <tr>\n",
       "      <th>9</th>\n",
       "      <td>Adelie</td>\n",
       "      <td>Torgersen</td>\n",
       "      <td>42.0</td>\n",
       "      <td>20.2</td>\n",
       "      <td>190.0</td>\n",
       "      <td>4250.0</td>\n",
       "      <td>NaN</td>\n",
       "    </tr>\n",
       "    <tr>\n",
       "      <th>10</th>\n",
       "      <td>Adelie</td>\n",
       "      <td>Torgersen</td>\n",
       "      <td>37.8</td>\n",
       "      <td>17.1</td>\n",
       "      <td>186.0</td>\n",
       "      <td>3300.0</td>\n",
       "      <td>NaN</td>\n",
       "    </tr>\n",
       "    <tr>\n",
       "      <th>11</th>\n",
       "      <td>Adelie</td>\n",
       "      <td>Torgersen</td>\n",
       "      <td>37.8</td>\n",
       "      <td>17.3</td>\n",
       "      <td>180.0</td>\n",
       "      <td>3700.0</td>\n",
       "      <td>NaN</td>\n",
       "    </tr>\n",
       "    <tr>\n",
       "      <th>47</th>\n",
       "      <td>Adelie</td>\n",
       "      <td>Dream</td>\n",
       "      <td>37.5</td>\n",
       "      <td>18.9</td>\n",
       "      <td>179.0</td>\n",
       "      <td>2975.0</td>\n",
       "      <td>NaN</td>\n",
       "    </tr>\n",
       "    <tr>\n",
       "      <th>246</th>\n",
       "      <td>Gentoo</td>\n",
       "      <td>Biscoe</td>\n",
       "      <td>44.5</td>\n",
       "      <td>14.3</td>\n",
       "      <td>216.0</td>\n",
       "      <td>4100.0</td>\n",
       "      <td>NaN</td>\n",
       "    </tr>\n",
       "    <tr>\n",
       "      <th>286</th>\n",
       "      <td>Gentoo</td>\n",
       "      <td>Biscoe</td>\n",
       "      <td>46.2</td>\n",
       "      <td>14.4</td>\n",
       "      <td>214.0</td>\n",
       "      <td>4650.0</td>\n",
       "      <td>NaN</td>\n",
       "    </tr>\n",
       "    <tr>\n",
       "      <th>324</th>\n",
       "      <td>Gentoo</td>\n",
       "      <td>Biscoe</td>\n",
       "      <td>47.3</td>\n",
       "      <td>13.8</td>\n",
       "      <td>216.0</td>\n",
       "      <td>4725.0</td>\n",
       "      <td>NaN</td>\n",
       "    </tr>\n",
       "    <tr>\n",
       "      <th>336</th>\n",
       "      <td>Gentoo</td>\n",
       "      <td>Biscoe</td>\n",
       "      <td>44.5</td>\n",
       "      <td>15.7</td>\n",
       "      <td>217.0</td>\n",
       "      <td>4875.0</td>\n",
       "      <td>NaN</td>\n",
       "    </tr>\n",
       "    <tr>\n",
       "      <th>339</th>\n",
       "      <td>Gentoo</td>\n",
       "      <td>Biscoe</td>\n",
       "      <td>NaN</td>\n",
       "      <td>NaN</td>\n",
       "      <td>NaN</td>\n",
       "      <td>NaN</td>\n",
       "      <td>NaN</td>\n",
       "    </tr>\n",
       "  </tbody>\n",
       "</table>\n",
       "</div>"
      ],
      "text/plain": [
       "    species     island  bill_length_mm  bill_depth_mm  flipper_length_mm  \\\n",
       "3    Adelie  Torgersen             NaN            NaN                NaN   \n",
       "8    Adelie  Torgersen            34.1           18.1              193.0   \n",
       "9    Adelie  Torgersen            42.0           20.2              190.0   \n",
       "10   Adelie  Torgersen            37.8           17.1              186.0   \n",
       "11   Adelie  Torgersen            37.8           17.3              180.0   \n",
       "47   Adelie      Dream            37.5           18.9              179.0   \n",
       "246  Gentoo     Biscoe            44.5           14.3              216.0   \n",
       "286  Gentoo     Biscoe            46.2           14.4              214.0   \n",
       "324  Gentoo     Biscoe            47.3           13.8              216.0   \n",
       "336  Gentoo     Biscoe            44.5           15.7              217.0   \n",
       "339  Gentoo     Biscoe             NaN            NaN                NaN   \n",
       "\n",
       "     body_mass_g  sex  \n",
       "3            NaN  NaN  \n",
       "8         3475.0  NaN  \n",
       "9         4250.0  NaN  \n",
       "10        3300.0  NaN  \n",
       "11        3700.0  NaN  \n",
       "47        2975.0  NaN  \n",
       "246       4100.0  NaN  \n",
       "286       4650.0  NaN  \n",
       "324       4725.0  NaN  \n",
       "336       4875.0  NaN  \n",
       "339          NaN  NaN  "
      ]
     },
     "execution_count": 90,
     "metadata": {},
     "output_type": "execute_result"
    }
   ],
   "source": [
    "# Rows with missingness\n",
    "penguins[penguins.isna().any(axis=1)]"
   ]
  },
  {
   "attachments": {},
   "cell_type": "markdown",
   "metadata": {},
   "source": [
    "Yikes! There are two observations where all predictors except `species` and `island` are missing.\\\n",
    "These rows won't be of any use to us. We see that dropping rows missing `body_mass_g` will take care of most our missingness."
   ]
  },
  {
   "cell_type": "code",
   "execution_count": 91,
   "metadata": {},
   "outputs": [
    {
     "data": {
      "text/plain": [
       "species              0\n",
       "island               0\n",
       "bill_length_mm       0\n",
       "bill_depth_mm        0\n",
       "flipper_length_mm    0\n",
       "body_mass_g          0\n",
       "sex                  9\n",
       "dtype: int64"
      ]
     },
     "execution_count": 91,
     "metadata": {},
     "output_type": "execute_result"
    }
   ],
   "source": [
    "# Drop the bad rows identified above\n",
    "penguins = penguins.dropna(subset=['body_mass_g'])\n",
    "# Check state of missingness after dropping\n",
    "penguins.isna().sum()"
   ]
  },
  {
   "attachments": {},
   "cell_type": "markdown",
   "metadata": {},
   "source": [
    "It looks like there are 9 rows where `sex` is missing. We can try to **impute** these values.\\\n",
    "But first, take a look at our DataFrame again."
   ]
  },
  {
   "cell_type": "code",
   "execution_count": 92,
   "metadata": {},
   "outputs": [
    {
     "data": {
      "text/html": [
       "<div>\n",
       "<style scoped>\n",
       "    .dataframe tbody tr th:only-of-type {\n",
       "        vertical-align: middle;\n",
       "    }\n",
       "\n",
       "    .dataframe tbody tr th {\n",
       "        vertical-align: top;\n",
       "    }\n",
       "\n",
       "    .dataframe thead th {\n",
       "        text-align: right;\n",
       "    }\n",
       "</style>\n",
       "<table border=\"1\" class=\"dataframe\">\n",
       "  <thead>\n",
       "    <tr style=\"text-align: right;\">\n",
       "      <th></th>\n",
       "      <th>species</th>\n",
       "      <th>island</th>\n",
       "      <th>bill_length_mm</th>\n",
       "      <th>bill_depth_mm</th>\n",
       "      <th>flipper_length_mm</th>\n",
       "      <th>body_mass_g</th>\n",
       "      <th>sex</th>\n",
       "    </tr>\n",
       "  </thead>\n",
       "  <tbody>\n",
       "    <tr>\n",
       "      <th>0</th>\n",
       "      <td>Adelie</td>\n",
       "      <td>Torgersen</td>\n",
       "      <td>39.1</td>\n",
       "      <td>18.7</td>\n",
       "      <td>181.0</td>\n",
       "      <td>3750.0</td>\n",
       "      <td>Male</td>\n",
       "    </tr>\n",
       "    <tr>\n",
       "      <th>1</th>\n",
       "      <td>Adelie</td>\n",
       "      <td>Torgersen</td>\n",
       "      <td>39.5</td>\n",
       "      <td>17.4</td>\n",
       "      <td>186.0</td>\n",
       "      <td>3800.0</td>\n",
       "      <td>Female</td>\n",
       "    </tr>\n",
       "    <tr>\n",
       "      <th>2</th>\n",
       "      <td>Adelie</td>\n",
       "      <td>Torgersen</td>\n",
       "      <td>40.3</td>\n",
       "      <td>18.0</td>\n",
       "      <td>195.0</td>\n",
       "      <td>3250.0</td>\n",
       "      <td>Female</td>\n",
       "    </tr>\n",
       "    <tr>\n",
       "      <th>4</th>\n",
       "      <td>Adelie</td>\n",
       "      <td>Torgersen</td>\n",
       "      <td>36.7</td>\n",
       "      <td>19.3</td>\n",
       "      <td>193.0</td>\n",
       "      <td>3450.0</td>\n",
       "      <td>Female</td>\n",
       "    </tr>\n",
       "    <tr>\n",
       "      <th>5</th>\n",
       "      <td>Adelie</td>\n",
       "      <td>Torgersen</td>\n",
       "      <td>39.3</td>\n",
       "      <td>20.6</td>\n",
       "      <td>190.0</td>\n",
       "      <td>3650.0</td>\n",
       "      <td>Male</td>\n",
       "    </tr>\n",
       "  </tbody>\n",
       "</table>\n",
       "</div>"
      ],
      "text/plain": [
       "  species     island  bill_length_mm  bill_depth_mm  flipper_length_mm  \\\n",
       "0  Adelie  Torgersen            39.1           18.7              181.0   \n",
       "1  Adelie  Torgersen            39.5           17.4              186.0   \n",
       "2  Adelie  Torgersen            40.3           18.0              195.0   \n",
       "4  Adelie  Torgersen            36.7           19.3              193.0   \n",
       "5  Adelie  Torgersen            39.3           20.6              190.0   \n",
       "\n",
       "   body_mass_g     sex  \n",
       "0       3750.0    Male  \n",
       "1       3800.0  Female  \n",
       "2       3250.0  Female  \n",
       "4       3450.0  Female  \n",
       "5       3650.0    Male  "
      ]
     },
     "execution_count": 92,
     "metadata": {},
     "output_type": "execute_result"
    }
   ],
   "source": [
    "penguins.head()"
   ]
  },
  {
   "attachments": {},
   "cell_type": "markdown",
   "metadata": {},
   "source": [
    "Notice how the indices go from `2` to `4`. What happened to `3`?\\\n",
    "It was one of the rows we dropped! This issue with the indices can cause headaches later on (think `loc`/`iloc` distinction).\n",
    "But we can make things good as new using the `reset_index` method. Just be sure to set `drop=True`, otherwise the old indices will be added to the DataFrame as a new column."
   ]
  },
  {
   "cell_type": "code",
   "execution_count": 93,
   "metadata": {},
   "outputs": [
    {
     "data": {
      "text/html": [
       "<div>\n",
       "<style scoped>\n",
       "    .dataframe tbody tr th:only-of-type {\n",
       "        vertical-align: middle;\n",
       "    }\n",
       "\n",
       "    .dataframe tbody tr th {\n",
       "        vertical-align: top;\n",
       "    }\n",
       "\n",
       "    .dataframe thead th {\n",
       "        text-align: right;\n",
       "    }\n",
       "</style>\n",
       "<table border=\"1\" class=\"dataframe\">\n",
       "  <thead>\n",
       "    <tr style=\"text-align: right;\">\n",
       "      <th></th>\n",
       "      <th>species</th>\n",
       "      <th>island</th>\n",
       "      <th>bill_length_mm</th>\n",
       "      <th>bill_depth_mm</th>\n",
       "      <th>flipper_length_mm</th>\n",
       "      <th>body_mass_g</th>\n",
       "      <th>sex</th>\n",
       "    </tr>\n",
       "  </thead>\n",
       "  <tbody>\n",
       "    <tr>\n",
       "      <th>0</th>\n",
       "      <td>Adelie</td>\n",
       "      <td>Torgersen</td>\n",
       "      <td>39.1</td>\n",
       "      <td>18.7</td>\n",
       "      <td>181.0</td>\n",
       "      <td>3750.0</td>\n",
       "      <td>Male</td>\n",
       "    </tr>\n",
       "    <tr>\n",
       "      <th>1</th>\n",
       "      <td>Adelie</td>\n",
       "      <td>Torgersen</td>\n",
       "      <td>39.5</td>\n",
       "      <td>17.4</td>\n",
       "      <td>186.0</td>\n",
       "      <td>3800.0</td>\n",
       "      <td>Female</td>\n",
       "    </tr>\n",
       "    <tr>\n",
       "      <th>2</th>\n",
       "      <td>Adelie</td>\n",
       "      <td>Torgersen</td>\n",
       "      <td>40.3</td>\n",
       "      <td>18.0</td>\n",
       "      <td>195.0</td>\n",
       "      <td>3250.0</td>\n",
       "      <td>Female</td>\n",
       "    </tr>\n",
       "    <tr>\n",
       "      <th>3</th>\n",
       "      <td>Adelie</td>\n",
       "      <td>Torgersen</td>\n",
       "      <td>36.7</td>\n",
       "      <td>19.3</td>\n",
       "      <td>193.0</td>\n",
       "      <td>3450.0</td>\n",
       "      <td>Female</td>\n",
       "    </tr>\n",
       "    <tr>\n",
       "      <th>4</th>\n",
       "      <td>Adelie</td>\n",
       "      <td>Torgersen</td>\n",
       "      <td>39.3</td>\n",
       "      <td>20.6</td>\n",
       "      <td>190.0</td>\n",
       "      <td>3650.0</td>\n",
       "      <td>Male</td>\n",
       "    </tr>\n",
       "  </tbody>\n",
       "</table>\n",
       "</div>"
      ],
      "text/plain": [
       "  species     island  bill_length_mm  bill_depth_mm  flipper_length_mm  \\\n",
       "0  Adelie  Torgersen            39.1           18.7              181.0   \n",
       "1  Adelie  Torgersen            39.5           17.4              186.0   \n",
       "2  Adelie  Torgersen            40.3           18.0              195.0   \n",
       "3  Adelie  Torgersen            36.7           19.3              193.0   \n",
       "4  Adelie  Torgersen            39.3           20.6              190.0   \n",
       "\n",
       "   body_mass_g     sex  \n",
       "0       3750.0    Male  \n",
       "1       3800.0  Female  \n",
       "2       3250.0  Female  \n",
       "3       3450.0  Female  \n",
       "4       3650.0    Male  "
      ]
     },
     "execution_count": 93,
     "metadata": {},
     "output_type": "execute_result"
    }
   ],
   "source": [
    "# Reset index\n",
    "penguins = penguins.reset_index(drop=True)\n",
    "penguins.head()"
   ]
  },
  {
   "attachments": {},
   "cell_type": "markdown",
   "metadata": {},
   "source": [
    "Much better!\\\n",
    "Now, on to imputing the missing `sex` values. Let's take a look at the `value_counts`."
   ]
  },
  {
   "cell_type": "code",
   "execution_count": 94,
   "metadata": {},
   "outputs": [
    {
     "data": {
      "text/plain": [
       "sex\n",
       "Male      168\n",
       "Female    165\n",
       "Name: count, dtype: int64"
      ]
     },
     "execution_count": 94,
     "metadata": {},
     "output_type": "execute_result"
    }
   ],
   "source": [
    "# Counts of each unique value in the dataset\n",
    "penguins.sex.value_counts()"
   ]
  },
  {
   "attachments": {},
   "cell_type": "markdown",
   "metadata": {},
   "source": [
    "It's almost an even split. We'll impute the **mode** because it's a quick fix."
   ]
  },
  {
   "cell_type": "code",
   "execution_count": 95,
   "metadata": {},
   "outputs": [],
   "source": [
    "response = 'species'\n",
    "X = penguins.drop(response, axis=1)\n",
    "y = penguins[response]"
   ]
  },
  {
   "cell_type": "code",
   "execution_count": 96,
   "metadata": {},
   "outputs": [
    {
     "data": {
      "text/plain": [
       "'Male'"
      ]
     },
     "execution_count": 96,
     "metadata": {},
     "output_type": "execute_result"
    }
   ],
   "source": [
    "# The mode here should match the value with the most counts above\n",
    "sex_mode = penguins.sex.mode()[0]\n",
    "sex_mode"
   ]
  },
  {
   "attachments": {},
   "cell_type": "markdown",
   "metadata": {},
   "source": [
    "Finally, we use `fillna` to replace the remaining `NaN`s with the `sex_mode` and confirm that there are no more missing values in the DataFrame."
   ]
  },
  {
   "cell_type": "code",
   "execution_count": 97,
   "metadata": {},
   "outputs": [
    {
     "data": {
      "text/plain": [
       "species              0\n",
       "island               0\n",
       "bill_length_mm       0\n",
       "bill_depth_mm        0\n",
       "flipper_length_mm    0\n",
       "body_mass_g          0\n",
       "sex                  0\n",
       "dtype: int64"
      ]
     },
     "execution_count": 97,
     "metadata": {},
     "output_type": "execute_result"
    }
   ],
   "source": [
    "# Replace missing values with most common value (i.e, mode)\n",
    "penguins = penguins.fillna(sex_mode)\n",
    "penguins.isna().sum()"
   ]
  },
  {
   "attachments": {},
   "cell_type": "markdown",
   "metadata": {},
   "source": [
    "**Q:** Imputing the mode here was very easy, but does this approach make you a bit nervous? Why? Is there some other way we could have imputed this values?"
   ]
  },
  {
   "attachments": {},
   "cell_type": "markdown",
   "metadata": {},
   "source": [
    "<div class='exercise'> <b>Preprocessing</div>\n",
    "\n",
    "We can't just throw this DataFrame at a neural network as it is. There's some work we need to do first."
   ]
  },
  {
   "attachments": {},
   "cell_type": "markdown",
   "metadata": {},
   "source": [
    "**Separate predictors from response variable**"
   ]
  },
  {
   "cell_type": "code",
   "execution_count": 98,
   "metadata": {},
   "outputs": [],
   "source": [
    "# Isolate response from predictors\n",
    "response = 'species'\n",
    "X = penguins.drop(response, axis=1)\n",
    "y = penguins[response]"
   ]
  },
  {
   "attachments": {},
   "cell_type": "markdown",
   "metadata": {},
   "source": [
    "**Encode Categorical Predictor Variables**"
   ]
  },
  {
   "cell_type": "code",
   "execution_count": 99,
   "metadata": {},
   "outputs": [
    {
     "data": {
      "text/plain": [
       "island                object\n",
       "bill_length_mm       float64\n",
       "bill_depth_mm        float64\n",
       "flipper_length_mm    float64\n",
       "body_mass_g          float64\n",
       "sex                   object\n",
       "dtype: object"
      ]
     },
     "execution_count": 99,
     "metadata": {},
     "output_type": "execute_result"
    }
   ],
   "source": [
    "# Check the predictor data types\n",
    "X.dtypes"
   ]
  },
  {
   "attachments": {},
   "cell_type": "markdown",
   "metadata": {},
   "source": [
    "Both `island` and `sex` are categotical. We can use `pd.get_dummies` to one-hot-encode them (don't forget to `drop_first`!)."
   ]
  },
  {
   "cell_type": "code",
   "execution_count": 100,
   "metadata": {},
   "outputs": [],
   "source": [
    "# Identify the categorical columns\n",
    "cat_cols = ['island', 'sex']"
   ]
  },
  {
   "cell_type": "code",
   "execution_count": 101,
   "metadata": {},
   "outputs": [
    {
     "data": {
      "text/html": [
       "<div>\n",
       "<style scoped>\n",
       "    .dataframe tbody tr th:only-of-type {\n",
       "        vertical-align: middle;\n",
       "    }\n",
       "\n",
       "    .dataframe tbody tr th {\n",
       "        vertical-align: top;\n",
       "    }\n",
       "\n",
       "    .dataframe thead th {\n",
       "        text-align: right;\n",
       "    }\n",
       "</style>\n",
       "<table border=\"1\" class=\"dataframe\">\n",
       "  <thead>\n",
       "    <tr style=\"text-align: right;\">\n",
       "      <th></th>\n",
       "      <th>bill_length_mm</th>\n",
       "      <th>bill_depth_mm</th>\n",
       "      <th>flipper_length_mm</th>\n",
       "      <th>body_mass_g</th>\n",
       "      <th>island_Dream</th>\n",
       "      <th>island_Torgersen</th>\n",
       "      <th>sex_Male</th>\n",
       "    </tr>\n",
       "  </thead>\n",
       "  <tbody>\n",
       "    <tr>\n",
       "      <th>0</th>\n",
       "      <td>39.1</td>\n",
       "      <td>18.7</td>\n",
       "      <td>181.0</td>\n",
       "      <td>3750.0</td>\n",
       "      <td>False</td>\n",
       "      <td>True</td>\n",
       "      <td>True</td>\n",
       "    </tr>\n",
       "  </tbody>\n",
       "</table>\n",
       "</div>"
      ],
      "text/plain": [
       "   bill_length_mm  bill_depth_mm  flipper_length_mm  body_mass_g  \\\n",
       "0            39.1           18.7              181.0       3750.0   \n",
       "\n",
       "   island_Dream  island_Torgersen  sex_Male  \n",
       "0         False              True      True  "
      ]
     },
     "execution_count": 101,
     "metadata": {},
     "output_type": "execute_result"
    }
   ],
   "source": [
    "# one-hot encode the categorical columns\n",
    "X_design = pd.get_dummies(X, columns=cat_cols, drop_first=True)\n",
    "X_design.head(1)"
   ]
  },
  {
   "attachments": {},
   "cell_type": "markdown",
   "metadata": {},
   "source": [
    "From the remaining columns we can infer that the 'reference' values for our categorical variables are `island = 'Biscoe'`, and `sex = 'Female'`."
   ]
  },
  {
   "attachments": {},
   "cell_type": "markdown",
   "metadata": {},
   "source": [
    "**Feature Scaling**\n",
    "\n",
    "We should take a closer look at the range of values our predictors take on."
   ]
  },
  {
   "cell_type": "code",
   "execution_count": 102,
   "metadata": {},
   "outputs": [
    {
     "data": {
      "text/html": [
       "<div>\n",
       "<style scoped>\n",
       "    .dataframe tbody tr th:only-of-type {\n",
       "        vertical-align: middle;\n",
       "    }\n",
       "\n",
       "    .dataframe tbody tr th {\n",
       "        vertical-align: top;\n",
       "    }\n",
       "\n",
       "    .dataframe thead th {\n",
       "        text-align: right;\n",
       "    }\n",
       "</style>\n",
       "<table border=\"1\" class=\"dataframe\">\n",
       "  <thead>\n",
       "    <tr style=\"text-align: right;\">\n",
       "      <th></th>\n",
       "      <th>bill_length_mm</th>\n",
       "      <th>bill_depth_mm</th>\n",
       "      <th>flipper_length_mm</th>\n",
       "      <th>body_mass_g</th>\n",
       "    </tr>\n",
       "  </thead>\n",
       "  <tbody>\n",
       "    <tr>\n",
       "      <th>count</th>\n",
       "      <td>342.000000</td>\n",
       "      <td>342.000000</td>\n",
       "      <td>342.000000</td>\n",
       "      <td>342.000000</td>\n",
       "    </tr>\n",
       "    <tr>\n",
       "      <th>mean</th>\n",
       "      <td>43.921930</td>\n",
       "      <td>17.151170</td>\n",
       "      <td>200.915205</td>\n",
       "      <td>4201.754386</td>\n",
       "    </tr>\n",
       "    <tr>\n",
       "      <th>std</th>\n",
       "      <td>5.459584</td>\n",
       "      <td>1.974793</td>\n",
       "      <td>14.061714</td>\n",
       "      <td>801.954536</td>\n",
       "    </tr>\n",
       "    <tr>\n",
       "      <th>min</th>\n",
       "      <td>32.100000</td>\n",
       "      <td>13.100000</td>\n",
       "      <td>172.000000</td>\n",
       "      <td>2700.000000</td>\n",
       "    </tr>\n",
       "    <tr>\n",
       "      <th>25%</th>\n",
       "      <td>39.225000</td>\n",
       "      <td>15.600000</td>\n",
       "      <td>190.000000</td>\n",
       "      <td>3550.000000</td>\n",
       "    </tr>\n",
       "    <tr>\n",
       "      <th>50%</th>\n",
       "      <td>44.450000</td>\n",
       "      <td>17.300000</td>\n",
       "      <td>197.000000</td>\n",
       "      <td>4050.000000</td>\n",
       "    </tr>\n",
       "    <tr>\n",
       "      <th>75%</th>\n",
       "      <td>48.500000</td>\n",
       "      <td>18.700000</td>\n",
       "      <td>213.000000</td>\n",
       "      <td>4750.000000</td>\n",
       "    </tr>\n",
       "    <tr>\n",
       "      <th>max</th>\n",
       "      <td>59.600000</td>\n",
       "      <td>21.500000</td>\n",
       "      <td>231.000000</td>\n",
       "      <td>6300.000000</td>\n",
       "    </tr>\n",
       "  </tbody>\n",
       "</table>\n",
       "</div>"
      ],
      "text/plain": [
       "       bill_length_mm  bill_depth_mm  flipper_length_mm  body_mass_g\n",
       "count      342.000000     342.000000         342.000000   342.000000\n",
       "mean        43.921930      17.151170         200.915205  4201.754386\n",
       "std          5.459584       1.974793          14.061714   801.954536\n",
       "min         32.100000      13.100000         172.000000  2700.000000\n",
       "25%         39.225000      15.600000         190.000000  3550.000000\n",
       "50%         44.450000      17.300000         197.000000  4050.000000\n",
       "75%         48.500000      18.700000         213.000000  4750.000000\n",
       "max         59.600000      21.500000         231.000000  6300.000000"
      ]
     },
     "execution_count": 102,
     "metadata": {},
     "output_type": "execute_result"
    }
   ],
   "source": [
    "#  Summary stats of predictors\n",
    "X_design.describe()"
   ]
  },
  {
   "attachments": {},
   "cell_type": "markdown",
   "metadata": {},
   "source": [
    "Our features are not on the same scale. Just compare the min/max of `bill_depth_mm` and `body_mass_g` for example.\\\n",
    "This can slow down neural network training for reasons we'll see in an upcoming lecture.\n",
    "\n",
    "Let's make use of `sklearn`'s `StandardScaler` to standardize the data, centering each predictor at 0 and setting their standard deviations to 1."
   ]
  },
  {
   "cell_type": "code",
   "execution_count": 103,
   "metadata": {},
   "outputs": [],
   "source": [
    "from sklearn.preprocessing import StandardScaler"
   ]
  },
  {
   "cell_type": "code",
   "execution_count": 104,
   "metadata": {},
   "outputs": [],
   "source": [
    "# Remember the column names for later; we'll lose them when we scale\n",
    "X_cols = X_design.columns\n",
    "# Saving the scaler object in a variable allows us to reverse the transformation later\n",
    "scaler = StandardScaler()\n",
    "X_scaled = scaler.fit_transform(X_design)"
   ]
  },
  {
   "cell_type": "code",
   "execution_count": 105,
   "metadata": {},
   "outputs": [
    {
     "data": {
      "text/plain": [
       "(numpy.ndarray, (342, 7))"
      ]
     },
     "execution_count": 105,
     "metadata": {},
     "output_type": "execute_result"
    }
   ],
   "source": [
    "# The scaler was passed a pandas DataFrame but returns a numpy array\n",
    "type(X_scaled), X_scaled.shape"
   ]
  },
  {
   "cell_type": "code",
   "execution_count": 106,
   "metadata": {},
   "outputs": [
    {
     "data": {
      "text/html": [
       "<div>\n",
       "<style scoped>\n",
       "    .dataframe tbody tr th:only-of-type {\n",
       "        vertical-align: middle;\n",
       "    }\n",
       "\n",
       "    .dataframe tbody tr th {\n",
       "        vertical-align: top;\n",
       "    }\n",
       "\n",
       "    .dataframe thead th {\n",
       "        text-align: right;\n",
       "    }\n",
       "</style>\n",
       "<table border=\"1\" class=\"dataframe\">\n",
       "  <thead>\n",
       "    <tr style=\"text-align: right;\">\n",
       "      <th></th>\n",
       "      <th>bill_length_mm</th>\n",
       "      <th>bill_depth_mm</th>\n",
       "      <th>flipper_length_mm</th>\n",
       "      <th>body_mass_g</th>\n",
       "      <th>island_Dream</th>\n",
       "      <th>island_Torgersen</th>\n",
       "      <th>sex_Male</th>\n",
       "    </tr>\n",
       "  </thead>\n",
       "  <tbody>\n",
       "    <tr>\n",
       "      <th>0</th>\n",
       "      <td>-0.884499</td>\n",
       "      <td>0.785449</td>\n",
       "      <td>-1.418347</td>\n",
       "      <td>-0.564142</td>\n",
       "      <td>-0.754193</td>\n",
       "      <td>2.388699</td>\n",
       "      <td>0.965507</td>\n",
       "    </tr>\n",
       "    <tr>\n",
       "      <th>1</th>\n",
       "      <td>-0.811126</td>\n",
       "      <td>0.126188</td>\n",
       "      <td>-1.062250</td>\n",
       "      <td>-0.501703</td>\n",
       "      <td>-0.754193</td>\n",
       "      <td>2.388699</td>\n",
       "      <td>-1.035725</td>\n",
       "    </tr>\n",
       "    <tr>\n",
       "      <th>2</th>\n",
       "      <td>-0.664380</td>\n",
       "      <td>0.430462</td>\n",
       "      <td>-0.421277</td>\n",
       "      <td>-1.188532</td>\n",
       "      <td>-0.754193</td>\n",
       "      <td>2.388699</td>\n",
       "      <td>-1.035725</td>\n",
       "    </tr>\n",
       "  </tbody>\n",
       "</table>\n",
       "</div>"
      ],
      "text/plain": [
       "   bill_length_mm  bill_depth_mm  flipper_length_mm  body_mass_g  \\\n",
       "0       -0.884499       0.785449          -1.418347    -0.564142   \n",
       "1       -0.811126       0.126188          -1.062250    -0.501703   \n",
       "2       -0.664380       0.430462          -0.421277    -1.188532   \n",
       "\n",
       "   island_Dream  island_Torgersen  sex_Male  \n",
       "0     -0.754193          2.388699  0.965507  \n",
       "1     -0.754193          2.388699 -1.035725  \n",
       "2     -0.754193          2.388699 -1.035725  "
      ]
     },
     "execution_count": 106,
     "metadata": {},
     "output_type": "execute_result"
    }
   ],
   "source": [
    "# We can always add the column names back later if we need to\n",
    "pd.DataFrame(X_scaled, columns=X_cols).head(3)"
   ]
  },
  {
   "attachments": {},
   "cell_type": "markdown",
   "metadata": {},
   "source": [
    "**Encoding the Response Variable**"
   ]
  },
  {
   "cell_type": "code",
   "execution_count": 107,
   "metadata": {},
   "outputs": [
    {
     "data": {
      "text/plain": [
       "0      Adelie\n",
       "1      Adelie\n",
       "2      Adelie\n",
       "3      Adelie\n",
       "4      Adelie\n",
       "        ...  \n",
       "337    Gentoo\n",
       "338    Gentoo\n",
       "339    Gentoo\n",
       "340    Gentoo\n",
       "341    Gentoo\n",
       "Name: species, Length: 342, dtype: object"
      ]
     },
     "execution_count": 107,
     "metadata": {},
     "output_type": "execute_result"
    }
   ],
   "source": [
    "# Take a look at our response\n",
    "y"
   ]
  },
  {
   "attachments": {},
   "cell_type": "markdown",
   "metadata": {},
   "source": [
    "Our response variable is still a `string`. We need to turn it into some numerical representation for our neural network.\\\n",
    "We could to this ourselves with a few list comprehensions, but `sklearn`'s `LabelEncoder` makes this very easy."
   ]
  },
  {
   "cell_type": "code",
   "execution_count": 108,
   "metadata": {},
   "outputs": [],
   "source": [
    "from sklearn.preprocessing import LabelEncoder"
   ]
  },
  {
   "cell_type": "code",
   "execution_count": 109,
   "metadata": {},
   "outputs": [
    {
     "data": {
      "text/plain": [
       "array([0, 0, 0, 0, 0, 0, 0, 0, 0, 0, 0, 0, 0, 0, 0, 0, 0, 0, 0, 0, 0, 0,\n",
       "       0, 0, 0, 0, 0, 0, 0, 0, 0, 0, 0, 0, 0, 0, 0, 0, 0, 0, 0, 0, 0, 0,\n",
       "       0, 0, 0, 0, 0, 0, 0, 0, 0, 0, 0, 0, 0, 0, 0, 0, 0, 0, 0, 0, 0, 0,\n",
       "       0, 0, 0, 0, 0, 0, 0, 0, 0, 0, 0, 0, 0, 0, 0, 0, 0, 0, 0, 0, 0, 0,\n",
       "       0, 0, 0, 0, 0, 0, 0, 0, 0, 0, 0, 0, 0, 0, 0, 0, 0, 0, 0, 0, 0, 0,\n",
       "       0, 0, 0, 0, 0, 0, 0, 0, 0, 0, 0, 0, 0, 0, 0, 0, 0, 0, 0, 0, 0, 0,\n",
       "       0, 0, 0, 0, 0, 0, 0, 0, 0, 0, 0, 0, 0, 0, 0, 0, 0, 0, 0, 1, 1, 1,\n",
       "       1, 1, 1, 1, 1, 1, 1, 1, 1, 1, 1, 1, 1, 1, 1, 1, 1, 1, 1, 1, 1, 1,\n",
       "       1, 1, 1, 1, 1, 1, 1, 1, 1, 1, 1, 1, 1, 1, 1, 1, 1, 1, 1, 1, 1, 1,\n",
       "       1, 1, 1, 1, 1, 1, 1, 1, 1, 1, 1, 1, 1, 1, 1, 1, 1, 1, 1, 1, 1, 2,\n",
       "       2, 2, 2, 2, 2, 2, 2, 2, 2, 2, 2, 2, 2, 2, 2, 2, 2, 2, 2, 2, 2, 2,\n",
       "       2, 2, 2, 2, 2, 2, 2, 2, 2, 2, 2, 2, 2, 2, 2, 2, 2, 2, 2, 2, 2, 2,\n",
       "       2, 2, 2, 2, 2, 2, 2, 2, 2, 2, 2, 2, 2, 2, 2, 2, 2, 2, 2, 2, 2, 2,\n",
       "       2, 2, 2, 2, 2, 2, 2, 2, 2, 2, 2, 2, 2, 2, 2, 2, 2, 2, 2, 2, 2, 2,\n",
       "       2, 2, 2, 2, 2, 2, 2, 2, 2, 2, 2, 2, 2, 2, 2, 2, 2, 2, 2, 2, 2, 2,\n",
       "       2, 2, 2, 2, 2, 2, 2, 2, 2, 2, 2, 2])"
      ]
     },
     "execution_count": 109,
     "metadata": {},
     "output_type": "execute_result"
    }
   ],
   "source": [
    "# Encode string labels as integers\n",
    "# LabelEncoder uses the familar fit/transform methods we saw with StandardScaler\n",
    "labenc = LabelEncoder().fit(y)\n",
    "y_enc = labenc.transform(y)\n",
    "y_enc"
   ]
  },
  {
   "cell_type": "code",
   "execution_count": 110,
   "metadata": {},
   "outputs": [
    {
     "data": {
      "text/plain": [
       "array(['Adelie', 'Chinstrap', 'Gentoo'], dtype=object)"
      ]
     },
     "execution_count": 110,
     "metadata": {},
     "output_type": "execute_result"
    }
   ],
   "source": [
    "# We can recover the class labels from the encoder object later\n",
    "labenc.classes_"
   ]
  },
  {
   "attachments": {},
   "cell_type": "markdown",
   "metadata": {},
   "source": [
    "This gets us part of the way there. But the penguin species are **categorical** not **ordinal**. Keeping the labels as integers implies that species `2` is twice as \"different\" from species `1` as it is from species `0`. We want to perform a conversion here similar to the one-hot encoding above, except will will not 'drop' one of the values. This is where Keras's `to_categorical` utility function comes in."
   ]
  },
  {
   "cell_type": "code",
   "execution_count": 111,
   "metadata": {},
   "outputs": [],
   "source": [
    "from keras.utils import to_categorical"
   ]
  },
  {
   "cell_type": "code",
   "execution_count": 112,
   "metadata": {},
   "outputs": [
    {
     "data": {
      "text/plain": [
       "array([[1., 0., 0.],\n",
       "       [1., 0., 0.],\n",
       "       [1., 0., 0.],\n",
       "       ...,\n",
       "       [0., 0., 1.],\n",
       "       [0., 0., 1.],\n",
       "       [0., 0., 1.]], dtype=float32)"
      ]
     },
     "execution_count": 112,
     "metadata": {},
     "output_type": "execute_result"
    }
   ],
   "source": [
    "y_cat = to_categorical(y_enc)\n",
    "y_cat"
   ]
  },
  {
   "attachments": {},
   "cell_type": "markdown",
   "metadata": {},
   "source": [
    "Perfect!"
   ]
  },
  {
   "attachments": {},
   "cell_type": "markdown",
   "metadata": {},
   "source": [
    "**Q:** If this is what our array of response variables looks like, what will this mean for the output layer of our neural network?"
   ]
  },
  {
   "attachments": {},
   "cell_type": "markdown",
   "metadata": {},
   "source": [
    "**Train-test Split**"
   ]
  },
  {
   "cell_type": "code",
   "execution_count": 113,
   "metadata": {},
   "outputs": [],
   "source": [
    "from sklearn.model_selection import train_test_split"
   ]
  },
  {
   "attachments": {},
   "cell_type": "markdown",
   "metadata": {},
   "source": [
    "You may be familiar with using `train_test_split` to split the `X` and `y` arrays themselves. But here we will using it to create a set of train and test *indices*.\n",
    "\n",
    "We'll see later that being able to determine which rows in the original `X` and `y` ended up in train or test will be helpful.\n",
    "\n",
    "**Q:** But couldn't we just sample integers to get random indices? Why use `train_test_split`?\n",
    "\n",
    "**A:** Because `train_test_split` allows for **stratified** splitting!\n",
    "\n",
    "Here we use a trick to stratify on both the `sex` and `island` variables by concatinating their values together. This gives us a total of 6 possible values (2 sexs x 3 islands). By stratifying on this column we help ensure that each of the 6 possible sex/island combinations is equally represented in both train and test."
   ]
  },
  {
   "cell_type": "code",
   "execution_count": 114,
   "metadata": {},
   "outputs": [
    {
     "data": {
      "text/plain": [
       "0        MaleTorgersen\n",
       "1      FemaleTorgersen\n",
       "2      FemaleTorgersen\n",
       "3      FemaleTorgersen\n",
       "4        MaleTorgersen\n",
       "            ...       \n",
       "337       FemaleBiscoe\n",
       "338       FemaleBiscoe\n",
       "339         MaleBiscoe\n",
       "340       FemaleBiscoe\n",
       "341         MaleBiscoe\n",
       "Length: 342, dtype: object"
      ]
     },
     "execution_count": 114,
     "metadata": {},
     "output_type": "execute_result"
    }
   ],
   "source": [
    "# Concatenate categorical columns; use this for stratified splitting\n",
    "strat_col = penguins['sex'].astype('str') + penguins['island'].astype('str')\n",
    "strat_col"
   ]
  },
  {
   "cell_type": "code",
   "execution_count": 115,
   "metadata": {},
   "outputs": [],
   "source": [
    "# Create train/test indices\n",
    "train_idx, test_idx = train_test_split(np.arange(X_scaled.shape[0]),\n",
    "                                                  test_size=0.5,\n",
    "                                                  random_state=109,\n",
    "                                                  stratify=strat_col)"
   ]
  },
  {
   "cell_type": "code",
   "execution_count": 116,
   "metadata": {},
   "outputs": [],
   "source": [
    "# Index into X_scaled and y_cat to create the train and test sets\n",
    "X_train = X_scaled[train_idx]\n",
    "y_train = y_cat[train_idx]\n",
    "X_test = X_scaled[test_idx]\n",
    "y_test = y_cat[test_idx]"
   ]
  },
  {
   "cell_type": "code",
   "execution_count": 117,
   "metadata": {},
   "outputs": [
    {
     "data": {
      "text/plain": [
       "((171, 7), (171, 3), (171, 7), (171, 3))"
      ]
     },
     "execution_count": 117,
     "metadata": {},
     "output_type": "execute_result"
    }
   ],
   "source": [
    "# Sanity check on the resulting shapes\n",
    "X_train.shape, y_train.shape, X_test.shape, y_test.shape"
   ]
  },
  {
   "attachments": {},
   "cell_type": "markdown",
   "metadata": {},
   "source": [
    "**Validation Split**"
   ]
  },
  {
   "attachments": {},
   "cell_type": "markdown",
   "metadata": {},
   "source": [
    "Here is where those indices we saved come in handy.\\\n",
    "We also want to also ensure equal representation across train and validation."
   ]
  },
  {
   "cell_type": "code",
   "execution_count": 118,
   "metadata": {},
   "outputs": [
    {
     "data": {
      "text/plain": [
       "(171,)"
      ]
     },
     "execution_count": 118,
     "metadata": {},
     "output_type": "execute_result"
    }
   ],
   "source": [
    "# Subset original stratify column using saved train split indices\n",
    "strat_col2 = strat_col.iloc[train_idx]\n",
    "strat_col2.shape"
   ]
  },
  {
   "cell_type": "code",
   "execution_count": 119,
   "metadata": {},
   "outputs": [],
   "source": [
    "# Create train and validation splits from original train split\n",
    "X_train, X_val, y_train, y_val = train_test_split(X_train, y_train, \n",
    "                                                    test_size=0.5,\n",
    "                                                    random_state=109,\n",
    "                                                    stratify=strat_col2)"
   ]
  },
  {
   "attachments": {},
   "cell_type": "markdown",
   "metadata": {},
   "source": [
    "<div class=\"alert alert-success\">\n",
    "    <strong>🏋🏻‍♂️ TEAM ACTIVITY:</strong> Classify Those Penguins!</div>  "
   ]
  },
  {
   "cell_type": "code",
   "execution_count": 120,
   "metadata": {},
   "outputs": [],
   "source": [
    "from tensorflow.keras.losses import categorical_crossentropy\n",
    "from tensorflow.keras.metrics import Accuracy, AUC\n",
    "from tensorflow.keras.activations import softmax"
   ]
  },
  {
   "attachments": {},
   "cell_type": "markdown",
   "metadata": {},
   "source": [
    "**Build**\n",
    "\n",
    "Construct your NN penguin classifier. You can make use of your `build_NN` function from earlier. What output activation should you use?\n",
    "\n",
    "**Hint:** try to programaticlaly determin the input and output shape from your data rather than hard coding those values."
   ]
  },
  {
   "cell_type": "code",
   "execution_count": 121,
   "metadata": {},
   "outputs": [
    {
     "name": "stdout",
     "output_type": "stream",
     "text": [
      "Model: \"penguins\"\n",
      "_________________________________________________________________\n",
      " Layer (type)                Output Shape              Param #   \n",
      "=================================================================\n",
      " dense_19 (Dense)            (None, 8)                 64        \n",
      "                                                                 \n",
      " dense_20 (Dense)            (None, 16)                144       \n",
      "                                                                 \n",
      " dense_21 (Dense)            (None, 3)                 51        \n",
      "                                                                 \n",
      " dense_22 (Dense)            (None, 3)                 12        \n",
      "                                                                 \n",
      "=================================================================\n",
      "Total params: 271 (1.06 KB)\n",
      "Trainable params: 271 (1.06 KB)\n",
      "Non-trainable params: 0 (0.00 Byte)\n",
      "_________________________________________________________________\n"
     ]
    }
   ],
   "source": [
    "# Construct your NN and print the model summary\n",
    "# your code here\n",
    "model = models.Sequential(name='penguins')\n",
    "model.add(layers.Dense(8, activation='relu', input_shape=(X_train.shape[1],)))\n",
    "model.add(layers.Dense(16, activation='relu'))\n",
    "model.add(layers.Dense(3, activation='relu'))\n",
    "model.add(layers.Dense(y_train.shape[1], activation='softmax'))\n",
    "\n",
    "model.summary()"
   ]
  },
  {
   "attachments": {},
   "cell_type": "markdown",
   "metadata": {},
   "source": [
    "**Compile**\n",
    "\n",
    "Again, let's use `SGD` as our optimizer. You can fiddle with the `learning_rate`.\\\n",
    "What loss and metric(s) do you think are appropriate?"
   ]
  },
  {
   "cell_type": "code",
   "execution_count": 122,
   "metadata": {},
   "outputs": [],
   "source": [
    "# Compile\n",
    "# youre code here\n",
    "model.compile(optimizer=optimizers.SGD(learning_rate=1e-1),\n",
    "              loss='categorical_crossentropy',\n",
    "              metrics=['acc', 'AUC'])"
   ]
  },
  {
   "attachments": {},
   "cell_type": "markdown",
   "metadata": {},
   "source": [
    "**Fit**\n",
    "\n",
    "Fit your model and store the results in a variable called `history`.\\\n",
    "Feel free to play with `batch_size` and `epochs`.\n",
    "\n",
    "Don't forget to include the `validation_data`!"
   ]
  },
  {
   "cell_type": "code",
   "execution_count": 123,
   "metadata": {
    "scrolled": true
   },
   "outputs": [
    {
     "name": "stdout",
     "output_type": "stream",
     "text": [
      "Epoch 1/50\n",
      "2/2 [==============================] - 1s 239ms/step - loss: 1.1636 - acc: 0.3647 - auc: 0.4510 - val_loss: 1.0729 - val_acc: 0.5349 - val_auc: 0.6353\n",
      "Epoch 2/50\n",
      "2/2 [==============================] - 0s 24ms/step - loss: 1.0984 - acc: 0.4588 - auc: 0.5455 - val_loss: 1.0336 - val_acc: 0.5814 - val_auc: 0.7069\n",
      "Epoch 3/50\n",
      "2/2 [==============================] - 0s 28ms/step - loss: 1.0527 - acc: 0.4941 - auc: 0.6300 - val_loss: 0.9949 - val_acc: 0.6512 - val_auc: 0.7749\n",
      "Epoch 4/50\n",
      "2/2 [==============================] - 0s 28ms/step - loss: 1.0106 - acc: 0.5765 - auc: 0.7188 - val_loss: 0.9493 - val_acc: 0.6860 - val_auc: 0.8167\n",
      "Epoch 5/50\n",
      "2/2 [==============================] - 0s 30ms/step - loss: 0.9670 - acc: 0.6000 - auc: 0.7608 - val_loss: 0.9038 - val_acc: 0.7326 - val_auc: 0.8577\n",
      "Epoch 6/50\n",
      "2/2 [==============================] - 0s 30ms/step - loss: 0.9241 - acc: 0.6471 - auc: 0.7994 - val_loss: 0.8584 - val_acc: 0.7558 - val_auc: 0.8859\n",
      "Epoch 7/50\n",
      "2/2 [==============================] - 0s 29ms/step - loss: 0.8827 - acc: 0.6824 - auc: 0.8238 - val_loss: 0.8107 - val_acc: 0.8023 - val_auc: 0.8935\n",
      "Epoch 8/50\n",
      "2/2 [==============================] - 0s 26ms/step - loss: 0.8395 - acc: 0.7294 - auc: 0.8307 - val_loss: 0.7660 - val_acc: 0.8372 - val_auc: 0.8965\n",
      "Epoch 9/50\n",
      "2/2 [==============================] - 0s 29ms/step - loss: 0.7989 - acc: 0.7412 - auc: 0.8396 - val_loss: 0.7231 - val_acc: 0.8372 - val_auc: 0.8986\n",
      "Epoch 10/50\n",
      "2/2 [==============================] - 0s 31ms/step - loss: 0.7636 - acc: 0.7294 - auc: 0.8388 - val_loss: 0.6934 - val_acc: 0.8372 - val_auc: 0.9106\n",
      "Epoch 11/50\n",
      "2/2 [==============================] - 0s 29ms/step - loss: 0.7349 - acc: 0.7412 - auc: 0.8703 - val_loss: 0.6644 - val_acc: 0.8372 - val_auc: 0.9140\n",
      "Epoch 12/50\n",
      "2/2 [==============================] - 0s 29ms/step - loss: 0.7097 - acc: 0.7412 - auc: 0.8762 - val_loss: 0.6397 - val_acc: 0.8372 - val_auc: 0.9305\n",
      "Epoch 13/50\n",
      "2/2 [==============================] - 0s 30ms/step - loss: 0.6879 - acc: 0.7412 - auc: 0.9012 - val_loss: 0.6185 - val_acc: 0.8372 - val_auc: 0.9388\n",
      "Epoch 14/50\n",
      "2/2 [==============================] - 0s 35ms/step - loss: 0.6684 - acc: 0.7529 - auc: 0.9103 - val_loss: 0.6014 - val_acc: 0.8372 - val_auc: 0.9436\n",
      "Epoch 15/50\n",
      "2/2 [==============================] - 0s 29ms/step - loss: 0.6531 - acc: 0.7647 - auc: 0.9158 - val_loss: 0.5861 - val_acc: 0.8372 - val_auc: 0.9439\n",
      "Epoch 16/50\n",
      "2/2 [==============================] - 0s 34ms/step - loss: 0.6394 - acc: 0.7647 - auc: 0.9117 - val_loss: 0.5754 - val_acc: 0.8372 - val_auc: 0.9456\n",
      "Epoch 17/50\n",
      "2/2 [==============================] - 0s 35ms/step - loss: 0.6280 - acc: 0.7647 - auc: 0.9166 - val_loss: 0.5647 - val_acc: 0.8372 - val_auc: 0.9467\n",
      "Epoch 18/50\n",
      "2/2 [==============================] - 0s 38ms/step - loss: 0.6177 - acc: 0.7647 - auc: 0.9230 - val_loss: 0.5553 - val_acc: 0.8372 - val_auc: 0.9476\n",
      "Epoch 19/50\n",
      "2/2 [==============================] - 0s 25ms/step - loss: 0.6083 - acc: 0.7647 - auc: 0.9218 - val_loss: 0.5465 - val_acc: 0.8372 - val_auc: 0.9465\n",
      "Epoch 20/50\n",
      "2/2 [==============================] - 0s 29ms/step - loss: 0.5998 - acc: 0.7647 - auc: 0.9233 - val_loss: 0.5385 - val_acc: 0.8372 - val_auc: 0.9472\n",
      "Epoch 21/50\n",
      "2/2 [==============================] - 0s 30ms/step - loss: 0.5923 - acc: 0.7647 - auc: 0.9193 - val_loss: 0.5294 - val_acc: 0.8372 - val_auc: 0.9460\n",
      "Epoch 22/50\n",
      "2/2 [==============================] - 0s 30ms/step - loss: 0.5841 - acc: 0.7647 - auc: 0.9267 - val_loss: 0.5230 - val_acc: 0.8372 - val_auc: 0.9467\n",
      "Epoch 23/50\n",
      "2/2 [==============================] - 0s 26ms/step - loss: 0.5777 - acc: 0.7647 - auc: 0.9262 - val_loss: 0.5163 - val_acc: 0.8372 - val_auc: 0.9471\n",
      "Epoch 24/50\n",
      "2/2 [==============================] - 0s 31ms/step - loss: 0.5719 - acc: 0.7647 - auc: 0.9267 - val_loss: 0.5098 - val_acc: 0.8372 - val_auc: 0.9484\n",
      "Epoch 25/50\n",
      "2/2 [==============================] - 0s 30ms/step - loss: 0.5660 - acc: 0.7647 - auc: 0.9252 - val_loss: 0.5050 - val_acc: 0.8372 - val_auc: 0.9478\n",
      "Epoch 26/50\n",
      "2/2 [==============================] - 0s 25ms/step - loss: 0.5610 - acc: 0.7647 - auc: 0.9263 - val_loss: 0.4999 - val_acc: 0.8372 - val_auc: 0.9472\n",
      "Epoch 27/50\n",
      "2/2 [==============================] - 0s 28ms/step - loss: 0.5561 - acc: 0.7647 - auc: 0.9262 - val_loss: 0.4956 - val_acc: 0.8372 - val_auc: 0.9483\n",
      "Epoch 28/50\n",
      "2/2 [==============================] - 0s 27ms/step - loss: 0.5518 - acc: 0.7647 - auc: 0.9220 - val_loss: 0.4921 - val_acc: 0.8372 - val_auc: 0.9484\n",
      "Epoch 29/50\n",
      "2/2 [==============================] - 0s 28ms/step - loss: 0.5475 - acc: 0.7647 - auc: 0.9228 - val_loss: 0.4888 - val_acc: 0.8372 - val_auc: 0.9481\n",
      "Epoch 30/50\n",
      "2/2 [==============================] - 0s 27ms/step - loss: 0.5435 - acc: 0.7647 - auc: 0.9269 - val_loss: 0.4846 - val_acc: 0.8372 - val_auc: 0.9481\n",
      "Epoch 31/50\n",
      "2/2 [==============================] - 0s 28ms/step - loss: 0.5399 - acc: 0.7647 - auc: 0.9269 - val_loss: 0.4818 - val_acc: 0.8372 - val_auc: 0.9483\n",
      "Epoch 32/50\n",
      "2/2 [==============================] - 0s 26ms/step - loss: 0.5363 - acc: 0.7647 - auc: 0.9247 - val_loss: 0.4775 - val_acc: 0.8372 - val_auc: 0.9486\n",
      "Epoch 33/50\n",
      "2/2 [==============================] - 0s 26ms/step - loss: 0.5327 - acc: 0.7647 - auc: 0.9246 - val_loss: 0.4735 - val_acc: 0.8372 - val_auc: 0.9487\n",
      "Epoch 34/50\n",
      "2/2 [==============================] - 0s 27ms/step - loss: 0.5296 - acc: 0.7647 - auc: 0.9257 - val_loss: 0.4695 - val_acc: 0.8372 - val_auc: 0.9481\n",
      "Epoch 35/50\n",
      "2/2 [==============================] - 0s 28ms/step - loss: 0.5265 - acc: 0.7647 - auc: 0.9269 - val_loss: 0.4669 - val_acc: 0.8372 - val_auc: 0.9471\n",
      "Epoch 36/50\n",
      "2/2 [==============================] - 0s 30ms/step - loss: 0.5237 - acc: 0.7647 - auc: 0.9251 - val_loss: 0.4638 - val_acc: 0.8372 - val_auc: 0.9474\n",
      "Epoch 37/50\n",
      "2/2 [==============================] - 0s 28ms/step - loss: 0.5214 - acc: 0.7647 - auc: 0.9149 - val_loss: 0.4625 - val_acc: 0.8372 - val_auc: 0.9485\n",
      "Epoch 38/50\n",
      "2/2 [==============================] - 0s 31ms/step - loss: 0.5187 - acc: 0.7647 - auc: 0.9273 - val_loss: 0.4602 - val_acc: 0.8372 - val_auc: 0.9486\n",
      "Epoch 39/50\n",
      "2/2 [==============================] - 0s 33ms/step - loss: 0.5163 - acc: 0.7647 - auc: 0.9246 - val_loss: 0.4578 - val_acc: 0.8372 - val_auc: 0.9479\n",
      "Epoch 40/50\n",
      "2/2 [==============================] - 0s 27ms/step - loss: 0.5142 - acc: 0.7647 - auc: 0.9269 - val_loss: 0.4562 - val_acc: 0.8372 - val_auc: 0.9472\n",
      "Epoch 41/50\n",
      "2/2 [==============================] - 0s 26ms/step - loss: 0.5120 - acc: 0.7647 - auc: 0.9262 - val_loss: 0.4544 - val_acc: 0.8372 - val_auc: 0.9487\n",
      "Epoch 42/50\n",
      "2/2 [==============================] - 0s 25ms/step - loss: 0.5105 - acc: 0.7647 - auc: 0.9257 - val_loss: 0.4506 - val_acc: 0.8372 - val_auc: 0.9487\n",
      "Epoch 43/50\n",
      "2/2 [==============================] - 0s 26ms/step - loss: 0.5078 - acc: 0.7647 - auc: 0.9258 - val_loss: 0.4483 - val_acc: 0.8372 - val_auc: 0.9486\n",
      "Epoch 44/50\n",
      "2/2 [==============================] - 0s 25ms/step - loss: 0.5061 - acc: 0.7647 - auc: 0.9269 - val_loss: 0.4454 - val_acc: 0.8372 - val_auc: 0.9487\n",
      "Epoch 45/50\n",
      "2/2 [==============================] - 0s 26ms/step - loss: 0.5040 - acc: 0.7647 - auc: 0.9258 - val_loss: 0.4441 - val_acc: 0.8372 - val_auc: 0.9486\n",
      "Epoch 46/50\n",
      "2/2 [==============================] - 0s 27ms/step - loss: 0.5022 - acc: 0.7647 - auc: 0.9267 - val_loss: 0.4424 - val_acc: 0.8372 - val_auc: 0.9487\n",
      "Epoch 47/50\n",
      "2/2 [==============================] - 0s 27ms/step - loss: 0.5007 - acc: 0.7647 - auc: 0.9258 - val_loss: 0.4400 - val_acc: 0.8372 - val_auc: 0.9498\n",
      "Epoch 48/50\n",
      "2/2 [==============================] - 0s 27ms/step - loss: 0.4989 - acc: 0.7647 - auc: 0.9263 - val_loss: 0.4389 - val_acc: 0.8372 - val_auc: 0.9488\n",
      "Epoch 49/50\n",
      "2/2 [==============================] - 0s 27ms/step - loss: 0.4974 - acc: 0.7647 - auc: 0.9269 - val_loss: 0.4367 - val_acc: 0.8372 - val_auc: 0.9492\n",
      "Epoch 50/50\n",
      "2/2 [==============================] - 0s 26ms/step - loss: 0.4957 - acc: 0.7647 - auc: 0.9274 - val_loss: 0.4357 - val_acc: 0.8372 - val_auc: 0.9487\n"
     ]
    }
   ],
   "source": [
    "# Fit\n",
    "# your code here\n",
    "history = model.fit(X_train,\n",
    "                    y_train,\n",
    "                    validation_data=(X_val, y_val),\n",
    "                    batch_size=64,\n",
    "                    epochs=50)"
   ]
  },
  {
   "attachments": {},
   "cell_type": "markdown",
   "metadata": {},
   "source": [
    "**Plot**\n",
    "\n",
    "Finally, write some code to visualize your loss and metric(s) across the training epochs. You should include both **train** and **validation** scores. This is where a **legend** is very important!\n",
    "\n",
    "**Note:** If you load the solutions they may not run for you unless you have selected the same metric(s)"
   ]
  },
  {
   "cell_type": "code",
   "execution_count": 124,
   "metadata": {},
   "outputs": [
    {
     "data": {
      "image/png": "[encoded data removed]",
      "text/plain": [
       "<Figure size 1800x500 with 3 Axes>"
      ]
     },
     "metadata": {},
     "output_type": "display_data"
    }
   ],
   "source": [
    "# Plot training history\n",
    "# your code here\n",
    "fig, axs = plt.subplots(1,3, figsize=(18,5))\n",
    "                       \n",
    "axs[0].loglog(history.history['loss'],linewidth=4, label = 'Training')\n",
    "axs[0].loglog(history.history['val_loss'],linewidth=4, label = 'Validation', alpha=0.7)\n",
    "axs[0].set_ylabel('Loss')\n",
    "\n",
    "\n",
    "axs[1].plot(history.history['acc'], label='Training')\n",
    "axs[1].plot(history.history['val_acc'], label='Validation')\n",
    "\n",
    "axs[2].plot(history.history['auc'], label='Training')\n",
    "axs[2].plot(history.history['val_auc'], label='Validation')\n",
    "\n",
    "titles = ['Categorical Crossentropy Loss', 'Accuracy', 'AUC']\n",
    "for ax, title in zip(axs, titles):\n",
    "    ax.set_xlabel('Epoch')\n",
    "    ax.set_title(title)\n",
    "    ax.legend()"
   ]
  },
  {
   "attachments": {},
   "cell_type": "markdown",
   "metadata": {},
   "source": [
    "**End of Team Activity**"
   ]
  },
  {
   "attachments": {},
   "cell_type": "markdown",
   "metadata": {},
   "source": [
    "----\n",
    "\n",
    "### Appendix"
   ]
  },
  {
   "attachments": {},
   "cell_type": "markdown",
   "metadata": {},
   "source": [
    "<div class='exercise'> <b>Evaluating the Model</div>\n"
   ]
  },
  {
   "attachments": {},
   "cell_type": "markdown",
   "metadata": {},
   "source": [
    "First, let's see how well we could to by simply predicting the majority class in the training data for all observations."
   ]
  },
  {
   "cell_type": "code",
   "execution_count": 125,
   "metadata": {},
   "outputs": [
    {
     "name": "stdout",
     "output_type": "stream",
     "text": [
      "Naive Accuracy: 0.4\n"
     ]
    }
   ],
   "source": [
    "naive_acc = y_train.mean(axis=0).max()\n",
    "print('Naive Accuracy:', naive_acc)"
   ]
  },
  {
   "cell_type": "code",
   "execution_count": 126,
   "metadata": {},
   "outputs": [
    {
     "name": "stdout",
     "output_type": "stream",
     "text": [
      "3/3 [==============================] - 0s 3ms/step - loss: 0.4944 - acc: 0.7647 - auc: 0.9270\n"
     ]
    },
    {
     "data": {
      "text/plain": [
       "[0.4943799674510956, 0.7647058963775635, 0.9269550442695618]"
      ]
     },
     "execution_count": 126,
     "metadata": {},
     "output_type": "execute_result"
    }
   ],
   "source": [
    "# Train\n",
    "model.evaluate(X_train, y_train)"
   ]
  },
  {
   "cell_type": "code",
   "execution_count": 127,
   "metadata": {},
   "outputs": [
    {
     "name": "stdout",
     "output_type": "stream",
     "text": [
      "3/3 [==============================] - 0s 3ms/step - loss: 0.4357 - acc: 0.8372 - auc: 0.9487\n"
     ]
    },
    {
     "data": {
      "text/plain": [
       "[0.43571561574935913, 0.8372092843055725, 0.9486885070800781]"
      ]
     },
     "execution_count": 127,
     "metadata": {},
     "output_type": "execute_result"
    }
   ],
   "source": [
    "# Validation\n",
    "model.evaluate(X_val, y_val)"
   ]
  },
  {
   "cell_type": "code",
   "execution_count": 128,
   "metadata": {},
   "outputs": [
    {
     "name": "stdout",
     "output_type": "stream",
     "text": [
      "6/6 [==============================] - 0s 2ms/step - loss: 0.4875 - acc: 0.8012 - auc: 0.9284\n"
     ]
    },
    {
     "data": {
      "text/plain": [
       "[0.48749426007270813, 0.8011695742607117, 0.9284052848815918]"
      ]
     },
     "execution_count": 128,
     "metadata": {},
     "output_type": "execute_result"
    }
   ],
   "source": [
    "# Test\n",
    "model.evaluate(X_test, y_test)"
   ]
  },
  {
   "attachments": {},
   "cell_type": "markdown",
   "metadata": {},
   "source": [
    "<div class='exercise'> <b>Black Box Interpretation</div>\n"
   ]
  },
  {
   "attachments": {},
   "cell_type": "markdown",
   "metadata": {},
   "source": [
    "**Proxy Model**"
   ]
  },
  {
   "cell_type": "code",
   "execution_count": 129,
   "metadata": {},
   "outputs": [],
   "source": [
    "from sklearn.tree import DecisionTreeClassifier\n",
    "from sklearn.model_selection import cross_validate, GridSearchCV"
   ]
  },
  {
   "cell_type": "code",
   "execution_count": 130,
   "metadata": {},
   "outputs": [
    {
     "name": "stdout",
     "output_type": "stream",
     "text": [
      "3/3 [==============================] - 0s 2ms/step\n",
      "6/6 [==============================] - 0s 856us/step\n"
     ]
    }
   ],
   "source": [
    "# Create train & test response variables for proxy model\n",
    "y_train_bb = model.predict(X_train).argmax(-1)\n",
    "y_test_bb = model.predict(X_test).argmax(-1)"
   ]
  },
  {
   "cell_type": "code",
   "execution_count": 131,
   "metadata": {},
   "outputs": [
    {
     "name": "stdout",
     "output_type": "stream",
     "text": [
      "Best Score: 0.9647058823529411\n",
      "Best Params: {'criterion': 'gini', 'max_depth': 2}\n"
     ]
    }
   ],
   "source": [
    "# Use cross-validation to tune proxy's hyperparameters\n",
    "parameters = {'max_depth':range(1,10),\n",
    "              'criterion': ['gini', 'entropy']}\n",
    "\n",
    "clf = DecisionTreeClassifier(random_state=42)\n",
    "grid = GridSearchCV(clf, parameters, cv=5)\n",
    "\n",
    "# fit using same train but NN's predictions as response\n",
    "grid.fit(X_train, y_train_bb)\n",
    "print('Best Score:', grid.best_score_)\n",
    "print('Best Params:', grid.best_params_) "
   ]
  },
  {
   "cell_type": "code",
   "execution_count": 132,
   "metadata": {},
   "outputs": [
    {
     "name": "stdout",
     "output_type": "stream",
     "text": [
      "Black Box Test Score: 0.8011695906432749\n",
      "Proxy Model Test Score: 0.9649122807017544\n"
     ]
    }
   ],
   "source": [
    "# Retrieve best estimator from the grid object\n",
    "proxy = grid.best_estimator_\n",
    "\n",
    "bb_test_score =  sum(y_test_bb == y_test.argmax(axis=1))/len(y_test_bb)\n",
    "proxy_test_score = proxy.score(X_test, y_test_bb)\n",
    "print('Black Box Test Score:', bb_test_score)\n",
    "print('Proxy Model Test Score:', proxy_test_score)"
   ]
  },
  {
   "attachments": {},
   "cell_type": "markdown",
   "metadata": {},
   "source": [
    "**Feature Importance**"
   ]
  },
  {
   "cell_type": "code",
   "execution_count": 133,
   "metadata": {},
   "outputs": [
    {
     "data": {
      "text/plain": [
       "array([0.        , 0.90207373, 0.        , 0.09792627, 0.        ,\n",
       "       0.        , 0.        ])"
      ]
     },
     "execution_count": 133,
     "metadata": {},
     "output_type": "execute_result"
    }
   ],
   "source": [
    "feature_importances = proxy.feature_importances_\n",
    "feature_importances"
   ]
  },
  {
   "cell_type": "code",
   "execution_count": 134,
   "metadata": {},
   "outputs": [],
   "source": [
    "sort_idx = np.argsort(feature_importances)[::-1]"
   ]
  },
  {
   "cell_type": "code",
   "execution_count": 135,
   "metadata": {},
   "outputs": [
    {
     "data": {
      "image/png": "[encoded data removed]",
      "text/plain": [
       "<Figure size 640x480 with 1 Axes>"
      ]
     },
     "metadata": {},
     "output_type": "display_data"
    }
   ],
   "source": [
    "ax = sns.barplot(x=feature_importances[sort_idx], y=X_cols[sort_idx], color='purple', orient='h')\n",
    "for index, val in enumerate(feature_importances[sort_idx]):\n",
    "    ax.text(val/3, index, round(val, 2),color='white', weight='bold', va='center')\n",
    "ax.set_title('NN Feature Importance According to DTree Proxy')\n",
    "sns.despine(right=True)"
   ]
  },
  {
   "attachments": {},
   "cell_type": "markdown",
   "metadata": {},
   "source": [
    "**Fixing All But One Predictor**\n",
    "\n",
    "We can also try to see how a predictor affects the NN's output by fixing all the other to some \"reasonable\" values (e.g., mean, mode) and then only varying the predictor of interest.\n",
    "\n",
    "Based on the results above, let's explore how `bill_length_mm` effects the NN's output."
   ]
  },
  {
   "attachments": {},
   "cell_type": "markdown",
   "metadata": {},
   "source": [
    "**Construct 'Average' Observation**"
   ]
  },
  {
   "cell_type": "code",
   "execution_count": 136,
   "metadata": {},
   "outputs": [
    {
     "data": {
      "text/plain": [
       "bill_length_mm       float64\n",
       "bill_depth_mm        float64\n",
       "flipper_length_mm    float64\n",
       "body_mass_g          float64\n",
       "island_Dream            bool\n",
       "island_Torgersen        bool\n",
       "sex_Male                bool\n",
       "dtype: object"
      ]
     },
     "execution_count": 136,
     "metadata": {},
     "output_type": "execute_result"
    }
   ],
   "source": [
    "# Review data types\n",
    "X_design.dtypes"
   ]
  },
  {
   "cell_type": "code",
   "execution_count": 137,
   "metadata": {},
   "outputs": [],
   "source": [
    "# Take means for continous\n",
    "means = X_scaled[:,:4].mean(axis=0)\n",
    "\n",
    "# And modes for catgoricals\n",
    "modes = pd.DataFrame(X_scaled[:,4:]).mode().values.reshape(-1)"
   ]
  },
  {
   "cell_type": "code",
   "execution_count": 138,
   "metadata": {},
   "outputs": [
    {
     "data": {
      "text/plain": [
       "((4,), (3,))"
      ]
     },
     "execution_count": 138,
     "metadata": {},
     "output_type": "execute_result"
    }
   ],
   "source": [
    "# Shape Sanity Check\n",
    "means.shape, modes.shape"
   ]
  },
  {
   "cell_type": "code",
   "execution_count": 139,
   "metadata": {},
   "outputs": [],
   "source": [
    "# Concatenate these two back together\n",
    "avg_obs = np.concatenate([means, modes])"
   ]
  },
  {
   "cell_type": "code",
   "execution_count": 140,
   "metadata": {},
   "outputs": [
    {
     "data": {
      "text/html": [
       "<div>\n",
       "<style scoped>\n",
       "    .dataframe tbody tr th:only-of-type {\n",
       "        vertical-align: middle;\n",
       "    }\n",
       "\n",
       "    .dataframe tbody tr th {\n",
       "        vertical-align: top;\n",
       "    }\n",
       "\n",
       "    .dataframe thead th {\n",
       "        text-align: right;\n",
       "    }\n",
       "</style>\n",
       "<table border=\"1\" class=\"dataframe\">\n",
       "  <thead>\n",
       "    <tr style=\"text-align: right;\">\n",
       "      <th></th>\n",
       "      <th>bill_length_mm</th>\n",
       "      <th>bill_depth_mm</th>\n",
       "      <th>flipper_length_mm</th>\n",
       "      <th>body_mass_g</th>\n",
       "      <th>island_Dream</th>\n",
       "      <th>island_Torgersen</th>\n",
       "      <th>sex_Male</th>\n",
       "    </tr>\n",
       "  </thead>\n",
       "  <tbody>\n",
       "    <tr>\n",
       "      <th>0</th>\n",
       "      <td>1.662088e-16</td>\n",
       "      <td>-1.412775e-15</td>\n",
       "      <td>-8.310441e-16</td>\n",
       "      <td>4.155221e-17</td>\n",
       "      <td>-0.754193</td>\n",
       "      <td>-0.418638</td>\n",
       "      <td>0.965507</td>\n",
       "    </tr>\n",
       "  </tbody>\n",
       "</table>\n",
       "</div>"
      ],
      "text/plain": [
       "   bill_length_mm  bill_depth_mm  flipper_length_mm   body_mass_g  \\\n",
       "0    1.662088e-16  -1.412775e-15      -8.310441e-16  4.155221e-17   \n",
       "\n",
       "   island_Dream  island_Torgersen  sex_Male  \n",
       "0     -0.754193         -0.418638  0.965507  "
      ]
     },
     "execution_count": 140,
     "metadata": {},
     "output_type": "execute_result"
    }
   ],
   "source": [
    "# And stick it back in a DataFrame\n",
    "avg_obs = pd.DataFrame(avg_obs).transpose()\n",
    "avg_obs.columns = X_design.columns\n",
    "avg_obs"
   ]
  },
  {
   "cell_type": "code",
   "execution_count": 141,
   "metadata": {},
   "outputs": [],
   "source": [
    "# Identify column in our array that corresponds to bill length\n",
    "bill_col = np.argmax(X_design.columns == 'bill_length_mm')\n",
    "\n",
    "# Find the min and max bill length stdevs in the data set\n",
    "bill_min_std = np.min(X_scaled[:,bill_col])\n",
    "bill_max_std = np.max(X_scaled[:, bill_col])\n",
    "\n",
    "# Create 100 evenly spaced values within that range\n",
    "bill_lengths = np.linspace(bill_min_std, bill_max_std, 100)\n",
    "\n",
    "# Create 100 duplicates of the average observation\n",
    "avg_df  = pd.concat([avg_obs]*bill_lengths.size,ignore_index=True)\n",
    "\n",
    "# Set the bill length column to then linspace we just created\n",
    "avg_df['bill_length_mm'] = bill_lengths"
   ]
  },
  {
   "attachments": {},
   "cell_type": "markdown",
   "metadata": {},
   "source": [
    "Notice now that all rows are identical except for `bill_length_mm` which slowly covers the entire range of values observed in the dataset."
   ]
  },
  {
   "cell_type": "code",
   "execution_count": 142,
   "metadata": {},
   "outputs": [
    {
     "data": {
      "text/html": [
       "<div>\n",
       "<style scoped>\n",
       "    .dataframe tbody tr th:only-of-type {\n",
       "        vertical-align: middle;\n",
       "    }\n",
       "\n",
       "    .dataframe tbody tr th {\n",
       "        vertical-align: top;\n",
       "    }\n",
       "\n",
       "    .dataframe thead th {\n",
       "        text-align: right;\n",
       "    }\n",
       "</style>\n",
       "<table border=\"1\" class=\"dataframe\">\n",
       "  <thead>\n",
       "    <tr style=\"text-align: right;\">\n",
       "      <th></th>\n",
       "      <th>bill_length_mm</th>\n",
       "      <th>bill_depth_mm</th>\n",
       "      <th>flipper_length_mm</th>\n",
       "      <th>body_mass_g</th>\n",
       "      <th>island_Dream</th>\n",
       "      <th>island_Torgersen</th>\n",
       "      <th>sex_Male</th>\n",
       "    </tr>\n",
       "  </thead>\n",
       "  <tbody>\n",
       "    <tr>\n",
       "      <th>0</th>\n",
       "      <td>-2.168526</td>\n",
       "      <td>-1.412775e-15</td>\n",
       "      <td>-8.310441e-16</td>\n",
       "      <td>4.155221e-17</td>\n",
       "      <td>-0.754193</td>\n",
       "      <td>-0.418638</td>\n",
       "      <td>0.965507</td>\n",
       "    </tr>\n",
       "    <tr>\n",
       "      <th>1</th>\n",
       "      <td>-2.117573</td>\n",
       "      <td>-1.412775e-15</td>\n",
       "      <td>-8.310441e-16</td>\n",
       "      <td>4.155221e-17</td>\n",
       "      <td>-0.754193</td>\n",
       "      <td>-0.418638</td>\n",
       "      <td>0.965507</td>\n",
       "    </tr>\n",
       "    <tr>\n",
       "      <th>2</th>\n",
       "      <td>-2.066619</td>\n",
       "      <td>-1.412775e-15</td>\n",
       "      <td>-8.310441e-16</td>\n",
       "      <td>4.155221e-17</td>\n",
       "      <td>-0.754193</td>\n",
       "      <td>-0.418638</td>\n",
       "      <td>0.965507</td>\n",
       "    </tr>\n",
       "    <tr>\n",
       "      <th>3</th>\n",
       "      <td>-2.015666</td>\n",
       "      <td>-1.412775e-15</td>\n",
       "      <td>-8.310441e-16</td>\n",
       "      <td>4.155221e-17</td>\n",
       "      <td>-0.754193</td>\n",
       "      <td>-0.418638</td>\n",
       "      <td>0.965507</td>\n",
       "    </tr>\n",
       "    <tr>\n",
       "      <th>4</th>\n",
       "      <td>-1.964712</td>\n",
       "      <td>-1.412775e-15</td>\n",
       "      <td>-8.310441e-16</td>\n",
       "      <td>4.155221e-17</td>\n",
       "      <td>-0.754193</td>\n",
       "      <td>-0.418638</td>\n",
       "      <td>0.965507</td>\n",
       "    </tr>\n",
       "  </tbody>\n",
       "</table>\n",
       "</div>"
      ],
      "text/plain": [
       "   bill_length_mm  bill_depth_mm  flipper_length_mm   body_mass_g  \\\n",
       "0       -2.168526  -1.412775e-15      -8.310441e-16  4.155221e-17   \n",
       "1       -2.117573  -1.412775e-15      -8.310441e-16  4.155221e-17   \n",
       "2       -2.066619  -1.412775e-15      -8.310441e-16  4.155221e-17   \n",
       "3       -2.015666  -1.412775e-15      -8.310441e-16  4.155221e-17   \n",
       "4       -1.964712  -1.412775e-15      -8.310441e-16  4.155221e-17   \n",
       "\n",
       "   island_Dream  island_Torgersen  sex_Male  \n",
       "0     -0.754193         -0.418638  0.965507  \n",
       "1     -0.754193         -0.418638  0.965507  \n",
       "2     -0.754193         -0.418638  0.965507  \n",
       "3     -0.754193         -0.418638  0.965507  \n",
       "4     -0.754193         -0.418638  0.965507  "
      ]
     },
     "execution_count": 142,
     "metadata": {},
     "output_type": "execute_result"
    }
   ],
   "source": [
    "avg_df.head()"
   ]
  },
  {
   "attachments": {},
   "cell_type": "markdown",
   "metadata": {},
   "source": [
    "**Return Predictor to Original Scale**\n",
    "\n",
    "When we visualize our results we'll want to do so back in the original scale for better interpretability.\n",
    "\n",
    "Here we make use of our scaler object from way back when as it stores the means and standard deviations of the original, unscaled predictors."
   ]
  },
  {
   "cell_type": "code",
   "execution_count": 143,
   "metadata": {},
   "outputs": [],
   "source": [
    "# Recover the feature of interest on the original scale\n",
    "bill_std = np.sqrt(scaler.var_[bill_col])\n",
    "bill_mean = scaler.mean_[bill_col]\n",
    "bill_lengths_original = (bill_std*bill_lengths)+bill_mean"
   ]
  },
  {
   "attachments": {},
   "cell_type": "markdown",
   "metadata": {},
   "source": [
    "We can sanity check out inverse transformation by confirming we recovereed the same min and max bill length from our very first DataFrame!"
   ]
  },
  {
   "cell_type": "code",
   "execution_count": 144,
   "metadata": {},
   "outputs": [
    {
     "data": {
      "text/plain": [
       "(32.1, 32.1)"
      ]
     },
     "execution_count": 144,
     "metadata": {},
     "output_type": "execute_result"
    }
   ],
   "source": [
    "# Min Sanity Check\n",
    "bill_lengths_original.min(), penguins.bill_length_mm.min()"
   ]
  },
  {
   "cell_type": "code",
   "execution_count": 145,
   "metadata": {},
   "outputs": [
    {
     "data": {
      "text/plain": [
       "(59.6, 59.6)"
      ]
     },
     "execution_count": 145,
     "metadata": {},
     "output_type": "execute_result"
    }
   ],
   "source": [
    "# Max Sanity Check\n",
    "bill_lengths_original.max(), penguins.bill_length_mm.max()"
   ]
  },
  {
   "attachments": {},
   "cell_type": "markdown",
   "metadata": {},
   "source": [
    "Now we are ready to plot an approximation of how `bill_length_mm` affects the NN's predictions."
   ]
  },
  {
   "cell_type": "code",
   "execution_count": 146,
   "metadata": {},
   "outputs": [
    {
     "name": "stdout",
     "output_type": "stream",
     "text": [
      "4/4 [==============================] - 0s 2ms/step\n"
     ]
    },
    {
     "data": {
      "image/png": "[encoded data removed]",
      "text/plain": [
       "<Figure size 640x480 with 1 Axes>"
      ]
     },
     "metadata": {},
     "output_type": "display_data"
    }
   ],
   "source": [
    "# Plot predicted class probabilities as a function of bill length (approx)\n",
    "avg_pred = model.predict(avg_df)\n",
    "fig, ax = plt.subplots()\n",
    "for idx, species in enumerate(labenc.classes_): \n",
    "    plt.plot(bill_lengths_original, avg_pred[:,idx], label=species)\n",
    "ax.set_ylabel('predicted probability')\n",
    "ax.set_xlabel('bill length in mm')\n",
    "ax.set_title('NN Predictions varying only bill length, holding all other predictors at mean/mode')\n",
    "\n",
    "ax.legend();"
   ]
  },
  {
   "attachments": {},
   "cell_type": "markdown",
   "metadata": {},
   "source": [
    "If you know your penguins this should be too surprising. Gentoo penguins are the 3rd largest species after the emperor and king penguins (not represented in our dataset).\n",
    "\n",
    "**Q:** Why is this only an *approximation* of how `bill_length_mm` from observations would affect the NN's predictions?"
   ]
  },
  {
   "attachments": {},
   "cell_type": "markdown",
   "metadata": {},
   "source": [
    "<div class='exercise'> <b>Bagging</div>\n",
    "\n",
    "You'll be using bagging (\"bootstrap aggregating\") in your HW so let's take a minute to review the idea and see how it would work with a Kerass model.\n",
    "    \n",
    "The idea is to similuate multiple datasets by sampling our current one with replacement and fitting a model on this sample. The process is repeated multiple times until we have an *ensemble* of fitted models, all trained on slightly different datasets. \n",
    "    \n",
    "We can then treat the ensemble as a singled 'bagged' model. When it is time to predict, each model in the ensemble makes its own predictions. These predictions can then be *aggregated* across models, for example, by taking the average or through majority voting.\n",
    "    \n",
    "We may also be interested in looking at the distribution of the predictions for a given observation as this may help us quanity our uncertainty in a way in which we could not with a single model's predictions (even if that model outputs a probability!)"
   ]
  },
  {
   "attachments": {},
   "cell_type": "markdown",
   "metadata": {},
   "source": [
    "**NN Build Function**\\\n",
    "**Arguments:**\n",
    "- `name`: str - A name for your NN.\n",
    "- `input_shape`: tuple - number of predictors in input (remember the trailing ','!)\n",
    "- `hidden_dims`: list of int - specifies the number of neurons in each hidden layer\n",
    "    - Ex: [2,4,8] would mean 3 hidden layers with 2, 4, and 8 neurons respectively\n",
    "- `hidden_act`: str (or Keras activation object) - activation function used by all hidden layers\n",
    "- `out_dim`: int - number of output neurons a.k.a 'ouput units'\n",
    "- `out_act`: str (or Keras activation object) - activation function used by output layer\n",
    "\n",
    "**Hint:** We will reuse this function throughout the notebook in different settings, but you should go ahead and set some sensible defaults for *all* of the arguments."
   ]
  },
  {
   "cell_type": "code",
   "execution_count": 147,
   "metadata": {},
   "outputs": [],
   "source": [
    "def build_NN(name='NN', input_shape=(1,), hidden_dims=[2], hidden_act='relu', out_dim=1, out_act='linear'):\n",
    "    model = models.Sequential(name=name)\n",
    "    model.add(layers.Input(shape=input_shape))\n",
    "    for hidden_dim in hidden_dims:\n",
    "        model.add(layers.Dense(hidden_dim, activation=hidden_act))\n",
    "    model.add(layers.Dense(out_dim, activation=out_act))\n",
    "    return model"
   ]
  },
  {
   "cell_type": "code",
   "execution_count": 148,
   "metadata": {},
   "outputs": [],
   "source": [
    "# Set sup parameters for the bagging process\n",
    "learning_rate=1e-1\n",
    "epochs = 50\n",
    "batch_size = 64\n",
    "n_boot = 30\n",
    "bagged_model = []\n",
    "np.random.seed(109)\n",
    "\n",
    "for n in range(n_boot):\n",
    "    # Bootstrap\n",
    "    boot_idx = np.random.choice(X_train.shape[0], size=X_train.shape[0], replace=True)\n",
    "    X_train_boot = X_train[boot_idx]\n",
    "    y_train_boot = y_train[boot_idx]\n",
    "\n",
    "    # Build\n",
    "    boot_model= build_NN(name=f'penguins_{n}',\n",
    "                        input_shape=(X_train_boot.shape[1],),\n",
    "                        hidden_dims=[8,16,32],\n",
    "                        hidden_act='relu',\n",
    "                        out_dim=3,\n",
    "                        out_act='softmax')\n",
    "    # Compile\n",
    "    boot_model.compile(optimizer=optimizers.SGD(learning_rate=learning_rate),\n",
    "                       loss='categorical_crossentropy',\n",
    "                       metrics=['acc', 'AUC'])\n",
    "\n",
    "    # Fit\n",
    "    boot_model.fit(X_train_boot,\n",
    "                   y_train_boot,\n",
    "                   batch_size=batch_size,\n",
    "                   epochs=epochs,\n",
    "                   verbose=0)\n",
    "    \n",
    "    # Store bootstrapped model's probability predictions\n",
    "    bagged_model.append(boot_model)"
   ]
  },
  {
   "cell_type": "code",
   "execution_count": 149,
   "metadata": {},
   "outputs": [
    {
     "name": "stdout",
     "output_type": "stream",
     "text": [
      "3\n"
     ]
    }
   ],
   "source": [
    "# Notice we can programatically recover the shape of a model's output layer\n",
    "m = bagged_model[0]\n",
    "out_dim = m.layers[-1].output_shape[-1]\n",
    "print(out_dim)"
   ]
  },
  {
   "cell_type": "code",
   "execution_count": 150,
   "metadata": {},
   "outputs": [],
   "source": [
    "def get_bagged_pred(bagged_model, X): \n",
    "    # Number of observations\n",
    "    n_obs = X.shape[0]\n",
    "    # Prediction dimensions (here, number of classes)\n",
    "    pred_dim = bagged_model[0].layers[-1].output_shape[-1]\n",
    "    # Number of models in the bagged ensemble\n",
    "    n_models = len(bagged_model)\n",
    "    # 3D tensor to store predictions from each bootstrapped model\n",
    "    # n_observations x n_classes x n_models\n",
    "    boot_preds = np.zeros((n_obs, pred_dim, n_models))\n",
    "    # Store all predictions in the tensor\n",
    "    for i, model in enumerate(bagged_model):\n",
    "        boot_preds[:,:,i] = model.predict(X)\n",
    "    # Average the predictions across models\n",
    "    bag_pred = boot_preds.mean(axis=-1)\n",
    "    return bag_pred, boot_preds"
   ]
  },
  {
   "cell_type": "code",
   "execution_count": 151,
   "metadata": {},
   "outputs": [
    {
     "name": "stdout",
     "output_type": "stream",
     "text": [
      "6/6 [==============================] - 0s 1ms/step\n",
      "6/6 [==============================] - 0s 1ms/step\n",
      "6/6 [==============================] - 0s 1ms/step\n",
      "6/6 [==============================] - 0s 1ms/step\n",
      "6/6 [==============================] - 0s 1ms/step\n",
      "6/6 [==============================] - 0s 994us/step\n",
      "6/6 [==============================] - 0s 1ms/step\n",
      "6/6 [==============================] - 0s 1ms/step\n",
      "6/6 [==============================] - 0s 1ms/step\n",
      "6/6 [==============================] - 0s 1ms/step\n",
      "6/6 [==============================] - 0s 1ms/step\n",
      "6/6 [==============================] - 0s 1ms/step\n",
      "6/6 [==============================] - 0s 986us/step\n",
      "6/6 [==============================] - 0s 998us/step\n",
      "6/6 [==============================] - 0s 1ms/step\n",
      "6/6 [==============================] - 0s 980us/step\n",
      "6/6 [==============================] - 0s 987us/step\n",
      "6/6 [==============================] - 0s 992us/step\n",
      "6/6 [==============================] - 0s 972us/step\n",
      "6/6 [==============================] - 0s 1ms/step\n",
      "6/6 [==============================] - 0s 1ms/step\n",
      "6/6 [==============================] - 0s 969us/step\n",
      "6/6 [==============================] - 0s 1ms/step\n",
      "6/6 [==============================] - 0s 1ms/step\n",
      "6/6 [==============================] - 0s 1ms/step\n",
      "6/6 [==============================] - 0s 1ms/step\n",
      "6/6 [==============================] - 0s 998us/step\n",
      "6/6 [==============================] - 0s 1ms/step\n",
      "6/6 [==============================] - 0s 1ms/step\n",
      "6/6 [==============================] - 0s 1ms/step\n"
     ]
    }
   ],
   "source": [
    "# Get aggregated and unaggregated ensemble predictions\n",
    "bag_pred, boot_preds = get_bagged_pred(bagged_model, X_test)"
   ]
  },
  {
   "cell_type": "code",
   "execution_count": 152,
   "metadata": {},
   "outputs": [
    {
     "data": {
      "text/plain": [
       "array([[0.03264397, 0.94588308, 0.02147297],\n",
       "       [0.04209376, 0.9383751 , 0.01953115],\n",
       "       [0.04834233, 0.92980878, 0.0218489 ]])"
      ]
     },
     "execution_count": 152,
     "metadata": {},
     "output_type": "execute_result"
    }
   ],
   "source": [
    "# Example of aggregated predictions\n",
    "bag_pred[:3]"
   ]
  },
  {
   "cell_type": "code",
   "execution_count": 153,
   "metadata": {},
   "outputs": [
    {
     "data": {
      "text/plain": [
       "(171, 3, 30)"
      ]
     },
     "execution_count": 153,
     "metadata": {},
     "output_type": "execute_result"
    }
   ],
   "source": [
    "# Shape of unaggregated ensemble predictions tensor\n",
    "boot_preds.shape"
   ]
  },
  {
   "cell_type": "code",
   "execution_count": 154,
   "metadata": {},
   "outputs": [
    {
     "name": "stdout",
     "output_type": "stream",
     "text": [
      "Bagged Acc: 0.9941520467836257\n"
     ]
    }
   ],
   "source": [
    "# Calculate bagged accuracy\n",
    "bag_acc = sum(bag_pred.argmax(axis=-1) == y_test.argmax(axis=-1))/bag_pred.shape[0]\n",
    "print('Bagged Acc:', bag_acc)"
   ]
  },
  {
   "attachments": {},
   "cell_type": "markdown",
   "metadata": {},
   "source": [
    "**The End** 🌈"
   ]
  },
  {
   "cell_type": "code",
   "execution_count": null,
   "metadata": {},
   "outputs": [],
   "source": []
  }
 ],
 "metadata": {
  "kernelspec": {
   "display_name": "Python 3 (ipykernel)",
   "language": "python",
   "name": "python3"
  },
  "language_info": {
   "codemirror_mode": {
    "name": "ipython",
    "version": 3
   },
   "file_extension": ".py",
   "mimetype": "text/x-python",
   "name": "python",
   "nbconvert_exporter": "python",
   "pygments_lexer": "ipython3",
   "version": "3.11.7"
  }
 },
 "nbformat": 4,
 "nbformat_minor": 4
}
